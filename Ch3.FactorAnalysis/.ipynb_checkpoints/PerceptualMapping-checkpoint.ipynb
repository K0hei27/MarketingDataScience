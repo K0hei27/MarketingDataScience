{
 "cells": [
  {
   "cell_type": "markdown",
   "metadata": {},
   "source": [
    "# 因子分析を用いた知覚マップ作成"
   ]
  },
  {
   "cell_type": "markdown",
   "metadata": {},
   "source": [
    "## 0. はじめに\n",
    "### 0.1. ゴール\n",
    "アンケートデータからビール市場における知覚マップを作成して，自社商品のポジショニングを見てみます．競合の商品と比較して，今後とるべきマーケティング戦略まで考えよう！\n",
    "### 0.2. データ\n",
    "アサヒ，キリン，サッポロ，エビス，サントリーの5社の商品（計10品）を対象とした，6つの項目に関するアンケートデータを使います．（各項目は5段階評価）なお、分析に使用するデータは事前に商品ごとの平均値で集計されています．\n",
    "\n",
    "- **アサヒ**\n",
    " - アサヒスーパードライ\n",
    " - アサヒ本生ドラフト\n",
    "- **キリン**\n",
    " - キリンラガービール\n",
    " - キリン一番絞り\n",
    " - 麒麟淡麗<生>\n",
    " - キリンのどごし\n",
    "- **サッポロ**\n",
    " - サッポロ生ビール黒ラベル\n",
    "- **エビス**\n",
    " - エビスビール\n",
    "- **サントリー**\n",
    " - サントリー・ザ・プレミアムモルツ\n",
    " - サントリー金麦\n",
    " \n",
    "### 0.3. 分析の流れ\n",
    "**1. データの読み込み**\n",
    ": 分析で使うデータがどんなデータなのかを確認します．\n",
    "\n",
    "**2. データの前処理**\n",
    ": 因子分析をするために，必要な処理をしていきます．\n",
    "\n",
    "**3. 因子分析**\n",
    ": 因子を見つけにいきます．\n",
    "\n",
    "**4. 結果の解釈**\n",
    ": 商品ごとに因子を見ていき，知覚マップを作成します．"
   ]
  },
  {
   "cell_type": "markdown",
   "metadata": {},
   "source": [
    "## 1. データの読み込み"
   ]
  },
  {
   "cell_type": "code",
   "execution_count": 6,
   "metadata": {},
   "outputs": [
    {
     "data": {
      "text/html": [
       "<div>\n",
       "<style scoped>\n",
       "    .dataframe tbody tr th:only-of-type {\n",
       "        vertical-align: middle;\n",
       "    }\n",
       "\n",
       "    .dataframe tbody tr th {\n",
       "        vertical-align: top;\n",
       "    }\n",
       "\n",
       "    .dataframe thead th {\n",
       "        text-align: right;\n",
       "    }\n",
       "</style>\n",
       "<table border=\"1\" class=\"dataframe\">\n",
       "  <thead>\n",
       "    <tr style=\"text-align: right;\">\n",
       "      <th></th>\n",
       "      <th>商品名</th>\n",
       "      <th>喉越しが良い</th>\n",
       "      <th>香りが良い</th>\n",
       "      <th>味が良い</th>\n",
       "      <th>幸せな気分になる</th>\n",
       "      <th>ほっとした気分になる</th>\n",
       "      <th>爽快な気分になる</th>\n",
       "    </tr>\n",
       "  </thead>\n",
       "  <tbody>\n",
       "    <tr>\n",
       "      <th>0</th>\n",
       "      <td>アサヒスーパードライ</td>\n",
       "      <td>4.08</td>\n",
       "      <td>3.47</td>\n",
       "      <td>3.72</td>\n",
       "      <td>3.53</td>\n",
       "      <td>3.42</td>\n",
       "      <td>3.90</td>\n",
       "    </tr>\n",
       "    <tr>\n",
       "      <th>1</th>\n",
       "      <td>キリンラガービール</td>\n",
       "      <td>3.72</td>\n",
       "      <td>3.70</td>\n",
       "      <td>3.73</td>\n",
       "      <td>3.53</td>\n",
       "      <td>3.54</td>\n",
       "      <td>3.58</td>\n",
       "    </tr>\n",
       "    <tr>\n",
       "      <th>2</th>\n",
       "      <td>キリン一番絞り</td>\n",
       "      <td>3.97</td>\n",
       "      <td>3.93</td>\n",
       "      <td>4.00</td>\n",
       "      <td>3.76</td>\n",
       "      <td>3.75</td>\n",
       "      <td>3.80</td>\n",
       "    </tr>\n",
       "    <tr>\n",
       "      <th>3</th>\n",
       "      <td>サッポロ生ビール黒ラベル</td>\n",
       "      <td>3.68</td>\n",
       "      <td>3.68</td>\n",
       "      <td>3.68</td>\n",
       "      <td>3.55</td>\n",
       "      <td>3.56</td>\n",
       "      <td>3.56</td>\n",
       "    </tr>\n",
       "    <tr>\n",
       "      <th>4</th>\n",
       "      <td>エビスビール</td>\n",
       "      <td>3.85</td>\n",
       "      <td>4.08</td>\n",
       "      <td>4.09</td>\n",
       "      <td>3.90</td>\n",
       "      <td>3.81</td>\n",
       "      <td>3.60</td>\n",
       "    </tr>\n",
       "  </tbody>\n",
       "</table>\n",
       "</div>"
      ],
      "text/plain": [
       "            商品名  喉越しが良い  香りが良い  味が良い  幸せな気分になる  ほっとした気分になる  爽快な気分になる\n",
       "0    アサヒスーパードライ    4.08   3.47  3.72      3.53        3.42      3.90\n",
       "1     キリンラガービール    3.72   3.70  3.73      3.53        3.54      3.58\n",
       "2       キリン一番絞り    3.97   3.93  4.00      3.76        3.75      3.80\n",
       "3  サッポロ生ビール黒ラベル    3.68   3.68  3.68      3.55        3.56      3.56\n",
       "4       エビスビール     3.85   4.08  4.09      3.90        3.81      3.60"
      ]
     },
     "execution_count": 6,
     "metadata": {},
     "output_type": "execute_result"
    }
   ],
   "source": [
    "import pandas as pd\n",
    "df = pd.read_csv('Beerdata.csv')\n",
    "df.head()"
   ]
  },
  {
   "cell_type": "markdown",
   "metadata": {},
   "source": [
    "## 2. データの前処理\n",
    "### 2.1. 分析に必要なデータを抽出\n",
    "因子分析ではアンケートの評価データ（数値）だけを使うので，商品名を抜いたデータを作成します．特定の列を削除する場合には```drop()```を使います．列を削除するので，```axis = 1```です．行を操作する場合には，```axis = 0 ```です．"
   ]
  },
  {
   "cell_type": "code",
   "execution_count": 7,
   "metadata": {},
   "outputs": [
    {
     "data": {
      "text/html": [
       "<div>\n",
       "<style scoped>\n",
       "    .dataframe tbody tr th:only-of-type {\n",
       "        vertical-align: middle;\n",
       "    }\n",
       "\n",
       "    .dataframe tbody tr th {\n",
       "        vertical-align: top;\n",
       "    }\n",
       "\n",
       "    .dataframe thead th {\n",
       "        text-align: right;\n",
       "    }\n",
       "</style>\n",
       "<table border=\"1\" class=\"dataframe\">\n",
       "  <thead>\n",
       "    <tr style=\"text-align: right;\">\n",
       "      <th></th>\n",
       "      <th>喉越しが良い</th>\n",
       "      <th>香りが良い</th>\n",
       "      <th>味が良い</th>\n",
       "      <th>幸せな気分になる</th>\n",
       "      <th>ほっとした気分になる</th>\n",
       "      <th>爽快な気分になる</th>\n",
       "    </tr>\n",
       "  </thead>\n",
       "  <tbody>\n",
       "    <tr>\n",
       "      <th>0</th>\n",
       "      <td>4.08</td>\n",
       "      <td>3.47</td>\n",
       "      <td>3.72</td>\n",
       "      <td>3.53</td>\n",
       "      <td>3.42</td>\n",
       "      <td>3.90</td>\n",
       "    </tr>\n",
       "    <tr>\n",
       "      <th>1</th>\n",
       "      <td>3.72</td>\n",
       "      <td>3.70</td>\n",
       "      <td>3.73</td>\n",
       "      <td>3.53</td>\n",
       "      <td>3.54</td>\n",
       "      <td>3.58</td>\n",
       "    </tr>\n",
       "    <tr>\n",
       "      <th>2</th>\n",
       "      <td>3.97</td>\n",
       "      <td>3.93</td>\n",
       "      <td>4.00</td>\n",
       "      <td>3.76</td>\n",
       "      <td>3.75</td>\n",
       "      <td>3.80</td>\n",
       "    </tr>\n",
       "    <tr>\n",
       "      <th>3</th>\n",
       "      <td>3.68</td>\n",
       "      <td>3.68</td>\n",
       "      <td>3.68</td>\n",
       "      <td>3.55</td>\n",
       "      <td>3.56</td>\n",
       "      <td>3.56</td>\n",
       "    </tr>\n",
       "    <tr>\n",
       "      <th>4</th>\n",
       "      <td>3.85</td>\n",
       "      <td>4.08</td>\n",
       "      <td>4.09</td>\n",
       "      <td>3.90</td>\n",
       "      <td>3.81</td>\n",
       "      <td>3.60</td>\n",
       "    </tr>\n",
       "  </tbody>\n",
       "</table>\n",
       "</div>"
      ],
      "text/plain": [
       "   喉越しが良い  香りが良い  味が良い  幸せな気分になる  ほっとした気分になる  爽快な気分になる\n",
       "0    4.08   3.47  3.72      3.53        3.42      3.90\n",
       "1    3.72   3.70  3.73      3.53        3.54      3.58\n",
       "2    3.97   3.93  4.00      3.76        3.75      3.80\n",
       "3    3.68   3.68  3.68      3.55        3.56      3.56\n",
       "4    3.85   4.08  4.09      3.90        3.81      3.60"
      ]
     },
     "execution_count": 7,
     "metadata": {},
     "output_type": "execute_result"
    }
   ],
   "source": [
    "df2 = df.drop('商品名', axis = 1)\n",
    "df2.head()"
   ]
  },
  {
   "cell_type": "markdown",
   "metadata": {},
   "source": [
    "### 2.2. 相関行列から固有値を算出\n",
    "因子分析ではまず，各アンケート項目の固有値を計算することが必要になります．この固有値は各アンケート項目間の相関を示す相関行列から算出されます．相関行列は```corr()```で計算されます．"
   ]
  },
  {
   "cell_type": "code",
   "execution_count": 8,
   "metadata": {},
   "outputs": [
    {
     "data": {
      "text/html": [
       "<div>\n",
       "<style scoped>\n",
       "    .dataframe tbody tr th:only-of-type {\n",
       "        vertical-align: middle;\n",
       "    }\n",
       "\n",
       "    .dataframe tbody tr th {\n",
       "        vertical-align: top;\n",
       "    }\n",
       "\n",
       "    .dataframe thead th {\n",
       "        text-align: right;\n",
       "    }\n",
       "</style>\n",
       "<table border=\"1\" class=\"dataframe\">\n",
       "  <thead>\n",
       "    <tr style=\"text-align: right;\">\n",
       "      <th></th>\n",
       "      <th>喉越しが良い</th>\n",
       "      <th>香りが良い</th>\n",
       "      <th>味が良い</th>\n",
       "      <th>幸せな気分になる</th>\n",
       "      <th>ほっとした気分になる</th>\n",
       "      <th>爽快な気分になる</th>\n",
       "    </tr>\n",
       "  </thead>\n",
       "  <tbody>\n",
       "    <tr>\n",
       "      <th>喉越しが良い</th>\n",
       "      <td>1.000000</td>\n",
       "      <td>0.623354</td>\n",
       "      <td>0.778155</td>\n",
       "      <td>0.716951</td>\n",
       "      <td>0.630211</td>\n",
       "      <td>0.978844</td>\n",
       "    </tr>\n",
       "    <tr>\n",
       "      <th>香りが良い</th>\n",
       "      <td>0.623354</td>\n",
       "      <td>1.000000</td>\n",
       "      <td>0.971400</td>\n",
       "      <td>0.977696</td>\n",
       "      <td>0.988987</td>\n",
       "      <td>0.587296</td>\n",
       "    </tr>\n",
       "    <tr>\n",
       "      <th>味が良い</th>\n",
       "      <td>0.778155</td>\n",
       "      <td>0.971400</td>\n",
       "      <td>1.000000</td>\n",
       "      <td>0.980141</td>\n",
       "      <td>0.957853</td>\n",
       "      <td>0.743062</td>\n",
       "    </tr>\n",
       "    <tr>\n",
       "      <th>幸せな気分になる</th>\n",
       "      <td>0.716951</td>\n",
       "      <td>0.977696</td>\n",
       "      <td>0.980141</td>\n",
       "      <td>1.000000</td>\n",
       "      <td>0.983663</td>\n",
       "      <td>0.686996</td>\n",
       "    </tr>\n",
       "    <tr>\n",
       "      <th>ほっとした気分になる</th>\n",
       "      <td>0.630211</td>\n",
       "      <td>0.988987</td>\n",
       "      <td>0.957853</td>\n",
       "      <td>0.983663</td>\n",
       "      <td>1.000000</td>\n",
       "      <td>0.603937</td>\n",
       "    </tr>\n",
       "    <tr>\n",
       "      <th>爽快な気分になる</th>\n",
       "      <td>0.978844</td>\n",
       "      <td>0.587296</td>\n",
       "      <td>0.743062</td>\n",
       "      <td>0.686996</td>\n",
       "      <td>0.603937</td>\n",
       "      <td>1.000000</td>\n",
       "    </tr>\n",
       "  </tbody>\n",
       "</table>\n",
       "</div>"
      ],
      "text/plain": [
       "              喉越しが良い     香りが良い      味が良い  幸せな気分になる  ほっとした気分になる  爽快な気分になる\n",
       "喉越しが良い      1.000000  0.623354  0.778155  0.716951    0.630211  0.978844\n",
       "香りが良い       0.623354  1.000000  0.971400  0.977696    0.988987  0.587296\n",
       "味が良い        0.778155  0.971400  1.000000  0.980141    0.957853  0.743062\n",
       "幸せな気分になる    0.716951  0.977696  0.980141  1.000000    0.983663  0.686996\n",
       "ほっとした気分になる  0.630211  0.988987  0.957853  0.983663    1.000000  0.603937\n",
       "爽快な気分になる    0.978844  0.587296  0.743062  0.686996    0.603937  1.000000"
      ]
     },
     "execution_count": 8,
     "metadata": {},
     "output_type": "execute_result"
    }
   ],
   "source": [
    "#相関行列\n",
    "cor = df2.corr()\n",
    "cor"
   ]
  },
  {
   "cell_type": "markdown",
   "metadata": {},
   "source": [
    "相関行列は数字がごちゃごちゃして見づらいですよね．そんな時にはヒートマップで可視化してあげます．```seaborn```ライブラリの```sns.heatmap()```で作成出来ます．引数などの詳細は[こちら](https://qiita.com/Tom-tom-tom/items/f0e7800fbe72fd729a8d)を参考にどうぞ．"
   ]
  },
  {
   "cell_type": "code",
   "execution_count": 10,
   "metadata": {},
   "outputs": [
    {
     "data": {
      "text/plain": [
       "<matplotlib.axes._subplots.AxesSubplot at 0x12a507210>"
      ]
     },
     "execution_count": 10,
     "metadata": {},
     "output_type": "execute_result"
    },
    {
     "data": {
      "image/png": "[encoded data removed]",
      "text/plain": [
       "<Figure size 432x288 with 2 Axes>"
      ]
     },
     "metadata": {
      "needs_background": "light"
     },
     "output_type": "display_data"
    }
   ],
   "source": [
    "# 相関行列の可視化\n",
    "import seaborn as sns\n",
    "import japanize_matplotlib\n",
    "sns.heatmap(cor, cmap= sns.color_palette('coolwarm', 10), annot=True,fmt='.2f', vmin = -1, vmax = 1)"
   ]
  },
  {
   "cell_type": "markdown",
   "metadata": {},
   "source": [
    "相関行列から固有値を計算していきます．"
   ]
  },
  {
   "cell_type": "code",
   "execution_count": 11,
   "metadata": {},
   "outputs": [
    {
     "data": {
      "text/plain": [
       "array([5.09068399e+00, 8.51302659e-01, 3.02191631e-02, 1.63721947e-02,\n",
       "       9.97716606e-03, 1.44483066e-03])"
      ]
     },
     "execution_count": 11,
     "metadata": {},
     "output_type": "execute_result"
    }
   ],
   "source": [
    "# 必要なライブラリのインポート\n",
    "import numpy as np\n",
    "from numpy import linalg as LA\n",
    "# 相関行列から固有値の算出\n",
    "eigenv = LA.eigvals(cor)\n",
    "eigenv"
   ]
  },
  {
   "cell_type": "markdown",
   "metadata": {},
   "source": [
    "### 2.3. 因子数の決定\n",
    "今回はスクリープロットという方法で因子の数を決めていきます．固有値をプロットしてみて，ガクッと下がっている数あるいは1を下回る数が最適な因子の数です．```matplotlib```ライブラリの```plot()```コマンドでグラフを作成出来ます．```hline()```でy=1の直線を引いています．"
   ]
  },
  {
   "cell_type": "code",
   "execution_count": 15,
   "metadata": {},
   "outputs": [
    {
     "data": {
      "text/plain": [
       "Text(0, 0.5, '固有値')"
      ]
     },
     "execution_count": 15,
     "metadata": {},
     "output_type": "execute_result"
    },
    {
     "data": {
      "image/png": "[encoded data removed]",
      "text/plain": [
       "<Figure size 432x288 with 1 Axes>"
      ]
     },
     "metadata": {
      "needs_background": "light"
     },
     "output_type": "display_data"
    }
   ],
   "source": [
    "import matplotlib.pyplot as plt\n",
    "plt.plot(eigenv)\n",
    "plt.hlines([1], 0, 5, 'orange', linestyles='dashed')\n",
    "plt.title('スクリープロット')\n",
    "plt.xlabel('因子の数')\n",
    "plt.ylabel('固有値')"
   ]
  },
  {
   "cell_type": "markdown",
   "metadata": {},
   "source": [
    "**Pythonは0から始まることに注意してください！**グラフのx軸を見てみると1でガクッと下がり，かつ1を下回っているので，因子の数は2個が最適そうですね．"
   ]
  },
  {
   "cell_type": "markdown",
   "metadata": {},
   "source": [
    "## 3. 因子分析\n",
    "### 3.1. 正規化\n",
    "因子分析では，データは標準正規分布に従っているとするので、データを標準正規化します．いろいろ方法はありますが，今回は```sklearn.preprocessing```の```scale```という関数を使用します．"
   ]
  },
  {
   "cell_type": "code",
   "execution_count": 16,
   "metadata": {},
   "outputs": [],
   "source": [
    "from sklearn.preprocessing import scale\n",
    "df_scaled = scale(df2)"
   ]
  },
  {
   "cell_type": "markdown",
   "metadata": {},
   "source": [
    "### 3.2. 因子負荷量の算出\n",
    "やっと因子分析です！各アンケート項目に対して因子負荷量を計算していきます．因子負荷量は各項目がどの程度因子の影響を受けているかを表しています．```FactorAnalyzer```を使うと因子分析をすることが出来ます．"
   ]
  },
  {
   "cell_type": "code",
   "execution_count": 50,
   "metadata": {},
   "outputs": [
    {
     "data": {
      "text/plain": [
       "array([[ 0.02614919,  0.98055027],\n",
       "       [ 1.0500065 , -0.08220676],\n",
       "       [ 0.83843629,  0.21401593],\n",
       "       [ 0.92736707,  0.09598593],\n",
       "       [ 1.02792171, -0.05652388],\n",
       "       [-0.01107051,  0.98815103]])"
      ]
     },
     "execution_count": 50,
     "metadata": {},
     "output_type": "execute_result"
    }
   ],
   "source": [
    "from factor_analyzer import FactorAnalyzer\n",
    "fa_promax =FactorAnalyzer(n_factors=2, rotation='promax')\n",
    "fa_promax_fit = fa_promax.fit(df_scaled)\n",
    "fa_promax.loadings_"
   ]
  },
  {
   "cell_type": "markdown",
   "metadata": {},
   "source": [
    "### 3.3. 因子の解釈"
   ]
  },
  {
   "cell_type": "markdown",
   "metadata": {},
   "source": [
    "因子負荷量を可視化して，それぞれの因子に名前をつけてみましょう．ここでマーケターのセンスが問われます．"
   ]
  },
  {
   "cell_type": "code",
   "execution_count": 51,
   "metadata": {},
   "outputs": [
    {
     "data": {
      "text/plain": [
       "<matplotlib.axes._subplots.AxesSubplot at 0x124d24210>"
      ]
     },
     "execution_count": 51,
     "metadata": {},
     "output_type": "execute_result"
    },
    {
     "data": {
      "image/png": "[encoded data removed]",
      "text/plain": [
       "<Figure size 720x720 with 2 Axes>"
      ]
     },
     "metadata": {
      "needs_background": "light"
     },
     "output_type": "display_data"
    }
   ],
   "source": [
    "import seaborn as sns\n",
    "column = df2.columns\n",
    "plt.figure(figsize=(10, 10))\n",
    "sns.heatmap(data=fa_promax.loadings_,\n",
    "                square=True, vmax=1, vmin=-1, center=0, annot=True,\n",
    "            cmap='RdBu_r',yticklabels=column, xticklabels=[\"Factor1\",\"Factor2\"])"
   ]
  },
  {
   "cell_type": "markdown",
   "metadata": {},
   "source": [
    "別の可視化の方法もあります"
   ]
  },
  {
   "cell_type": "code",
   "execution_count": 54,
   "metadata": {},
   "outputs": [
    {
     "data": {
      "text/html": [
       "<style  type=\"text/css\" >\n",
       "    #T_ca707636_dca4_11ea_a470_acde48001122row0_col0 {\n",
       "            background-color:  #e6f5fb;\n",
       "            color:  #000000;\n",
       "        }    #T_ca707636_dca4_11ea_a470_acde48001122row0_col1 {\n",
       "            background-color:  #87ceeb;\n",
       "            color:  #000000;\n",
       "        }    #T_ca707636_dca4_11ea_a470_acde48001122row1_col0 {\n",
       "            background-color:  #87ceeb;\n",
       "            color:  #000000;\n",
       "        }    #T_ca707636_dca4_11ea_a470_acde48001122row1_col1 {\n",
       "            background-color:  #e9f6fb;\n",
       "            color:  #000000;\n",
       "        }    #T_ca707636_dca4_11ea_a470_acde48001122row2_col0 {\n",
       "            background-color:  #9bd6ee;\n",
       "            color:  #000000;\n",
       "        }    #T_ca707636_dca4_11ea_a470_acde48001122row2_col1 {\n",
       "            background-color:  #ceebf7;\n",
       "            color:  #000000;\n",
       "        }    #T_ca707636_dca4_11ea_a470_acde48001122row3_col0 {\n",
       "            background-color:  #92d3ed;\n",
       "            color:  #000000;\n",
       "        }    #T_ca707636_dca4_11ea_a470_acde48001122row3_col1 {\n",
       "            background-color:  #d9eff9;\n",
       "            color:  #000000;\n",
       "        }    #T_ca707636_dca4_11ea_a470_acde48001122row4_col0 {\n",
       "            background-color:  #89cfeb;\n",
       "            color:  #000000;\n",
       "        }    #T_ca707636_dca4_11ea_a470_acde48001122row4_col1 {\n",
       "            background-color:  #e7f5fb;\n",
       "            color:  #000000;\n",
       "        }    #T_ca707636_dca4_11ea_a470_acde48001122row5_col0 {\n",
       "            background-color:  #e9f6fb;\n",
       "            color:  #000000;\n",
       "        }    #T_ca707636_dca4_11ea_a470_acde48001122row5_col1 {\n",
       "            background-color:  #87ceeb;\n",
       "            color:  #000000;\n",
       "        }</style><table id=\"T_ca707636_dca4_11ea_a470_acde48001122\" ><thead>    <tr>        <th class=\"blank level0\" ></th>        <th class=\"col_heading level0 col0\" >Factor1</th>        <th class=\"col_heading level0 col1\" >Factor2</th>    </tr></thead><tbody>\n",
       "                <tr>\n",
       "                        <th id=\"T_ca707636_dca4_11ea_a470_acde48001122level0_row0\" class=\"row_heading level0 row0\" >喉越しが良い</th>\n",
       "                        <td id=\"T_ca707636_dca4_11ea_a470_acde48001122row0_col0\" class=\"data row0 col0\" >0.0261492</td>\n",
       "                        <td id=\"T_ca707636_dca4_11ea_a470_acde48001122row0_col1\" class=\"data row0 col1\" >0.98055</td>\n",
       "            </tr>\n",
       "            <tr>\n",
       "                        <th id=\"T_ca707636_dca4_11ea_a470_acde48001122level0_row1\" class=\"row_heading level0 row1\" >香りが良い</th>\n",
       "                        <td id=\"T_ca707636_dca4_11ea_a470_acde48001122row1_col0\" class=\"data row1 col0\" >1.05001</td>\n",
       "                        <td id=\"T_ca707636_dca4_11ea_a470_acde48001122row1_col1\" class=\"data row1 col1\" >-0.0822068</td>\n",
       "            </tr>\n",
       "            <tr>\n",
       "                        <th id=\"T_ca707636_dca4_11ea_a470_acde48001122level0_row2\" class=\"row_heading level0 row2\" >味が良い</th>\n",
       "                        <td id=\"T_ca707636_dca4_11ea_a470_acde48001122row2_col0\" class=\"data row2 col0\" >0.838436</td>\n",
       "                        <td id=\"T_ca707636_dca4_11ea_a470_acde48001122row2_col1\" class=\"data row2 col1\" >0.214016</td>\n",
       "            </tr>\n",
       "            <tr>\n",
       "                        <th id=\"T_ca707636_dca4_11ea_a470_acde48001122level0_row3\" class=\"row_heading level0 row3\" >幸せな気分になる</th>\n",
       "                        <td id=\"T_ca707636_dca4_11ea_a470_acde48001122row3_col0\" class=\"data row3 col0\" >0.927367</td>\n",
       "                        <td id=\"T_ca707636_dca4_11ea_a470_acde48001122row3_col1\" class=\"data row3 col1\" >0.0959859</td>\n",
       "            </tr>\n",
       "            <tr>\n",
       "                        <th id=\"T_ca707636_dca4_11ea_a470_acde48001122level0_row4\" class=\"row_heading level0 row4\" >ほっとした気分になる</th>\n",
       "                        <td id=\"T_ca707636_dca4_11ea_a470_acde48001122row4_col0\" class=\"data row4 col0\" >1.02792</td>\n",
       "                        <td id=\"T_ca707636_dca4_11ea_a470_acde48001122row4_col1\" class=\"data row4 col1\" >-0.0565239</td>\n",
       "            </tr>\n",
       "            <tr>\n",
       "                        <th id=\"T_ca707636_dca4_11ea_a470_acde48001122level0_row5\" class=\"row_heading level0 row5\" >爽快な気分になる</th>\n",
       "                        <td id=\"T_ca707636_dca4_11ea_a470_acde48001122row5_col0\" class=\"data row5 col0\" >-0.0110705</td>\n",
       "                        <td id=\"T_ca707636_dca4_11ea_a470_acde48001122row5_col1\" class=\"data row5 col1\" >0.988151</td>\n",
       "            </tr>\n",
       "    </tbody></table>"
      ],
      "text/plain": [
       "<pandas.io.formats.style.Styler at 0x124bec810>"
      ]
     },
     "execution_count": 54,
     "metadata": {},
     "output_type": "execute_result"
    }
   ],
   "source": [
    "result_promax = pd.DataFrame(fa_promax.loadings_, index = column, columns = [\"Factor1\",\"Factor2\"])\n",
    "import seaborn as sns\n",
    "cm = sns.light_palette(\"skyblue\", as_cmap=True)\n",
    "result_promax.style.background_gradient(cmap=cm)"
   ]
  },
  {
   "cell_type": "markdown",
   "metadata": {},
   "source": [
    "### バリマックス回転 ver."
   ]
  },
  {
   "cell_type": "code",
   "execution_count": 60,
   "metadata": {},
   "outputs": [
    {
     "data": {
      "text/html": [
       "<style  type=\"text/css\" >\n",
       "    #T_4a7f1e18_dca5_11ea_a470_acde48001122row0_col0 {\n",
       "            background-color:  #e4f4fb;\n",
       "            color:  #000000;\n",
       "        }    #T_4a7f1e18_dca5_11ea_a470_acde48001122row0_col1 {\n",
       "            background-color:  #87ceeb;\n",
       "            color:  #000000;\n",
       "        }    #T_4a7f1e18_dca5_11ea_a470_acde48001122row1_col0 {\n",
       "            background-color:  #87ceeb;\n",
       "            color:  #000000;\n",
       "        }    #T_4a7f1e18_dca5_11ea_a470_acde48001122row1_col1 {\n",
       "            background-color:  #e9f6fb;\n",
       "            color:  #000000;\n",
       "        }    #T_4a7f1e18_dca5_11ea_a470_acde48001122row2_col0 {\n",
       "            background-color:  #96d4ed;\n",
       "            color:  #000000;\n",
       "        }    #T_4a7f1e18_dca5_11ea_a470_acde48001122row2_col1 {\n",
       "            background-color:  #cae9f6;\n",
       "            color:  #000000;\n",
       "        }    #T_4a7f1e18_dca5_11ea_a470_acde48001122row3_col0 {\n",
       "            background-color:  #8fd1ec;\n",
       "            color:  #000000;\n",
       "        }    #T_4a7f1e18_dca5_11ea_a470_acde48001122row3_col1 {\n",
       "            background-color:  #d6eef8;\n",
       "            color:  #000000;\n",
       "        }    #T_4a7f1e18_dca5_11ea_a470_acde48001122row4_col0 {\n",
       "            background-color:  #89cfeb;\n",
       "            color:  #000000;\n",
       "        }    #T_4a7f1e18_dca5_11ea_a470_acde48001122row4_col1 {\n",
       "            background-color:  #e7f5fb;\n",
       "            color:  #000000;\n",
       "        }    #T_4a7f1e18_dca5_11ea_a470_acde48001122row5_col0 {\n",
       "            background-color:  #e9f6fb;\n",
       "            color:  #000000;\n",
       "        }    #T_4a7f1e18_dca5_11ea_a470_acde48001122row5_col1 {\n",
       "            background-color:  #88ceeb;\n",
       "            color:  #000000;\n",
       "        }</style><table id=\"T_4a7f1e18_dca5_11ea_a470_acde48001122\" ><thead>    <tr>        <th class=\"blank level0\" ></th>        <th class=\"col_heading level0 col0\" >Factor1</th>        <th class=\"col_heading level0 col1\" >Factor2</th>    </tr></thead><tbody>\n",
       "                <tr>\n",
       "                        <th id=\"T_4a7f1e18_dca5_11ea_a470_acde48001122level0_row0\" class=\"row_heading level0 row0\" >喉越しが良い</th>\n",
       "                        <td id=\"T_4a7f1e18_dca5_11ea_a470_acde48001122row0_col0\" class=\"data row0 col0\" >0.372827</td>\n",
       "                        <td id=\"T_4a7f1e18_dca5_11ea_a470_acde48001122row0_col1\" class=\"data row0 col1\" >0.925669</td>\n",
       "            </tr>\n",
       "            <tr>\n",
       "                        <th id=\"T_4a7f1e18_dca5_11ea_a470_acde48001122level0_row1\" class=\"row_heading level0 row1\" >香りが良い</th>\n",
       "                        <td id=\"T_4a7f1e18_dca5_11ea_a470_acde48001122row1_col0\" class=\"data row1 col0\" >0.955722</td>\n",
       "                        <td id=\"T_4a7f1e18_dca5_11ea_a470_acde48001122row1_col1\" class=\"data row1 col1\" >0.28708</td>\n",
       "            </tr>\n",
       "            <tr>\n",
       "                        <th id=\"T_4a7f1e18_dca5_11ea_a470_acde48001122level0_row2\" class=\"row_heading level0 row2\" >味が良い</th>\n",
       "                        <td id=\"T_4a7f1e18_dca5_11ea_a470_acde48001122row2_col0\" class=\"data row2 col0\" >0.862486</td>\n",
       "                        <td id=\"T_4a7f1e18_dca5_11ea_a470_acde48001122row2_col1\" class=\"data row2 col1\" >0.490656</td>\n",
       "            </tr>\n",
       "            <tr>\n",
       "                        <th id=\"T_4a7f1e18_dca5_11ea_a470_acde48001122level0_row3\" class=\"row_heading level0 row3\" >幸せな気分になる</th>\n",
       "                        <td id=\"T_4a7f1e18_dca5_11ea_a470_acde48001122row3_col0\" class=\"data row3 col0\" >0.90398</td>\n",
       "                        <td id=\"T_4a7f1e18_dca5_11ea_a470_acde48001122row3_col1\" class=\"data row3 col1\" >0.411146</td>\n",
       "            </tr>\n",
       "            <tr>\n",
       "                        <th id=\"T_4a7f1e18_dca5_11ea_a470_acde48001122level0_row4\" class=\"row_heading level0 row4\" >ほっとした気分になる</th>\n",
       "                        <td id=\"T_4a7f1e18_dca5_11ea_a470_acde48001122row4_col0\" class=\"data row4 col0\" >0.944129</td>\n",
       "                        <td id=\"T_4a7f1e18_dca5_11ea_a470_acde48001122row4_col1\" class=\"data row4 col1\" >0.303433</td>\n",
       "            </tr>\n",
       "            <tr>\n",
       "                        <th id=\"T_4a7f1e18_dca5_11ea_a470_acde48001122level0_row5\" class=\"row_heading level0 row5\" >爽快な気分になる</th>\n",
       "                        <td id=\"T_4a7f1e18_dca5_11ea_a470_acde48001122row5_col0\" class=\"data row5 col0\" >0.340615</td>\n",
       "                        <td id=\"T_4a7f1e18_dca5_11ea_a470_acde48001122row5_col1\" class=\"data row5 col1\" >0.919874</td>\n",
       "            </tr>\n",
       "    </tbody></table>"
      ],
      "text/plain": [
       "<pandas.io.formats.style.Styler at 0x124bec750>"
      ]
     },
     "execution_count": 60,
     "metadata": {},
     "output_type": "execute_result"
    }
   ],
   "source": [
    "fa_varimax =FactorAnalyzer(n_factors=2, rotation='varimax')\n",
    "fa_varimax_fit = fa_varimax.fit(df_scaled)\n",
    "result_varimax = pd.DataFrame(fa_varimax.loadings_, index = column, columns = [\"Factor1\",\"Factor2\"])\n",
    "result_varimax.style.background_gradient(cmap=cm)"
   ]
  },
  {
   "cell_type": "markdown",
   "metadata": {},
   "source": [
    "## 4. 結果の解釈：知覚マップ作成\n",
    "### 4.1. 因子得点の算出"
   ]
  },
  {
   "cell_type": "markdown",
   "metadata": {},
   "source": [
    "プロマックス回転"
   ]
  },
  {
   "cell_type": "code",
   "execution_count": 55,
   "metadata": {},
   "outputs": [
    {
     "name": "stderr",
     "output_type": "stream",
     "text": [
      "/usr/local/lib/python3.7/site-packages/sklearn/utils/validation.py:933: FutureWarning: Passing attributes to check_is_fitted is deprecated and will be removed in 0.23. The attributes argument is ignored.\n",
      "  \"argument is ignored.\", FutureWarning)\n"
     ]
    }
   ],
   "source": [
    "score_promax = fa_promax.transform(df_scaled)"
   ]
  },
  {
   "cell_type": "code",
   "execution_count": 56,
   "metadata": {},
   "outputs": [
    {
     "data": {
      "text/html": [
       "<div>\n",
       "<style scoped>\n",
       "    .dataframe tbody tr th:only-of-type {\n",
       "        vertical-align: middle;\n",
       "    }\n",
       "\n",
       "    .dataframe tbody tr th {\n",
       "        vertical-align: top;\n",
       "    }\n",
       "\n",
       "    .dataframe thead th {\n",
       "        text-align: right;\n",
       "    }\n",
       "</style>\n",
       "<table border=\"1\" class=\"dataframe\">\n",
       "  <thead>\n",
       "    <tr style=\"text-align: right;\">\n",
       "      <th></th>\n",
       "      <th>Factor1</th>\n",
       "      <th>Factor2</th>\n",
       "    </tr>\n",
       "  </thead>\n",
       "  <tbody>\n",
       "    <tr>\n",
       "      <th>0</th>\n",
       "      <td>-0.258997</td>\n",
       "      <td>1.558478</td>\n",
       "    </tr>\n",
       "    <tr>\n",
       "      <th>1</th>\n",
       "      <td>0.221555</td>\n",
       "      <td>-0.148181</td>\n",
       "    </tr>\n",
       "    <tr>\n",
       "      <th>2</th>\n",
       "      <td>1.004209</td>\n",
       "      <td>1.061506</td>\n",
       "    </tr>\n",
       "    <tr>\n",
       "      <th>3</th>\n",
       "      <td>0.217976</td>\n",
       "      <td>-0.309020</td>\n",
       "    </tr>\n",
       "    <tr>\n",
       "      <th>4</th>\n",
       "      <td>1.519649</td>\n",
       "      <td>0.419695</td>\n",
       "    </tr>\n",
       "  </tbody>\n",
       "</table>\n",
       "</div>"
      ],
      "text/plain": [
       "    Factor1   Factor2\n",
       "0 -0.258997  1.558478\n",
       "1  0.221555 -0.148181\n",
       "2  1.004209  1.061506\n",
       "3  0.217976 -0.309020\n",
       "4  1.519649  0.419695"
      ]
     },
     "execution_count": 56,
     "metadata": {},
     "output_type": "execute_result"
    }
   ],
   "source": [
    "df_promax = pd.DataFrame(score_promax, columns = [\"Factor1\", \"Factor2\"])\n",
    "df_promax.head()"
   ]
  },
  {
   "cell_type": "code",
   "execution_count": 57,
   "metadata": {},
   "outputs": [
    {
     "data": {
      "text/html": [
       "<div>\n",
       "<style scoped>\n",
       "    .dataframe tbody tr th:only-of-type {\n",
       "        vertical-align: middle;\n",
       "    }\n",
       "\n",
       "    .dataframe tbody tr th {\n",
       "        vertical-align: top;\n",
       "    }\n",
       "\n",
       "    .dataframe thead th {\n",
       "        text-align: right;\n",
       "    }\n",
       "</style>\n",
       "<table border=\"1\" class=\"dataframe\">\n",
       "  <thead>\n",
       "    <tr style=\"text-align: right;\">\n",
       "      <th></th>\n",
       "      <th>商品名</th>\n",
       "      <th>Factor1</th>\n",
       "      <th>Factor2</th>\n",
       "    </tr>\n",
       "  </thead>\n",
       "  <tbody>\n",
       "    <tr>\n",
       "      <th>0</th>\n",
       "      <td>アサヒスーパードライ</td>\n",
       "      <td>-0.258997</td>\n",
       "      <td>1.558478</td>\n",
       "    </tr>\n",
       "    <tr>\n",
       "      <th>1</th>\n",
       "      <td>キリンラガービール</td>\n",
       "      <td>0.221555</td>\n",
       "      <td>-0.148181</td>\n",
       "    </tr>\n",
       "    <tr>\n",
       "      <th>2</th>\n",
       "      <td>キリン一番絞り</td>\n",
       "      <td>1.004209</td>\n",
       "      <td>1.061506</td>\n",
       "    </tr>\n",
       "    <tr>\n",
       "      <th>3</th>\n",
       "      <td>サッポロ生ビール黒ラベル</td>\n",
       "      <td>0.217976</td>\n",
       "      <td>-0.309020</td>\n",
       "    </tr>\n",
       "    <tr>\n",
       "      <th>4</th>\n",
       "      <td>エビスビール</td>\n",
       "      <td>1.519649</td>\n",
       "      <td>0.419695</td>\n",
       "    </tr>\n",
       "    <tr>\n",
       "      <th>5</th>\n",
       "      <td>サントリー・ザ・プレミアムモルツ</td>\n",
       "      <td>1.465437</td>\n",
       "      <td>0.991396</td>\n",
       "    </tr>\n",
       "    <tr>\n",
       "      <th>6</th>\n",
       "      <td>アサヒ本生ドラフト</td>\n",
       "      <td>-1.051923</td>\n",
       "      <td>-0.981390</td>\n",
       "    </tr>\n",
       "    <tr>\n",
       "      <th>7</th>\n",
       "      <td>麒麟淡麗&lt;生&gt;</td>\n",
       "      <td>-1.020276</td>\n",
       "      <td>-0.056787</td>\n",
       "    </tr>\n",
       "    <tr>\n",
       "      <th>8</th>\n",
       "      <td>キリンのどごし</td>\n",
       "      <td>-0.935418</td>\n",
       "      <td>-0.576605</td>\n",
       "    </tr>\n",
       "    <tr>\n",
       "      <th>9</th>\n",
       "      <td>サントリー金麦</td>\n",
       "      <td>-1.162212</td>\n",
       "      <td>-1.959094</td>\n",
       "    </tr>\n",
       "  </tbody>\n",
       "</table>\n",
       "</div>"
      ],
      "text/plain": [
       "                商品名   Factor1   Factor2\n",
       "0        アサヒスーパードライ -0.258997  1.558478\n",
       "1         キリンラガービール  0.221555 -0.148181\n",
       "2           キリン一番絞り  1.004209  1.061506\n",
       "3      サッポロ生ビール黒ラベル  0.217976 -0.309020\n",
       "4           エビスビール   1.519649  0.419695\n",
       "5  サントリー・ザ・プレミアムモルツ  1.465437  0.991396\n",
       "6         アサヒ本生ドラフト -1.051923 -0.981390\n",
       "7           麒麟淡麗<生> -1.020276 -0.056787\n",
       "8          キリンのどごし  -0.935418 -0.576605\n",
       "9          サントリー金麦  -1.162212 -1.959094"
      ]
     },
     "execution_count": 57,
     "metadata": {},
     "output_type": "execute_result"
    }
   ],
   "source": [
    "df_promax2 = pd.concat([df.商品名, df_promax], axis = 1)\n",
    "df_promax2"
   ]
  },
  {
   "cell_type": "markdown",
   "metadata": {},
   "source": []
  },
  {
   "cell_type": "markdown",
   "metadata": {},
   "source": [
    "バリマックス回転"
   ]
  },
  {
   "cell_type": "code",
   "execution_count": 59,
   "metadata": {},
   "outputs": [
    {
     "name": "stderr",
     "output_type": "stream",
     "text": [
      "/usr/local/lib/python3.7/site-packages/sklearn/utils/validation.py:933: FutureWarning: Passing attributes to check_is_fitted is deprecated and will be removed in 0.23. The attributes argument is ignored.\n",
      "  \"argument is ignored.\", FutureWarning)\n"
     ]
    },
    {
     "data": {
      "text/html": [
       "<div>\n",
       "<style scoped>\n",
       "    .dataframe tbody tr th:only-of-type {\n",
       "        vertical-align: middle;\n",
       "    }\n",
       "\n",
       "    .dataframe tbody tr th {\n",
       "        vertical-align: top;\n",
       "    }\n",
       "\n",
       "    .dataframe thead th {\n",
       "        text-align: right;\n",
       "    }\n",
       "</style>\n",
       "<table border=\"1\" class=\"dataframe\">\n",
       "  <thead>\n",
       "    <tr style=\"text-align: right;\">\n",
       "      <th></th>\n",
       "      <th>商品名</th>\n",
       "      <th>Factor1</th>\n",
       "      <th>Factor2</th>\n",
       "    </tr>\n",
       "  </thead>\n",
       "  <tbody>\n",
       "    <tr>\n",
       "      <th>0</th>\n",
       "      <td>アサヒスーパードライ</td>\n",
       "      <td>-1.037856</td>\n",
       "      <td>2.061573</td>\n",
       "    </tr>\n",
       "    <tr>\n",
       "      <th>1</th>\n",
       "      <td>キリンラガービール</td>\n",
       "      <td>0.342914</td>\n",
       "      <td>-0.288821</td>\n",
       "    </tr>\n",
       "    <tr>\n",
       "      <th>2</th>\n",
       "      <td>キリン一番絞り</td>\n",
       "      <td>0.757312</td>\n",
       "      <td>0.847790</td>\n",
       "    </tr>\n",
       "    <tr>\n",
       "      <th>3</th>\n",
       "      <td>サッポロ生ビール黒ラベル</td>\n",
       "      <td>0.412435</td>\n",
       "      <td>-0.487298</td>\n",
       "    </tr>\n",
       "    <tr>\n",
       "      <th>4</th>\n",
       "      <td>エビスビール</td>\n",
       "      <td>1.691695</td>\n",
       "      <td>-0.193850</td>\n",
       "    </tr>\n",
       "    <tr>\n",
       "      <th>5</th>\n",
       "      <td>サントリー・ザ・プレミアムモルツ</td>\n",
       "      <td>1.361572</td>\n",
       "      <td>0.543177</td>\n",
       "    </tr>\n",
       "    <tr>\n",
       "      <th>6</th>\n",
       "      <td>アサヒ本生ドラフト</td>\n",
       "      <td>-0.853328</td>\n",
       "      <td>-0.725599</td>\n",
       "    </tr>\n",
       "    <tr>\n",
       "      <th>7</th>\n",
       "      <td>麒麟淡麗&lt;生&gt;</td>\n",
       "      <td>-1.239246</td>\n",
       "      <td>0.410150</td>\n",
       "    </tr>\n",
       "    <tr>\n",
       "      <th>8</th>\n",
       "      <td>キリンのどごし</td>\n",
       "      <td>-0.894972</td>\n",
       "      <td>-0.276752</td>\n",
       "    </tr>\n",
       "    <tr>\n",
       "      <th>9</th>\n",
       "      <td>サントリー金麦</td>\n",
       "      <td>-0.540525</td>\n",
       "      <td>-1.890371</td>\n",
       "    </tr>\n",
       "  </tbody>\n",
       "</table>\n",
       "</div>"
      ],
      "text/plain": [
       "                商品名   Factor1   Factor2\n",
       "0        アサヒスーパードライ -1.037856  2.061573\n",
       "1         キリンラガービール  0.342914 -0.288821\n",
       "2           キリン一番絞り  0.757312  0.847790\n",
       "3      サッポロ生ビール黒ラベル  0.412435 -0.487298\n",
       "4           エビスビール   1.691695 -0.193850\n",
       "5  サントリー・ザ・プレミアムモルツ  1.361572  0.543177\n",
       "6         アサヒ本生ドラフト -0.853328 -0.725599\n",
       "7           麒麟淡麗<生> -1.239246  0.410150\n",
       "8          キリンのどごし  -0.894972 -0.276752\n",
       "9          サントリー金麦  -0.540525 -1.890371"
      ]
     },
     "execution_count": 59,
     "metadata": {},
     "output_type": "execute_result"
    }
   ],
   "source": [
    "score_varimax = fa_varimax.transform(df_scaled)\n",
    "df_varimax = pd.DataFrame(score_varimax, columns = [\"Factor1\", \"Factor2\"])\n",
    "df_varimax2 = pd.concat([df.商品名, df_varimax], axis = 1)\n",
    "df_varimax2"
   ]
  },
  {
   "cell_type": "markdown",
   "metadata": {},
   "source": [
    "### 4.2. 知覚マップ作成"
   ]
  },
  {
   "cell_type": "markdown",
   "metadata": {},
   "source": [
    "プロマックス回転"
   ]
  },
  {
   "cell_type": "code",
   "execution_count": 95,
   "metadata": {},
   "outputs": [
    {
     "data": {
      "image/png": "[encoded data removed]",
      "text/plain": [
       "<Figure size 720x720 with 1 Axes>"
      ]
     },
     "metadata": {
      "needs_background": "light"
     },
     "output_type": "display_data"
    }
   ],
   "source": [
    "plt.figure(figsize=(10, 10))\n",
    "plt.plot(df_promax2.Factor1, df_promax2.Factor2, \"o\")\n",
    "plt.hlines([0], -2.5, 2.5, 'gray', linestyles='dashed')\n",
    "plt.vlines([0], -2.5, 2.5, 'gray', linestyles='dashed')\n",
    "plt.xlabel('Factor1',size = 15)\n",
    "plt.ylabel('Factor2',size = 15)\n",
    "plt.title('Perceptual Mapping: promax',size = 20)\n",
    "\n",
    "for i in range(len(df_varimax2)) :\n",
    "    plt.text(df_promax2.iloc[i,1],df_promax2.iloc[i,2],df_promax2.iloc[i,0], size = 15)"
   ]
  },
  {
   "cell_type": "markdown",
   "metadata": {},
   "source": [
    "バリマックス回転"
   ]
  },
  {
   "cell_type": "code",
   "execution_count": 94,
   "metadata": {},
   "outputs": [
    {
     "data": {
      "image/png": "[encoded data removed]",
      "text/plain": [
       "<Figure size 720x720 with 1 Axes>"
      ]
     },
     "metadata": {
      "needs_background": "light"
     },
     "output_type": "display_data"
    }
   ],
   "source": [
    "plt.figure(figsize=(10, 10))\n",
    "plt.plot(df_varimax2.Factor1, df_varimax2.Factor2, \"o\")\n",
    "plt.hlines([0], -2.5, 2.5, 'lightgray', linestyles='dashed')\n",
    "plt.vlines([0], -2.5, 2.5, 'lightgray', linestyles='dashed')\n",
    "plt.xlabel('Factor1', size = 15)\n",
    "plt.ylabel('Factor2', size = 15)\n",
    "plt.title('Perceptual Mapping: varimax', size = 20)\n",
    "\n",
    "for i in range(len(df_varimax2)) :\n",
    "    plt.text(df_varimax2.iloc[i,1],df_varimax2.iloc[i,2],df_varimax2.iloc[i,0], size = 15)"
   ]
  },
  {
   "cell_type": "markdown",
   "metadata": {},
   "source": [
    "### よく出てくるfig, axを使って書いてみる。"
   ]
  },
  {
   "cell_type": "code",
   "execution_count": 112,
   "metadata": {},
   "outputs": [
    {
     "data": {
      "image/png": "[encoded data removed]",
      "text/plain": [
       "<Figure size 720x720 with 1 Axes>"
      ]
     },
     "metadata": {
      "needs_background": "light"
     },
     "output_type": "display_data"
    }
   ],
   "source": [
    "fig = plt.figure(figsize =(10, 10))\n",
    "ax = fig.add_subplot(1, 1, 1)\n",
    "ax.set_xlim([-2.5, 2.5])\n",
    "ax.set_ylim([-2.5, 2.5])\n",
    "ax.plot(df_varimax2.Factor1, df_varimax2.Factor2, \"o\")\n",
    "ax.set_xlabel('Factor1', size = 15)\n",
    "ax.set_ylabel('Factor2', size = 15)\n",
    "ax.set_title('Perceptual Mapping: varimax', size = 20)\n",
    "ax.axhline(0, ls = '--', color = 'lightgray')\n",
    "ax.axvline(0, ls = '--', color = 'lightgray')\n",
    "\n",
    "for i in range(len(df_varimax2)) :\n",
    "    ax.text(df_varimax2.iloc[i,1],df_varimax2.iloc[i,2],df_varimax2.iloc[i,0], size = 15)"
   ]
  },
  {
   "cell_type": "code",
   "execution_count": null,
   "metadata": {},
   "outputs": [],
   "source": []
  }
 ],
 "metadata": {
  "kernelspec": {
   "display_name": "Python 3",
   "language": "python",
   "name": "python3"
  },
  "language_info": {
   "codemirror_mode": {
    "name": "ipython",
    "version": 3
   },
   "file_extension": ".py",
   "mimetype": "text/x-python",
   "name": "python",
   "nbconvert_exporter": "python",
   "pygments_lexer": "ipython3",
   "version": "3.8.2"
  },
  "toc-showmarkdowntxt": false
 },
 "nbformat": 4,
 "nbformat_minor": 4
}
