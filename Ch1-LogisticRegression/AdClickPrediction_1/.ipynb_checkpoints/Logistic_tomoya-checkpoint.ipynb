{
 "cells": [
  {
   "cell_type": "markdown",
   "metadata": {},
   "source": [
    "# Step 7 : Statistical Analysis"
   ]
  },
  {
   "cell_type": "code",
   "execution_count": 27,
   "metadata": {},
   "outputs": [],
   "source": [
    "import statsmodels.formula.api as smf\n",
    "import statsmodels.api as sm"
   ]
  },
  {
   "cell_type": "markdown",
   "metadata": {},
   "source": [
    "自由に説明変数を設定していきましょう！"
   ]
  },
  {
   "cell_type": "code",
   "execution_count": 35,
   "metadata": {},
   "outputs": [],
   "source": [
    "## Modeling \n",
    "mod_glm = smf.glm(formula = \"is_click ~ Year + Month + gender + age_level + user_depth + city_development_index\", data = amex, family = sm.families.Binomial()).fit()"
   ]
  },
  {
   "cell_type": "code",
   "execution_count": 36,
   "metadata": {},
   "outputs": [
    {
     "data": {
      "text/html": [
       "<table class=\"simpletable\">\n",
       "<caption>Generalized Linear Model Regression Results</caption>\n",
       "<tr>\n",
       "  <th>Dep. Variable:</th>       <td>is_click</td>     <th>  No. Observations:  </th>   <td>463291</td>   \n",
       "</tr>\n",
       "<tr>\n",
       "  <th>Model:</th>                  <td>GLM</td>       <th>  Df Residuals:      </th>   <td>463286</td>   \n",
       "</tr>\n",
       "<tr>\n",
       "  <th>Model Family:</th>        <td>Binomial</td>     <th>  Df Model:          </th>   <td>     4</td>   \n",
       "</tr>\n",
       "<tr>\n",
       "  <th>Link Function:</th>         <td>logit</td>      <th>  Scale:             </th>  <td>  1.0000</td>  \n",
       "</tr>\n",
       "<tr>\n",
       "  <th>Method:</th>                <td>IRLS</td>       <th>  Log-Likelihood:    </th> <td>-1.1462e+05</td>\n",
       "</tr>\n",
       "<tr>\n",
       "  <th>Date:</th>            <td>Fri, 15 May 2020</td> <th>  Deviance:          </th> <td>2.2923e+05</td> \n",
       "</tr>\n",
       "<tr>\n",
       "  <th>Time:</th>                <td>23:02:59</td>     <th>  Pearson chi2:      </th>  <td>4.63e+05</td>  \n",
       "</tr>\n",
       "<tr>\n",
       "  <th>No. Iterations:</th>          <td>6</td>        <th>                     </th>      <td> </td>     \n",
       "</tr>\n",
       "<tr>\n",
       "  <th>Covariance Type:</th>     <td>nonrobust</td>    <th>                     </th>      <td> </td>     \n",
       "</tr>\n",
       "</table>\n",
       "<table class=\"simpletable\">\n",
       "<tr>\n",
       "             <td></td>               <th>coef</th>     <th>std err</th>      <th>z</th>      <th>P>|z|</th>  <th>[0.025</th>    <th>0.975]</th>  \n",
       "</tr>\n",
       "<tr>\n",
       "  <th>Intercept</th>              <td>   -2.4781</td> <td>    0.055</td> <td>  -44.657</td> <td> 0.000</td> <td>   -2.587</td> <td>   -2.369</td>\n",
       "</tr>\n",
       "<tr>\n",
       "  <th>gender</th>                 <td>    0.0469</td> <td>    0.019</td> <td>    2.510</td> <td> 0.012</td> <td>    0.010</td> <td>    0.084</td>\n",
       "</tr>\n",
       "<tr>\n",
       "  <th>age_level</th>              <td>   -0.0327</td> <td>    0.006</td> <td>   -5.666</td> <td> 0.000</td> <td>   -0.044</td> <td>   -0.021</td>\n",
       "</tr>\n",
       "<tr>\n",
       "  <th>user_depth</th>             <td>   -0.0120</td> <td>    0.015</td> <td>   -0.807</td> <td> 0.420</td> <td>   -0.041</td> <td>    0.017</td>\n",
       "</tr>\n",
       "<tr>\n",
       "  <th>city_development_index</th> <td>   -0.0230</td> <td>    0.007</td> <td>   -3.161</td> <td> 0.002</td> <td>   -0.037</td> <td>   -0.009</td>\n",
       "</tr>\n",
       "</table>"
      ],
      "text/plain": [
       "<class 'statsmodels.iolib.summary.Summary'>\n",
       "\"\"\"\n",
       "                 Generalized Linear Model Regression Results                  \n",
       "==============================================================================\n",
       "Dep. Variable:               is_click   No. Observations:               463291\n",
       "Model:                            GLM   Df Residuals:                   463286\n",
       "Model Family:                Binomial   Df Model:                            4\n",
       "Link Function:                  logit   Scale:                          1.0000\n",
       "Method:                          IRLS   Log-Likelihood:            -1.1462e+05\n",
       "Date:                Fri, 15 May 2020   Deviance:                   2.2923e+05\n",
       "Time:                        23:02:59   Pearson chi2:                 4.63e+05\n",
       "No. Iterations:                     6                                         \n",
       "Covariance Type:            nonrobust                                         \n",
       "==========================================================================================\n",
       "                             coef    std err          z      P>|z|      [0.025      0.975]\n",
       "------------------------------------------------------------------------------------------\n",
       "Intercept                 -2.4781      0.055    -44.657      0.000      -2.587      -2.369\n",
       "gender                     0.0469      0.019      2.510      0.012       0.010       0.084\n",
       "age_level                 -0.0327      0.006     -5.666      0.000      -0.044      -0.021\n",
       "user_depth                -0.0120      0.015     -0.807      0.420      -0.041       0.017\n",
       "city_development_index    -0.0230      0.007     -3.161      0.002      -0.037      -0.009\n",
       "==========================================================================================\n",
       "\"\"\""
      ]
     },
     "execution_count": 36,
     "metadata": {},
     "output_type": "execute_result"
    }
   ],
   "source": [
    "mod_glm.summary()"
   ]
  },
  {
   "cell_type": "markdown",
   "metadata": {},
   "source": [
    "対数オッズ比→オッズ比にして、パラメータを解釈"
   ]
  },
  {
   "cell_type": "code",
   "execution_count": 37,
   "metadata": {},
   "outputs": [],
   "source": [
    "import scipy as sp\n",
    "param_exp = sp.exp(mod_glm.params)"
   ]
  },
  {
   "cell_type": "code",
   "execution_count": 38,
   "metadata": {},
   "outputs": [],
   "source": [
    "param_exp = pd.DataFrame(param_exp)\n",
    "param_exp.columns = ['exp']\n",
    "param_exp"
   ]
  },
  {
   "cell_type": "code",
   "execution_count": null,
   "metadata": {},
   "outputs": [],
   "source": []
  },
  {
   "cell_type": "code",
   "execution_count": null,
   "metadata": {},
   "outputs": [],
   "source": []
  },
  {
   "cell_type": "code",
   "execution_count": null,
   "metadata": {},
   "outputs": [],
   "source": []
  },
  {
   "cell_type": "code",
   "execution_count": null,
   "metadata": {},
   "outputs": [],
   "source": []
  },
  {
   "cell_type": "code",
   "execution_count": null,
   "metadata": {},
   "outputs": [],
   "source": []
  },
  {
   "cell_type": "code",
   "execution_count": null,
   "metadata": {},
   "outputs": [],
   "source": []
  },
  {
   "cell_type": "code",
   "execution_count": null,
   "metadata": {},
   "outputs": [],
   "source": []
  },
  {
   "cell_type": "code",
   "execution_count": null,
   "metadata": {},
   "outputs": [],
   "source": []
  }
 ],
 "metadata": {
  "kernelspec": {
   "display_name": "Python 3",
   "language": "python",
   "name": "python3"
  },
  "language_info": {
   "codemirror_mode": {
    "name": "ipython",
    "version": 3
   },
   "file_extension": ".py",
   "mimetype": "text/x-python",
   "name": "python",
   "nbconvert_exporter": "python",
   "pygments_lexer": "ipython3",
   "version": "3.8.2"
  }
 },
 "nbformat": 4,
 "nbformat_minor": 4
}
