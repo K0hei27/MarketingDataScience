{
 "cells": [
  {
   "cell_type": "markdown",
   "metadata": {},
   "source": [
    "# Materials\n",
    "https://news.mynavi.jp/article/Python_ML-6/"
   ]
  },
  {
   "cell_type": "markdown",
   "metadata": {},
   "source": [
    "# Step 1 : Importing Dependencies and Loading Data set"
   ]
  },
  {
   "cell_type": "code",
   "execution_count": 1,
   "metadata": {
    "scrolled": true
   },
   "outputs": [
    {
     "name": "stderr",
     "output_type": "stream",
     "text": [
      "/Users/k.fukada/.local/share/virtualenvs/data_science-tXjswaqR/lib/python3.8/site-packages/pandas/compat/__init__.py:117: UserWarning: Could not import the lzma module. Your installed Python is incomplete. Attempting to use lzma compression will result in a RuntimeError.\n",
      "  warnings.warn(msg)\n"
     ]
    }
   ],
   "source": [
    "import pandas as pd\n",
    "import numpy as np\n",
    "import matplotlib.pyplot as plt\n",
    "import seaborn as sns\n",
    "from sklearn.model_selection import train_test_split\n",
    "from sklearn.tree import DecisionTreeClassifier as DT"
   ]
  },
  {
   "cell_type": "code",
   "execution_count": 4,
   "metadata": {
    "scrolled": true
   },
   "outputs": [
    {
     "name": "stdout",
     "output_type": "stream",
     "text": [
      "<class 'pandas.core.frame.DataFrame'>\n",
      "RangeIndex: 47 entries, 0 to 46\n",
      "Data columns (total 12 columns):\n",
      " #   Column  Non-Null Count  Dtype  \n",
      "---  ------  --------------  -----  \n",
      " 0   都道府県    47 non-null     object \n",
      " 1   食料      47 non-null     float64\n",
      " 2   住居      47 non-null     float64\n",
      " 3   水道光熱費   47 non-null     float64\n",
      " 4   家具家事用品  47 non-null     float64\n",
      " 5   衣類      47 non-null     float64\n",
      " 6   保険医療    47 non-null     float64\n",
      " 7   交通通信    47 non-null     float64\n",
      " 8   教育      47 non-null     float64\n",
      " 9   教養娯楽    47 non-null     float64\n",
      " 10  諸雑費     47 non-null     float64\n",
      " 11  大都市圏分類  47 non-null     int64  \n",
      "dtypes: float64(10), int64(1), object(1)\n",
      "memory usage: 4.5+ KB\n"
     ]
    }
   ],
   "source": [
    "data = pd.read_csv('./data/consumerPrices_tree.csv')\n",
    "data.head()\n",
    "data.info()"
   ]
  },
  {
   "cell_type": "markdown",
   "metadata": {},
   "source": [
    "# Step 2 : Exploratory Analysis"
   ]
  },
  {
   "cell_type": "markdown",
   "metadata": {},
   "source": [
    "## 2.1. Knowing the categorical variables"
   ]
  },
  {
   "cell_type": "code",
   "execution_count": 5,
   "metadata": {},
   "outputs": [
    {
     "data": {
      "text/html": [
       "<div>\n",
       "<style scoped>\n",
       "    .dataframe tbody tr th:only-of-type {\n",
       "        vertical-align: middle;\n",
       "    }\n",
       "\n",
       "    .dataframe tbody tr th {\n",
       "        vertical-align: top;\n",
       "    }\n",
       "\n",
       "    .dataframe thead th {\n",
       "        text-align: right;\n",
       "    }\n",
       "</style>\n",
       "<table border=\"1\" class=\"dataframe\">\n",
       "  <thead>\n",
       "    <tr style=\"text-align: right;\">\n",
       "      <th></th>\n",
       "      <th>都道府県</th>\n",
       "      <th>食料</th>\n",
       "      <th>住居</th>\n",
       "      <th>水道光熱費</th>\n",
       "      <th>家具家事用品</th>\n",
       "      <th>衣類</th>\n",
       "      <th>保険医療</th>\n",
       "      <th>交通通信</th>\n",
       "      <th>教育</th>\n",
       "      <th>教養娯楽</th>\n",
       "      <th>諸雑費</th>\n",
       "      <th>大都市圏分類</th>\n",
       "    </tr>\n",
       "  </thead>\n",
       "  <tbody>\n",
       "    <tr>\n",
       "      <th>0</th>\n",
       "      <td>北 海 道</td>\n",
       "      <td>98.7</td>\n",
       "      <td>82.6</td>\n",
       "      <td>116.3</td>\n",
       "      <td>99.3</td>\n",
       "      <td>103.8</td>\n",
       "      <td>100.2</td>\n",
       "      <td>99.5</td>\n",
       "      <td>93.2</td>\n",
       "      <td>97.1</td>\n",
       "      <td>100.9</td>\n",
       "      <td>1</td>\n",
       "    </tr>\n",
       "    <tr>\n",
       "      <th>1</th>\n",
       "      <td>青 森 県</td>\n",
       "      <td>97.4</td>\n",
       "      <td>95.7</td>\n",
       "      <td>109.0</td>\n",
       "      <td>96.2</td>\n",
       "      <td>97.1</td>\n",
       "      <td>101.0</td>\n",
       "      <td>100.5</td>\n",
       "      <td>93.2</td>\n",
       "      <td>96.4</td>\n",
       "      <td>97.8</td>\n",
       "      <td>0</td>\n",
       "    </tr>\n",
       "    <tr>\n",
       "      <th>2</th>\n",
       "      <td>岩 手 県</td>\n",
       "      <td>96.6</td>\n",
       "      <td>89.4</td>\n",
       "      <td>111.0</td>\n",
       "      <td>102.2</td>\n",
       "      <td>97.8</td>\n",
       "      <td>100.4</td>\n",
       "      <td>99.7</td>\n",
       "      <td>90.1</td>\n",
       "      <td>99.8</td>\n",
       "      <td>97.0</td>\n",
       "      <td>0</td>\n",
       "    </tr>\n",
       "    <tr>\n",
       "      <th>3</th>\n",
       "      <td>宮 城 県</td>\n",
       "      <td>97.2</td>\n",
       "      <td>97.1</td>\n",
       "      <td>101.3</td>\n",
       "      <td>104.0</td>\n",
       "      <td>95.6</td>\n",
       "      <td>100.9</td>\n",
       "      <td>97.5</td>\n",
       "      <td>99.5</td>\n",
       "      <td>99.3</td>\n",
       "      <td>99.2</td>\n",
       "      <td>1</td>\n",
       "    </tr>\n",
       "    <tr>\n",
       "      <th>4</th>\n",
       "      <td>秋 田 県</td>\n",
       "      <td>97.3</td>\n",
       "      <td>86.1</td>\n",
       "      <td>107.2</td>\n",
       "      <td>103.1</td>\n",
       "      <td>102.4</td>\n",
       "      <td>98.9</td>\n",
       "      <td>98.0</td>\n",
       "      <td>87.1</td>\n",
       "      <td>98.0</td>\n",
       "      <td>100.2</td>\n",
       "      <td>0</td>\n",
       "    </tr>\n",
       "  </tbody>\n",
       "</table>\n",
       "</div>"
      ],
      "text/plain": [
       "    都道府県    食料    住居  水道光熱費  家具家事用品     衣類   保険医療   交通通信    教育  教養娯楽    諸雑費  \\\n",
       "0  北 海 道  98.7  82.6  116.3    99.3  103.8  100.2   99.5  93.2  97.1  100.9   \n",
       "1  青 森 県  97.4  95.7  109.0    96.2   97.1  101.0  100.5  93.2  96.4   97.8   \n",
       "2  岩 手 県  96.6  89.4  111.0   102.2   97.8  100.4   99.7  90.1  99.8   97.0   \n",
       "3  宮 城 県  97.2  97.1  101.3   104.0   95.6  100.9   97.5  99.5  99.3   99.2   \n",
       "4  秋 田 県  97.3  86.1  107.2   103.1  102.4   98.9   98.0  87.1  98.0  100.2   \n",
       "\n",
       "   大都市圏分類  \n",
       "0       1  \n",
       "1       0  \n",
       "2       0  \n",
       "3       1  \n",
       "4       0  "
      ]
     },
     "execution_count": 5,
     "metadata": {},
     "output_type": "execute_result"
    }
   ],
   "source": [
    "data.head()"
   ]
  },
  {
   "cell_type": "code",
   "execution_count": null,
   "metadata": {},
   "outputs": [],
   "source": [
    "# Materials\n",
    "https://www.kaggle.com/henriqueyamahata/bank-marketing-classification-roc-f1-recall\n",
    "\n",
    "# Step 1 : Importing Dependencies and Loading Data set\n",
    "\n",
    "import pandas as pd\n",
    "import numpy as np\n",
    "import matplotlib.pyplot as plt\n",
    "import seaborn as sns\n",
    "from sklearn.model_selection import train_test_split\n",
    "from sklearn.tree import DecisionTreeClassifier as DT\n",
    "\n",
    "bank = pd.read_csv('./data/bank-additional-full.csv', delimiter=';')\n",
    "#forTableau\n",
    "bank.to_csv('./data/data_for_tableau.csv')\n",
    "bank.info()\n",
    "\n",
    "# Step 2 : Exploratory Analysis\n",
    "\n",
    "## 2.1. Knowing the categorical variables\n",
    "\n",
    "bank.head()"
   ]
  }
 ],
 "metadata": {
  "kernelspec": {
   "display_name": "Python 3",
   "language": "python",
   "name": "python3"
  },
  "language_info": {
   "codemirror_mode": {
    "name": "ipython",
    "version": 3
   },
   "file_extension": ".py",
   "mimetype": "text/x-python",
   "name": "python",
   "nbconvert_exporter": "python",
   "pygments_lexer": "ipython3",
   "version": "3.8.2"
  }
 },
 "nbformat": 4,
 "nbformat_minor": 4
}
