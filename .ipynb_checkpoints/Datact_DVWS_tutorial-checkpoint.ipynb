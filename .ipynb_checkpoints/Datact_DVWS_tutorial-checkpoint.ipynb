{
 "cells": [
  {
   "cell_type": "markdown",
   "metadata": {},
   "source": [
    "# Data Visualization Workshop Tutorial"
   ]
  },
  {
   "cell_type": "markdown",
   "metadata": {},
   "source": [
    "# 顧客データを分析してみよう！"
   ]
  },
  {
   "cell_type": "markdown",
   "metadata": {},
   "source": [
    "## 分析する前にどんなデータかをチェックしてみましょう"
   ]
  },
  {
   "cell_type": "markdown",
   "metadata": {},
   "source": [
    "### データを読み込む"
   ]
  },
  {
   "cell_type": "code",
   "execution_count": 2,
   "metadata": {},
   "outputs": [
    {
     "data": {
      "text/html": [
       "<div>\n",
       "<table border=\"1\" class=\"dataframe\">\n",
       "  <thead>\n",
       "    <tr style=\"text-align: right;\">\n",
       "      <th></th>\n",
       "      <th>ID</th>\n",
       "      <th>Age</th>\n",
       "      <th>Sex</th>\n",
       "      <th>Address</th>\n",
       "      <th>Frequency</th>\n",
       "    </tr>\n",
       "  </thead>\n",
       "  <tbody>\n",
       "    <tr>\n",
       "      <th>0</th>\n",
       "      <td>1900001</td>\n",
       "      <td>25</td>\n",
       "      <td>Male</td>\n",
       "      <td>Kyuusyuu</td>\n",
       "      <td>1</td>\n",
       "    </tr>\n",
       "    <tr>\n",
       "      <th>1</th>\n",
       "      <td>1900002</td>\n",
       "      <td>21</td>\n",
       "      <td>Female</td>\n",
       "      <td>Hokkaido</td>\n",
       "      <td>1</td>\n",
       "    </tr>\n",
       "    <tr>\n",
       "      <th>2</th>\n",
       "      <td>1900003</td>\n",
       "      <td>21</td>\n",
       "      <td>Female</td>\n",
       "      <td>Hokkaido</td>\n",
       "      <td>1</td>\n",
       "    </tr>\n",
       "    <tr>\n",
       "      <th>3</th>\n",
       "      <td>1900004</td>\n",
       "      <td>46</td>\n",
       "      <td>Female</td>\n",
       "      <td>Kyuusyuu</td>\n",
       "      <td>2</td>\n",
       "    </tr>\n",
       "    <tr>\n",
       "      <th>4</th>\n",
       "      <td>1900005</td>\n",
       "      <td>53</td>\n",
       "      <td>Male</td>\n",
       "      <td>Tyuugoku</td>\n",
       "      <td>4</td>\n",
       "    </tr>\n",
       "  </tbody>\n",
       "</table>\n",
       "</div>"
      ],
      "text/plain": [
       "        ID  Age     Sex   Address  Frequency\n",
       "0  1900001   25    Male  Kyuusyuu          1\n",
       "1  1900002   21  Female  Hokkaido          1\n",
       "2  1900003   21  Female  Hokkaido          1\n",
       "3  1900004   46  Female  Kyuusyuu          2\n",
       "4  1900005   53    Male  Tyuugoku          4"
      ]
     },
     "execution_count": 2,
     "metadata": {},
     "output_type": "execute_result"
    }
   ],
   "source": [
    "import pandas as pd\n",
    "df = pd.read_csv('./data_ws/DVWS_Customer_data_ver1.csv')\n",
    "df.head()"
   ]
  },
  {
   "cell_type": "markdown",
   "metadata": {},
   "source": [
    "### どんなデータなのか？"
   ]
  },
  {
   "cell_type": "code",
   "execution_count": null,
   "metadata": {},
   "outputs": [],
   "source": [
    "df.info()"
   ]
  },
  {
   "cell_type": "code",
   "execution_count": null,
   "metadata": {},
   "outputs": [],
   "source": [
    "df.describe()"
   ]
  },
  {
   "cell_type": "markdown",
   "metadata": {},
   "source": [
    "### 各行にどんなデータが入っているのでしょうか？"
   ]
  },
  {
   "cell_type": "code",
   "execution_count": null,
   "metadata": {},
   "outputs": [],
   "source": [
    "df['Sex'].value_counts()"
   ]
  },
  {
   "cell_type": "code",
   "execution_count": null,
   "metadata": {},
   "outputs": [],
   "source": [
    "df['Address'].value_counts()"
   ]
  },
  {
   "cell_type": "code",
   "execution_count": null,
   "metadata": {},
   "outputs": [],
   "source": [
    "df['Frequency'].value_counts()"
   ]
  },
  {
   "cell_type": "markdown",
   "metadata": {},
   "source": [
    "## ユーザーの男女比を可視化してみよう！"
   ]
  },
  {
   "cell_type": "code",
   "execution_count": null,
   "metadata": {
    "scrolled": true
   },
   "outputs": [],
   "source": [
    "df['Sex'].value_counts()"
   ]
  },
  {
   "cell_type": "code",
   "execution_count": null,
   "metadata": {},
   "outputs": [],
   "source": [
    "#dfにはindexとvalueが格納されている\n",
    "df['Sex'].value_counts().index,df['Sex'].value_counts().values"
   ]
  },
  {
   "cell_type": "code",
   "execution_count": null,
   "metadata": {},
   "outputs": [],
   "source": [
    "# 棒グラフ➀\n",
    "\n",
    "import matplotlib.pyplot as plt\n",
    "%matplotlib inline\n",
    "\n",
    "df['Sex'].value_counts().plot.bar()\n",
    "plt.title('Sex')\n",
    "plt.ylabel('Sum')\n",
    "plt.legend()"
   ]
  },
  {
   "cell_type": "code",
   "execution_count": null,
   "metadata": {},
   "outputs": [],
   "source": [
    "# 棒グラフ➁\n",
    "\n",
    "import seaborn as sns\n",
    "sns.set()\n",
    "\n",
    "sns.countplot(df['Sex'], palette = 'Blues')"
   ]
  },
  {
   "cell_type": "code",
   "execution_count": null,
   "metadata": {},
   "outputs": [],
   "source": [
    "# 円グラフ（あんまりつかわないかも。）\n",
    "x = [834, 387]\n",
    "label = ['Female', 'Male']\n",
    "\n",
    "'''\n",
    "label = df['Sex'].value_counts().index\n",
    "x = df['Sex'].value_counts().values\n",
    "'''\n",
    "\n",
    "plt.pie(x, labels = label, counterclock=False, startangle=90, autopct=\"%.1f%%\" )\n",
    "# 綺麗な円にならなかったら\n",
    "plt.axis('equal')\n",
    "plt.title('Sex')"
   ]
  },
  {
   "cell_type": "markdown",
   "metadata": {},
   "source": [
    "## ワーク: どんな年齢層の人が多いだろう？"
   ]
  },
  {
   "cell_type": "code",
   "execution_count": null,
   "metadata": {},
   "outputs": [],
   "source": [
    "plt.hist(x = 'Age', data = df)"
   ]
  },
  {
   "cell_type": "code",
   "execution_count": null,
   "metadata": {},
   "outputs": [],
   "source": [
    "sns.distplot(df['Age'], bins = 10, kde = False)"
   ]
  },
  {
   "cell_type": "markdown",
   "metadata": {},
   "source": [
    "## 年齢と性別の2軸で集計してみる。"
   ]
  },
  {
   "cell_type": "code",
   "execution_count": null,
   "metadata": {},
   "outputs": [],
   "source": [
    "# Ageを年代に直していく。\n",
    "df['Ages'] = df['Age']//10*10"
   ]
  },
  {
   "cell_type": "code",
   "execution_count": null,
   "metadata": {},
   "outputs": [],
   "source": [
    "pd.pivot_table(df, index = 'Ages', columns = 'Sex', values = 'ID', aggfunc=len)"
   ]
  },
  {
   "cell_type": "code",
   "execution_count": null,
   "metadata": {},
   "outputs": [],
   "source": [
    "# 年代でいったん図を描いてみる\n",
    "sns.countplot( x = 'Ages',data = df)"
   ]
  },
  {
   "cell_type": "code",
   "execution_count": null,
   "metadata": {},
   "outputs": [],
   "source": [
    "# 上のグラフを性別ごとにそれぞれ分けるイメージ。\n",
    "sns.countplot( x = 'Ages',hue = 'Sex', data = df)"
   ]
  },
  {
   "cell_type": "markdown",
   "metadata": {},
   "source": [
    "## ケース: リピートしている人としていない人とで、特徴はあるのだろうか？"
   ]
  },
  {
   "cell_type": "code",
   "execution_count": null,
   "metadata": {},
   "outputs": [],
   "source": [
    "# Frequencyどんなもんか見てみる。\n",
    "sns.countplot(df['Frequency'])"
   ]
  },
  {
   "cell_type": "code",
   "execution_count": null,
   "metadata": {},
   "outputs": [],
   "source": [
    "# リピートしている人としていない人を区別する新しい変数を作成する。(時間的に事前に作成？)\n",
    "#分かりやすいコードに変えた\n",
    "for i in range(len(df)):\n",
    "    if df.loc[i, 'Frequency'] > 1:\n",
    "        df.loc[i,'Repeater'] = 1\n",
    "    else:\n",
    "        df.loc[i,'Repeater'] = 0"
   ]
  },
  {
   "cell_type": "code",
   "execution_count": null,
   "metadata": {},
   "outputs": [],
   "source": [
    "# うまく出来ているかCheck!\n",
    "df.head()"
   ]
  },
  {
   "cell_type": "code",
   "execution_count": null,
   "metadata": {},
   "outputs": [],
   "source": [
    "df.Repeater.value_counts()"
   ]
  },
  {
   "cell_type": "code",
   "execution_count": null,
   "metadata": {},
   "outputs": [],
   "source": [
    "# 文字列でも作っていいかも\n",
    "for i in range(len(df)):\n",
    "    if df.loc[i, 'Frequency'] > 1:\n",
    "        df.loc[i, 'Repeater Character'] = 'Repeater'\n",
    "    else:\n",
    "        df.loc[i, 'Repeater Character'] = 'New'"
   ]
  },
  {
   "cell_type": "code",
   "execution_count": null,
   "metadata": {},
   "outputs": [],
   "source": [
    "df.head()"
   ]
  },
  {
   "cell_type": "code",
   "execution_count": null,
   "metadata": {},
   "outputs": [],
   "source": [
    "# 年齢ごとに差があるのかをチェックしてみよう\n",
    "sns.countplot(x = 'Ages', hue = 'Repeater Character', data = df)"
   ]
  },
  {
   "cell_type": "code",
   "execution_count": null,
   "metadata": {},
   "outputs": [],
   "source": [
    "# 性別ごとに差があるのかをチェックしてみよう\n",
    "sns.countplot(x = 'Sex', hue = 'Repeater Character', data = df)"
   ]
  },
  {
   "cell_type": "code",
   "execution_count": null,
   "metadata": {
    "scrolled": false
   },
   "outputs": [],
   "source": [
    "# ３軸で集計することも出来る。aggfuncを指定しないと、平均値になる。marginsを使うと、小計が出てくる。\n",
    "pd.pivot_table(df, index = ['Ages', 'Sex'], columns = 'Repeater Character', values = 'ID', aggfunc=len, margins = True)"
   ]
  },
  {
   "cell_type": "code",
   "execution_count": null,
   "metadata": {},
   "outputs": [],
   "source": [
    "# 上の結果を新規、リピーターに分けて可視化してみる。\n",
    "# まずはデータを抽出してみる。\n",
    "df_New = df[df['Frequency'] == 1]\n",
    "df_Repeat = df[df['Frequency'] > 1]"
   ]
  },
  {
   "cell_type": "code",
   "execution_count": null,
   "metadata": {},
   "outputs": [],
   "source": [
    "plt.figure(figsize=(10,6))\n",
    "plt.subplot(1,2,1)\n",
    "sns.countplot(x = 'Ages', hue = 'Sex', data = df_New)\n",
    "plt.title('New')\n",
    "\n",
    "plt.subplot(1,2,2)\n",
    "sns.countplot(x = 'Ages', hue = 'Sex', data = df_Repeat)\n",
    "plt.title('Repeater')"
   ]
  },
  {
   "cell_type": "code",
   "execution_count": null,
   "metadata": {},
   "outputs": [],
   "source": [
    "# これじゃあｙ軸がバラバラなので、上手く比較出来ない。また、Male とFeamaleといろが逆になっている。\n",
    "plt.figure(figsize=(10,6))\n",
    "plt.subplot(1,2,1)\n",
    "sns.countplot(x = 'Ages', hue = 'Sex', hue_order=['Male', 'Female'] ,data = df_New)\n",
    "plt.title('New')\n",
    "plt.ylim(0, 200)\n",
    "\n",
    "plt.subplot(1,2,2)\n",
    "sns.countplot(x = 'Ages', hue = 'Sex', hue_order=['Male', 'Female'] , data = df_Repeat)\n",
    "plt.title('Repeater')\n",
    "plt.ylim(0, 200)"
   ]
  },
  {
   "cell_type": "markdown",
   "metadata": {},
   "source": [
    "### コメント\n",
    "1. 最終的に可視化して何がしたいのか？\n",
    "2. なんの商品を扱ってるのか？\n",
    "3. データの変数が少なすぎてつまらないくない？せっかく性別、年齢層、地域等のデータを取得するのなら、それらと何か関係性がある変数(購入額、購入数、チャネルは何か？店舗かECか？等)を置いて、データを加工したり可視化したりして初めて分かる関係性とか話せたら面白いと思う。"
   ]
  },
  {
   "cell_type": "code",
   "execution_count": null,
   "metadata": {},
   "outputs": [],
   "source": []
  }
 ],
 "metadata": {
  "anaconda-cloud": {},
  "kernelspec": {
   "display_name": "Python [default]",
   "language": "python",
   "name": "python3"
  },
  "language_info": {
   "codemirror_mode": {
    "name": "ipython",
    "version": 3
   },
   "file_extension": ".py",
   "mimetype": "text/x-python",
   "name": "python",
   "nbconvert_exporter": "python",
   "pygments_lexer": "ipython3",
   "version": "3.5.4"
  }
 },
 "nbformat": 4,
 "nbformat_minor": 2
}
