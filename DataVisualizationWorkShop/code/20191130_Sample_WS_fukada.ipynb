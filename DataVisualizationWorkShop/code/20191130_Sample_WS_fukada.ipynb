{
 "cells": [
  {
   "cell_type": "markdown",
   "metadata": {},
   "source": [
    "# Data Visualization Workshop: 2019BCのデータver."
   ]
  },
  {
   "cell_type": "markdown",
   "metadata": {},
   "source": [
    "# 深田コメント\n",
    "1. コードや見た目\n",
    "    1. **1.1**現状分析という風にコードを書く前に今どのフェーズにいるのかを番号をつけて明示した方が良い\n",
    "    2. 出来るだけ簡潔に、自分で文字を置く場合、一般的にも何を表すものなのか書かないとわかりづらい。\n",
    "    3. なるべく新しいデータフレームは作りたくない、可視化したい図をイメージして、一つのdfから全て引っ張ってこれるようなdfを設定するべき\n",
    "2. ストーリーライン→これは僕も考えます\n",
    "    1. 全体としてストーリーをもう一回考えた方がいいかなと。ともやはデータを作成してて、その後の展開等を知っているから先入観で話を進めてしまっているけど、これを初めて読んだ人が近しいロジックを踏むか考える必要がある\n",
    "        1. クロス集計のところ。男性が多いから男性が直接的な売上減少の原因であるとは考えられない。男女の客単価の差を考える必要がある。とか、、"
   ]
  },
  {
   "cell_type": "markdown",
   "metadata": {},
   "source": [
    "# 0. イントロ\n",
    "## 0.0 データ分析の目的\n",
    "1. 生の数字からでは把握できないことを可視化することによってインサイトを得て次のアクションに結びつけること。\n",
    "    1. 全体像(分析によって欲しいアウトプットとそれを構成する要素の数)と自分の分析している要素を確認しつつ、マクロからミクロに展開していくこと\n",
    "\n",
    "\n",
    "## 0.1 このWSの目的\n",
    "1. プロジェクトで活きるデータの可視化のための基本スキルを身につけてもらう\n",
    "    1. データ分析の流れ（抽出→集計→加工→可視化）を理解すること\n",
    "    2. 可視化の目的は意思決定に役立てること\n",
    "2. Pythonや可視化ツールのおもしろさを伝えて、今後取り組むきっかけを生み出す"
   ]
  },
  {
   "cell_type": "markdown",
   "metadata": {},
   "source": [
    "# 1. 前準備"
   ]
  },
  {
   "cell_type": "markdown",
   "metadata": {},
   "source": [
    "### 【背景】ヒアリングによると、売上が減少しているらしい。\n",
    "### 【目的】売上減少の原因を探り、来月の売上減少を阻止するためのインサイトを得ること\n",
    "### 【そのために】実際にデータを見て、どれくらい売上が減少しているのだろうか？グラフを作って確認したいが、、、\n",
    "### 【その前に】分析の前準備として、まずは今持っているデータに対する理解を深めておこう。そしてアウトプットを出す上で分析するのに必要十分なデータなのか確認しよう！"
   ]
  },
  {
   "cell_type": "markdown",
   "metadata": {},
   "source": [
    "## 1.1 データ理解"
   ]
  },
  {
   "cell_type": "code",
   "execution_count": 1,
   "metadata": {},
   "outputs": [],
   "source": [
    "import pandas as pd\n",
    "df = pd.read_csv('./20191130_Sample_data.csv', encoding = 'utf-8')"
   ]
  },
  {
   "cell_type": "code",
   "execution_count": 2,
   "metadata": {},
   "outputs": [],
   "source": [
    "#./←カレントディレクトリの意味。ディレクトリの話とかはなしでおけ？\n",
    "#あとデータの売上の部分にマイナスがあった"
   ]
  },
  {
   "cell_type": "markdown",
   "metadata": {},
   "source": [
    "### データの構成要素と全体像を把握する"
   ]
  },
  {
   "cell_type": "code",
   "execution_count": 3,
   "metadata": {},
   "outputs": [
    {
     "data": {
      "text/html": [
       "<div>\n",
       "<style scoped>\n",
       "    .dataframe tbody tr th:only-of-type {\n",
       "        vertical-align: middle;\n",
       "    }\n",
       "\n",
       "    .dataframe tbody tr th {\n",
       "        vertical-align: top;\n",
       "    }\n",
       "\n",
       "    .dataframe thead th {\n",
       "        text-align: right;\n",
       "    }\n",
       "</style>\n",
       "<table border=\"1\" class=\"dataframe\">\n",
       "  <thead>\n",
       "    <tr style=\"text-align: right;\">\n",
       "      <th></th>\n",
       "      <th>Date</th>\n",
       "      <th>ID</th>\n",
       "      <th>Frequency</th>\n",
       "      <th>Age</th>\n",
       "      <th>Sex</th>\n",
       "      <th>Sale</th>\n",
       "      <th>Prefecture</th>\n",
       "      <th>Area</th>\n",
       "      <th>Category</th>\n",
       "    </tr>\n",
       "  </thead>\n",
       "  <tbody>\n",
       "    <tr>\n",
       "      <th>0</th>\n",
       "      <td>2018/9/23</td>\n",
       "      <td>1</td>\n",
       "      <td>1</td>\n",
       "      <td>65</td>\n",
       "      <td>Male</td>\n",
       "      <td>28649</td>\n",
       "      <td>Chiba</td>\n",
       "      <td>Kanto</td>\n",
       "      <td>Furniture</td>\n",
       "    </tr>\n",
       "    <tr>\n",
       "      <th>1</th>\n",
       "      <td>2018/1/8</td>\n",
       "      <td>2</td>\n",
       "      <td>1</td>\n",
       "      <td>45</td>\n",
       "      <td>Male</td>\n",
       "      <td>11466</td>\n",
       "      <td>Wakayama</td>\n",
       "      <td>Kansai</td>\n",
       "      <td>Commodity</td>\n",
       "    </tr>\n",
       "    <tr>\n",
       "      <th>2</th>\n",
       "      <td>2018/2/8</td>\n",
       "      <td>2</td>\n",
       "      <td>2</td>\n",
       "      <td>45</td>\n",
       "      <td>Male</td>\n",
       "      <td>10428</td>\n",
       "      <td>Hyogo</td>\n",
       "      <td>Kansai</td>\n",
       "      <td>Commodity</td>\n",
       "    </tr>\n",
       "    <tr>\n",
       "      <th>3</th>\n",
       "      <td>2018/3/7</td>\n",
       "      <td>2</td>\n",
       "      <td>3</td>\n",
       "      <td>45</td>\n",
       "      <td>Male</td>\n",
       "      <td>9510</td>\n",
       "      <td>Saitama</td>\n",
       "      <td>Kanto</td>\n",
       "      <td>Commodity</td>\n",
       "    </tr>\n",
       "    <tr>\n",
       "      <th>4</th>\n",
       "      <td>2018/3/10</td>\n",
       "      <td>2</td>\n",
       "      <td>4</td>\n",
       "      <td>45</td>\n",
       "      <td>Male</td>\n",
       "      <td>2706</td>\n",
       "      <td>Osaka</td>\n",
       "      <td>Kansai</td>\n",
       "      <td>Office Supplies</td>\n",
       "    </tr>\n",
       "  </tbody>\n",
       "</table>\n",
       "</div>"
      ],
      "text/plain": [
       "        Date  ID  Frequency  Age   Sex   Sale Prefecture    Area  \\\n",
       "0  2018/9/23   1          1   65  Male  28649      Chiba   Kanto   \n",
       "1   2018/1/8   2          1   45  Male  11466   Wakayama  Kansai   \n",
       "2   2018/2/8   2          2   45  Male  10428      Hyogo  Kansai   \n",
       "3   2018/3/7   2          3   45  Male   9510    Saitama   Kanto   \n",
       "4  2018/3/10   2          4   45  Male   2706      Osaka  Kansai   \n",
       "\n",
       "          Category  \n",
       "0        Furniture  \n",
       "1        Commodity  \n",
       "2        Commodity  \n",
       "3        Commodity  \n",
       "4  Office Supplies  "
      ]
     },
     "execution_count": 3,
     "metadata": {},
     "output_type": "execute_result"
    }
   ],
   "source": [
    "df.head()"
   ]
  },
  {
   "cell_type": "code",
   "execution_count": 4,
   "metadata": {},
   "outputs": [
    {
     "name": "stdout",
     "output_type": "stream",
     "text": [
      "<class 'pandas.core.frame.DataFrame'>\n",
      "RangeIndex: 773 entries, 0 to 772\n",
      "Data columns (total 9 columns):\n",
      "Date          773 non-null object\n",
      "ID            773 non-null int64\n",
      "Frequency     773 non-null int64\n",
      "Age           773 non-null int64\n",
      "Sex           773 non-null object\n",
      "Sale          773 non-null int64\n",
      "Prefecture    773 non-null object\n",
      "Area          773 non-null object\n",
      "Category      773 non-null object\n",
      "dtypes: int64(4), object(5)\n",
      "memory usage: 54.4+ KB\n"
     ]
    }
   ],
   "source": [
    "df.info()"
   ]
  },
  {
   "cell_type": "markdown",
   "metadata": {},
   "source": [
    "## 1.2 データ加工"
   ]
  },
  {
   "cell_type": "markdown",
   "metadata": {},
   "source": [
    "### Dateの部分が使いにくい。今回の目的は売上減少の原因を突き止めて来月の売上減少を回避したい→日付の部分から月のみを取り出そう！\n",
    "欲しいアウトプットに対して、どこまでドリルダウンするのかを意識して、何のデータが欲しいのか？どこまで掘り下げるのか？を常に考えることの重要性をひつこく伝える。\n",
    "\n",
    "\n",
    "今回は違うが、年代+性別というひとまとまりのデータが得られたりする場合があり、どこまでセグメントを分けるのか考える必要があることを伝える。"
   ]
  },
  {
   "cell_type": "code",
   "execution_count": 5,
   "metadata": {},
   "outputs": [
    {
     "data": {
      "text/html": [
       "<div>\n",
       "<style scoped>\n",
       "    .dataframe tbody tr th:only-of-type {\n",
       "        vertical-align: middle;\n",
       "    }\n",
       "\n",
       "    .dataframe tbody tr th {\n",
       "        vertical-align: top;\n",
       "    }\n",
       "\n",
       "    .dataframe thead th {\n",
       "        text-align: right;\n",
       "    }\n",
       "</style>\n",
       "<table border=\"1\" class=\"dataframe\">\n",
       "  <thead>\n",
       "    <tr style=\"text-align: right;\">\n",
       "      <th></th>\n",
       "      <th>Date</th>\n",
       "      <th>ID</th>\n",
       "      <th>Frequency</th>\n",
       "      <th>Age</th>\n",
       "      <th>Sex</th>\n",
       "      <th>Sale</th>\n",
       "      <th>Prefecture</th>\n",
       "      <th>Area</th>\n",
       "      <th>Category</th>\n",
       "      <th>Month</th>\n",
       "    </tr>\n",
       "  </thead>\n",
       "  <tbody>\n",
       "    <tr>\n",
       "      <th>0</th>\n",
       "      <td>2018-09-23</td>\n",
       "      <td>1</td>\n",
       "      <td>1</td>\n",
       "      <td>65</td>\n",
       "      <td>Male</td>\n",
       "      <td>28649</td>\n",
       "      <td>Chiba</td>\n",
       "      <td>Kanto</td>\n",
       "      <td>Furniture</td>\n",
       "      <td>9</td>\n",
       "    </tr>\n",
       "    <tr>\n",
       "      <th>1</th>\n",
       "      <td>2018-01-08</td>\n",
       "      <td>2</td>\n",
       "      <td>1</td>\n",
       "      <td>45</td>\n",
       "      <td>Male</td>\n",
       "      <td>11466</td>\n",
       "      <td>Wakayama</td>\n",
       "      <td>Kansai</td>\n",
       "      <td>Commodity</td>\n",
       "      <td>1</td>\n",
       "    </tr>\n",
       "    <tr>\n",
       "      <th>2</th>\n",
       "      <td>2018-02-08</td>\n",
       "      <td>2</td>\n",
       "      <td>2</td>\n",
       "      <td>45</td>\n",
       "      <td>Male</td>\n",
       "      <td>10428</td>\n",
       "      <td>Hyogo</td>\n",
       "      <td>Kansai</td>\n",
       "      <td>Commodity</td>\n",
       "      <td>2</td>\n",
       "    </tr>\n",
       "    <tr>\n",
       "      <th>3</th>\n",
       "      <td>2018-03-07</td>\n",
       "      <td>2</td>\n",
       "      <td>3</td>\n",
       "      <td>45</td>\n",
       "      <td>Male</td>\n",
       "      <td>9510</td>\n",
       "      <td>Saitama</td>\n",
       "      <td>Kanto</td>\n",
       "      <td>Commodity</td>\n",
       "      <td>3</td>\n",
       "    </tr>\n",
       "    <tr>\n",
       "      <th>4</th>\n",
       "      <td>2018-03-10</td>\n",
       "      <td>2</td>\n",
       "      <td>4</td>\n",
       "      <td>45</td>\n",
       "      <td>Male</td>\n",
       "      <td>2706</td>\n",
       "      <td>Osaka</td>\n",
       "      <td>Kansai</td>\n",
       "      <td>Office Supplies</td>\n",
       "      <td>3</td>\n",
       "    </tr>\n",
       "  </tbody>\n",
       "</table>\n",
       "</div>"
      ],
      "text/plain": [
       "        Date  ID  Frequency  Age   Sex   Sale Prefecture    Area  \\\n",
       "0 2018-09-23   1          1   65  Male  28649      Chiba   Kanto   \n",
       "1 2018-01-08   2          1   45  Male  11466   Wakayama  Kansai   \n",
       "2 2018-02-08   2          2   45  Male  10428      Hyogo  Kansai   \n",
       "3 2018-03-07   2          3   45  Male   9510    Saitama   Kanto   \n",
       "4 2018-03-10   2          4   45  Male   2706      Osaka  Kansai   \n",
       "\n",
       "          Category  Month  \n",
       "0        Furniture      9  \n",
       "1        Commodity      1  \n",
       "2        Commodity      2  \n",
       "3        Commodity      3  \n",
       "4  Office Supplies      3  "
      ]
     },
     "execution_count": 5,
     "metadata": {},
     "output_type": "execute_result"
    }
   ],
   "source": [
    "# 月ごとに集計をするため、日付から月を取り出す。（他にも良い方法あるのかな？）→とりあえずこれでいいと思う\n",
    "df['Date'] = pd.to_datetime(df['Date'],format='%Y-%m-%d')\n",
    "df['Month'] = df['Date'].dt.month\n",
    "df.head()"
   ]
  },
  {
   "cell_type": "code",
   "execution_count": 6,
   "metadata": {},
   "outputs": [
    {
     "data": {
      "text/plain": [
       "dtype('<M8[ns]')"
      ]
     },
     "execution_count": 6,
     "metadata": {},
     "output_type": "execute_result"
    }
   ],
   "source": [
    "#型がdatetimeに変わったことを確認\n",
    "df.Date.dtypes"
   ]
  },
  {
   "cell_type": "code",
   "execution_count": 7,
   "metadata": {},
   "outputs": [
    {
     "name": "stdout",
     "output_type": "stream",
     "text": [
      "<class 'pandas.core.frame.DataFrame'>\n",
      "RangeIndex: 773 entries, 0 to 772\n",
      "Data columns (total 10 columns):\n",
      "Date          773 non-null datetime64[ns]\n",
      "ID            773 non-null int64\n",
      "Frequency     773 non-null int64\n",
      "Age           773 non-null int64\n",
      "Sex           773 non-null object\n",
      "Sale          773 non-null int64\n",
      "Prefecture    773 non-null object\n",
      "Area          773 non-null object\n",
      "Category      773 non-null object\n",
      "Month         773 non-null int64\n",
      "dtypes: datetime64[ns](1), int64(5), object(4)\n",
      "memory usage: 60.5+ KB\n"
     ]
    }
   ],
   "source": [
    "df.info()"
   ]
  },
  {
   "cell_type": "markdown",
   "metadata": {},
   "source": [
    "## 2. データ可視化による現状分析"
   ]
  },
  {
   "cell_type": "markdown",
   "metadata": {},
   "source": [
    "## 2.1 売上が減少しているのか確認する！"
   ]
  },
  {
   "cell_type": "code",
   "execution_count": 8,
   "metadata": {},
   "outputs": [
    {
     "data": {
      "text/plain": [
       "'\\ngroupby説明しっかりした方がいいな\\ngroupby は、同じ値を持つデータをまとめて、それぞれの塊に対して共通の操作を行いたい時に使う。\\n\\nex)\\n月ごとの売上や購入頻度の平均、分散、合計値等の情報が欲しい！\\n性別と年代それぞれの軸で、売上の合計値がほしい！\\n'"
      ]
     },
     "execution_count": 8,
     "metadata": {},
     "output_type": "execute_result"
    }
   ],
   "source": [
    "'''\n",
    "groupby説明しっかりした方がいいな\n",
    "groupby は、同じ値を持つデータをまとめて、それぞれの塊に対して共通の操作を行いたい時に使う。\n",
    "\n",
    "ex)\n",
    "月ごとの売上や購入頻度の平均、分散、合計値等の情報が欲しい！\n",
    "性別と年代それぞれの軸で、売上の合計値がほしい！\n",
    "'''"
   ]
  },
  {
   "cell_type": "code",
   "execution_count": 9,
   "metadata": {
    "scrolled": true
   },
   "outputs": [
    {
     "data": {
      "text/html": [
       "<div>\n",
       "<style scoped>\n",
       "    .dataframe tbody tr th:only-of-type {\n",
       "        vertical-align: middle;\n",
       "    }\n",
       "\n",
       "    .dataframe tbody tr th {\n",
       "        vertical-align: top;\n",
       "    }\n",
       "\n",
       "    .dataframe thead th {\n",
       "        text-align: right;\n",
       "    }\n",
       "</style>\n",
       "<table border=\"1\" class=\"dataframe\">\n",
       "  <thead>\n",
       "    <tr style=\"text-align: right;\">\n",
       "      <th></th>\n",
       "      <th>ID</th>\n",
       "      <th>Frequency</th>\n",
       "      <th>Age</th>\n",
       "      <th>Sale</th>\n",
       "    </tr>\n",
       "    <tr>\n",
       "      <th>Month</th>\n",
       "      <th></th>\n",
       "      <th></th>\n",
       "      <th></th>\n",
       "      <th></th>\n",
       "    </tr>\n",
       "  </thead>\n",
       "  <tbody>\n",
       "    <tr>\n",
       "      <th>1</th>\n",
       "      <td>13781</td>\n",
       "      <td>72</td>\n",
       "      <td>2742</td>\n",
       "      <td>752223</td>\n",
       "    </tr>\n",
       "    <tr>\n",
       "      <th>2</th>\n",
       "      <td>15333</td>\n",
       "      <td>89</td>\n",
       "      <td>2783</td>\n",
       "      <td>813704</td>\n",
       "    </tr>\n",
       "    <tr>\n",
       "      <th>3</th>\n",
       "      <td>14056</td>\n",
       "      <td>123</td>\n",
       "      <td>3243</td>\n",
       "      <td>875914</td>\n",
       "    </tr>\n",
       "    <tr>\n",
       "      <th>4</th>\n",
       "      <td>17006</td>\n",
       "      <td>144</td>\n",
       "      <td>3544</td>\n",
       "      <td>939119</td>\n",
       "    </tr>\n",
       "    <tr>\n",
       "      <th>5</th>\n",
       "      <td>16039</td>\n",
       "      <td>182</td>\n",
       "      <td>3393</td>\n",
       "      <td>786863</td>\n",
       "    </tr>\n",
       "  </tbody>\n",
       "</table>\n",
       "</div>"
      ],
      "text/plain": [
       "          ID  Frequency   Age    Sale\n",
       "Month                                \n",
       "1      13781         72  2742  752223\n",
       "2      15333         89  2783  813704\n",
       "3      14056        123  3243  875914\n",
       "4      17006        144  3544  939119\n",
       "5      16039        182  3393  786863"
      ]
     },
     "execution_count": 9,
     "metadata": {},
     "output_type": "execute_result"
    }
   ],
   "source": [
    "df_Sale = df.groupby('Month').sum()\n",
    "df_Sale.head()\n",
    "#月という軸で切ってるからdf_monthという名前の方がいい気する"
   ]
  },
  {
   "cell_type": "code",
   "execution_count": 10,
   "metadata": {},
   "outputs": [],
   "source": [
    "#df.groupby('Month').sum()はデータフレームの型になっていることに注意"
   ]
  },
  {
   "cell_type": "code",
   "execution_count": 11,
   "metadata": {
    "scrolled": true
   },
   "outputs": [
    {
     "data": {
      "text/plain": [
       "Month\n",
       "1    752223\n",
       "2    813704\n",
       "3    875914\n",
       "4    939119\n",
       "5    786863\n",
       "Name: Sale, dtype: int64"
      ]
     },
     "execution_count": 11,
     "metadata": {},
     "output_type": "execute_result"
    }
   ],
   "source": [
    "df_Sale['Sale'].head()"
   ]
  },
  {
   "cell_type": "code",
   "execution_count": 12,
   "metadata": {},
   "outputs": [
    {
     "data": {
      "text/plain": [
       "[<matplotlib.lines.Line2D at 0x10ce898d0>]"
      ]
     },
     "execution_count": 12,
     "metadata": {},
     "output_type": "execute_result"
    },
    {
     "data": {
      "image/png": "[encoded data removed]",
      "text/plain": [
       "<Figure size 432x288 with 1 Axes>"
      ]
     },
     "metadata": {
      "needs_background": "light"
     },
     "output_type": "display_data"
    }
   ],
   "source": [
    "import matplotlib.pyplot as plt\n",
    "%matplotlib inline\n",
    "\n",
    "plt.plot(df_Sale.index, df_Sale['Sale'])"
   ]
  },
  {
   "cell_type": "code",
   "execution_count": 13,
   "metadata": {},
   "outputs": [
    {
     "data": {
      "text/plain": [
       "(0, 1000000)"
      ]
     },
     "execution_count": 13,
     "metadata": {},
     "output_type": "execute_result"
    },
    {
     "data": {
      "image/png": "[encoded data removed]",
      "text/plain": [
       "<Figure size 432x288 with 1 Axes>"
      ]
     },
     "metadata": {
      "needs_background": "light"
     },
     "output_type": "display_data"
    }
   ],
   "source": [
    "plt.plot(df_Sale.index, df_Sale['Sale'])\n",
    "plt.title('Sale Trends')\n",
    "plt.ylim(0, 1000000)"
   ]
  },
  {
   "cell_type": "code",
   "execution_count": 14,
   "metadata": {},
   "outputs": [],
   "source": [
    "#こっちの方がいいかも\n",
    "df.groupby('Month').Sale.sum().reset_index()\n",
    "df_month_sales = df.groupby('Month').Sale.sum().reset_index()"
   ]
  },
  {
   "cell_type": "code",
   "execution_count": 15,
   "metadata": {},
   "outputs": [
    {
     "data": {
      "text/html": [
       "<div>\n",
       "<style scoped>\n",
       "    .dataframe tbody tr th:only-of-type {\n",
       "        vertical-align: middle;\n",
       "    }\n",
       "\n",
       "    .dataframe tbody tr th {\n",
       "        vertical-align: top;\n",
       "    }\n",
       "\n",
       "    .dataframe thead th {\n",
       "        text-align: right;\n",
       "    }\n",
       "</style>\n",
       "<table border=\"1\" class=\"dataframe\">\n",
       "  <thead>\n",
       "    <tr style=\"text-align: right;\">\n",
       "      <th></th>\n",
       "      <th>Month</th>\n",
       "      <th>Sale</th>\n",
       "    </tr>\n",
       "  </thead>\n",
       "  <tbody>\n",
       "    <tr>\n",
       "      <th>0</th>\n",
       "      <td>1</td>\n",
       "      <td>752223</td>\n",
       "    </tr>\n",
       "    <tr>\n",
       "      <th>1</th>\n",
       "      <td>2</td>\n",
       "      <td>813704</td>\n",
       "    </tr>\n",
       "    <tr>\n",
       "      <th>2</th>\n",
       "      <td>3</td>\n",
       "      <td>875914</td>\n",
       "    </tr>\n",
       "    <tr>\n",
       "      <th>3</th>\n",
       "      <td>4</td>\n",
       "      <td>939119</td>\n",
       "    </tr>\n",
       "    <tr>\n",
       "      <th>4</th>\n",
       "      <td>5</td>\n",
       "      <td>786863</td>\n",
       "    </tr>\n",
       "  </tbody>\n",
       "</table>\n",
       "</div>"
      ],
      "text/plain": [
       "   Month    Sale\n",
       "0      1  752223\n",
       "1      2  813704\n",
       "2      3  875914\n",
       "3      4  939119\n",
       "4      5  786863"
      ]
     },
     "execution_count": 15,
     "metadata": {},
     "output_type": "execute_result"
    }
   ],
   "source": [
    "df_month_sales.head()"
   ]
  },
  {
   "cell_type": "code",
   "execution_count": 16,
   "metadata": {},
   "outputs": [
    {
     "data": {
      "text/plain": [
       "(0, 1000000)"
      ]
     },
     "execution_count": 16,
     "metadata": {},
     "output_type": "execute_result"
    },
    {
     "data": {
      "image/png": "[encoded data removed]",
      "text/plain": [
       "<Figure size 432x288 with 1 Axes>"
      ]
     },
     "metadata": {
      "needs_background": "light"
     },
     "output_type": "display_data"
    }
   ],
   "source": [
    "plt.plot(df_month_sales.Month, df_month_sales.Sale,label='Sale')\n",
    "plt.title('Sale Trends')\n",
    "plt.xlabel('Month')\n",
    "plt.ylabel('Sale')\n",
    "plt.legend(loc='upper left')\n",
    "plt.ylim(0, 1000000)"
   ]
  },
  {
   "cell_type": "code",
   "execution_count": 17,
   "metadata": {},
   "outputs": [
    {
     "data": {
      "text/plain": [
       "(0, 1000000)"
      ]
     },
     "execution_count": 17,
     "metadata": {},
     "output_type": "execute_result"
    },
    {
     "data": {
      "image/png": "[encoded data removed]",
      "text/plain": [
       "<Figure size 432x288 with 1 Axes>"
      ]
     },
     "metadata": {},
     "output_type": "display_data"
    }
   ],
   "source": [
    "import seaborn as sns\n",
    "sns.set()\n",
    "\n",
    "sns.lineplot(df_Sale.index, df_Sale['Sale'])\n",
    "plt.title('Sale Trend')\n",
    "plt.ylim(0, 1000000)"
   ]
  },
  {
   "cell_type": "code",
   "execution_count": 18,
   "metadata": {},
   "outputs": [
    {
     "data": {
      "text/plain": [
       "(0, 1000000)"
      ]
     },
     "execution_count": 18,
     "metadata": {},
     "output_type": "execute_result"
    },
    {
     "data": {
      "image/png": "[encoded data removed]",
      "text/plain": [
       "<Figure size 432x288 with 1 Axes>"
      ]
     },
     "metadata": {},
     "output_type": "display_data"
    }
   ],
   "source": [
    "sns.barplot(df_Sale.index, df_Sale['Sale'], color = 'blue')\n",
    "plt.title('Sale Trends')\n",
    "plt.ylim(0, 1000000)"
   ]
  },
  {
   "cell_type": "markdown",
   "metadata": {},
   "source": [
    "### わかったこと :  減少傾向にある。4月ころから、増減を繰り返しており、8月からは減少傾向は強まっている。"
   ]
  },
  {
   "cell_type": "markdown",
   "metadata": {},
   "source": [
    "### どうして減少したのだろうか？\n",
    "### 売上＝客数(購買回数)×客単価より、どちらの影響かを考えていく。\n",
    "\n",
    "※今回は1人1種類の商品しか買っていないことになっている。1レコード1ユーザー。"
   ]
  },
  {
   "cell_type": "markdown",
   "metadata": {},
   "source": [
    "## 2.2 客単価から見ていく。客単価は売上の平均値となる。"
   ]
  },
  {
   "cell_type": "code",
   "execution_count": 19,
   "metadata": {
    "scrolled": true
   },
   "outputs": [
    {
     "data": {
      "text/plain": [
       "Month\n",
       "1     11753.484375\n",
       "2     12144.835821\n",
       "3     12165.472222\n",
       "4     12356.828947\n",
       "5     10491.506667\n",
       "6     13064.082192\n",
       "7     11375.523077\n",
       "8     15846.684211\n",
       "9     11162.241935\n",
       "10    11322.220339\n",
       "11    12362.301887\n",
       "12    11094.760000\n",
       "Name: Sale, dtype: float64"
      ]
     },
     "execution_count": 19,
     "metadata": {},
     "output_type": "execute_result"
    }
   ],
   "source": [
    "df_purchase = df.groupby('Month').mean()\n",
    "df_purchase['Sale'].head(12)"
   ]
  },
  {
   "cell_type": "code",
   "execution_count": 20,
   "metadata": {},
   "outputs": [
    {
     "data": {
      "text/html": [
       "<div>\n",
       "<style scoped>\n",
       "    .dataframe tbody tr th:only-of-type {\n",
       "        vertical-align: middle;\n",
       "    }\n",
       "\n",
       "    .dataframe tbody tr th {\n",
       "        vertical-align: top;\n",
       "    }\n",
       "\n",
       "    .dataframe thead th {\n",
       "        text-align: right;\n",
       "    }\n",
       "</style>\n",
       "<table border=\"1\" class=\"dataframe\">\n",
       "  <thead>\n",
       "    <tr style=\"text-align: right;\">\n",
       "      <th></th>\n",
       "      <th>ID</th>\n",
       "      <th>Frequency</th>\n",
       "      <th>Age</th>\n",
       "      <th>Sale</th>\n",
       "    </tr>\n",
       "    <tr>\n",
       "      <th>Month</th>\n",
       "      <th></th>\n",
       "      <th></th>\n",
       "      <th></th>\n",
       "      <th></th>\n",
       "    </tr>\n",
       "  </thead>\n",
       "  <tbody>\n",
       "    <tr>\n",
       "      <th>1</th>\n",
       "      <td>215.328125</td>\n",
       "      <td>1.125000</td>\n",
       "      <td>42.843750</td>\n",
       "      <td>11753.484375</td>\n",
       "    </tr>\n",
       "    <tr>\n",
       "      <th>2</th>\n",
       "      <td>228.850746</td>\n",
       "      <td>1.328358</td>\n",
       "      <td>41.537313</td>\n",
       "      <td>12144.835821</td>\n",
       "    </tr>\n",
       "    <tr>\n",
       "      <th>3</th>\n",
       "      <td>195.222222</td>\n",
       "      <td>1.708333</td>\n",
       "      <td>45.041667</td>\n",
       "      <td>12165.472222</td>\n",
       "    </tr>\n",
       "    <tr>\n",
       "      <th>4</th>\n",
       "      <td>223.763158</td>\n",
       "      <td>1.894737</td>\n",
       "      <td>46.631579</td>\n",
       "      <td>12356.828947</td>\n",
       "    </tr>\n",
       "    <tr>\n",
       "      <th>5</th>\n",
       "      <td>213.853333</td>\n",
       "      <td>2.426667</td>\n",
       "      <td>45.240000</td>\n",
       "      <td>10491.506667</td>\n",
       "    </tr>\n",
       "  </tbody>\n",
       "</table>\n",
       "</div>"
      ],
      "text/plain": [
       "               ID  Frequency        Age          Sale\n",
       "Month                                                \n",
       "1      215.328125   1.125000  42.843750  11753.484375\n",
       "2      228.850746   1.328358  41.537313  12144.835821\n",
       "3      195.222222   1.708333  45.041667  12165.472222\n",
       "4      223.763158   1.894737  46.631579  12356.828947\n",
       "5      213.853333   2.426667  45.240000  10491.506667"
      ]
     },
     "execution_count": 20,
     "metadata": {},
     "output_type": "execute_result"
    }
   ],
   "source": [
    "#名前\n",
    "df_month_mean = df.groupby('Month').mean()\n",
    "df_month_mean.head()"
   ]
  },
  {
   "cell_type": "markdown",
   "metadata": {},
   "source": [
    "### プロットしてみよう。"
   ]
  },
  {
   "cell_type": "code",
   "execution_count": 21,
   "metadata": {
    "scrolled": true
   },
   "outputs": [
    {
     "data": {
      "text/plain": [
       "(0, 17000)"
      ]
     },
     "execution_count": 21,
     "metadata": {},
     "output_type": "execute_result"
    },
    {
     "data": {
      "image/png": "[encoded data removed]",
      "text/plain": [
       "<Figure size 432x288 with 1 Axes>"
      ]
     },
     "metadata": {},
     "output_type": "display_data"
    }
   ],
   "source": [
    "plt.plot(df_purchase.index, df_purchase['Sale'])\n",
    "plt.title('Average purchase')\n",
    "plt.ylim(0, 17000)"
   ]
  },
  {
   "cell_type": "markdown",
   "metadata": {},
   "source": [
    "### 8月に急激に伸びている。それ以外の時期では、12000円付近になっている。"
   ]
  },
  {
   "cell_type": "code",
   "execution_count": 22,
   "metadata": {},
   "outputs": [
    {
     "data": {
      "text/plain": [
       "Int64Index([1, 2, 3, 4, 5, 6, 7, 8, 9, 10, 11, 12], dtype='int64', name='Month')"
      ]
     },
     "execution_count": 22,
     "metadata": {},
     "output_type": "execute_result"
    }
   ],
   "source": [
    "df_month_mean.index"
   ]
  },
  {
   "cell_type": "code",
   "execution_count": 23,
   "metadata": {},
   "outputs": [
    {
     "data": {
      "text/html": [
       "<div>\n",
       "<style scoped>\n",
       "    .dataframe tbody tr th:only-of-type {\n",
       "        vertical-align: middle;\n",
       "    }\n",
       "\n",
       "    .dataframe tbody tr th {\n",
       "        vertical-align: top;\n",
       "    }\n",
       "\n",
       "    .dataframe thead th {\n",
       "        text-align: right;\n",
       "    }\n",
       "</style>\n",
       "<table border=\"1\" class=\"dataframe\">\n",
       "  <thead>\n",
       "    <tr style=\"text-align: right;\">\n",
       "      <th></th>\n",
       "      <th>ID</th>\n",
       "      <th>Frequency</th>\n",
       "      <th>Age</th>\n",
       "      <th>Sale</th>\n",
       "    </tr>\n",
       "    <tr>\n",
       "      <th>Month</th>\n",
       "      <th></th>\n",
       "      <th></th>\n",
       "      <th></th>\n",
       "      <th></th>\n",
       "    </tr>\n",
       "  </thead>\n",
       "  <tbody>\n",
       "    <tr>\n",
       "      <th>1</th>\n",
       "      <td>215.328125</td>\n",
       "      <td>1.125000</td>\n",
       "      <td>42.843750</td>\n",
       "      <td>11753.484375</td>\n",
       "    </tr>\n",
       "    <tr>\n",
       "      <th>2</th>\n",
       "      <td>228.850746</td>\n",
       "      <td>1.328358</td>\n",
       "      <td>41.537313</td>\n",
       "      <td>12144.835821</td>\n",
       "    </tr>\n",
       "    <tr>\n",
       "      <th>3</th>\n",
       "      <td>195.222222</td>\n",
       "      <td>1.708333</td>\n",
       "      <td>45.041667</td>\n",
       "      <td>12165.472222</td>\n",
       "    </tr>\n",
       "    <tr>\n",
       "      <th>4</th>\n",
       "      <td>223.763158</td>\n",
       "      <td>1.894737</td>\n",
       "      <td>46.631579</td>\n",
       "      <td>12356.828947</td>\n",
       "    </tr>\n",
       "    <tr>\n",
       "      <th>5</th>\n",
       "      <td>213.853333</td>\n",
       "      <td>2.426667</td>\n",
       "      <td>45.240000</td>\n",
       "      <td>10491.506667</td>\n",
       "    </tr>\n",
       "  </tbody>\n",
       "</table>\n",
       "</div>"
      ],
      "text/plain": [
       "               ID  Frequency        Age          Sale\n",
       "Month                                                \n",
       "1      215.328125   1.125000  42.843750  11753.484375\n",
       "2      228.850746   1.328358  41.537313  12144.835821\n",
       "3      195.222222   1.708333  45.041667  12165.472222\n",
       "4      223.763158   1.894737  46.631579  12356.828947\n",
       "5      213.853333   2.426667  45.240000  10491.506667"
      ]
     },
     "execution_count": 23,
     "metadata": {},
     "output_type": "execute_result"
    }
   ],
   "source": [
    "#名前,なんの変数なのかを常に意識\n",
    "df_month_mean = df.groupby('Month').mean()\n",
    "df_month_mean.head()"
   ]
  },
  {
   "cell_type": "code",
   "execution_count": 24,
   "metadata": {},
   "outputs": [
    {
     "data": {
      "text/plain": [
       "Text(0.5, 1.0, 'Average purchase')"
      ]
     },
     "execution_count": 24,
     "metadata": {},
     "output_type": "execute_result"
    },
    {
     "data": {
      "image/png": "[encoded data removed]",
      "text/plain": [
       "<Figure size 432x288 with 1 Axes>"
      ]
     },
     "metadata": {},
     "output_type": "display_data"
    }
   ],
   "source": [
    "plt.plot(df_month_mean.index, df_month_mean['Sale'])\n",
    "plt.title('Average purchase')"
   ]
  },
  {
   "cell_type": "markdown",
   "metadata": {},
   "source": [
    "## 2.3 客数＝購買回数はどうだろうか？"
   ]
  },
  {
   "cell_type": "code",
   "execution_count": 25,
   "metadata": {},
   "outputs": [
    {
     "data": {
      "text/html": [
       "<div>\n",
       "<style scoped>\n",
       "    .dataframe tbody tr th:only-of-type {\n",
       "        vertical-align: middle;\n",
       "    }\n",
       "\n",
       "    .dataframe tbody tr th {\n",
       "        vertical-align: top;\n",
       "    }\n",
       "\n",
       "    .dataframe thead th {\n",
       "        text-align: right;\n",
       "    }\n",
       "</style>\n",
       "<table border=\"1\" class=\"dataframe\">\n",
       "  <thead>\n",
       "    <tr style=\"text-align: right;\">\n",
       "      <th></th>\n",
       "      <th>Date</th>\n",
       "      <th>ID</th>\n",
       "      <th>Frequency</th>\n",
       "      <th>Age</th>\n",
       "      <th>Sex</th>\n",
       "      <th>Sale</th>\n",
       "      <th>Prefecture</th>\n",
       "      <th>Area</th>\n",
       "      <th>Category</th>\n",
       "      <th>Month</th>\n",
       "    </tr>\n",
       "  </thead>\n",
       "  <tbody>\n",
       "    <tr>\n",
       "      <th>0</th>\n",
       "      <td>2018-09-23</td>\n",
       "      <td>1</td>\n",
       "      <td>1</td>\n",
       "      <td>65</td>\n",
       "      <td>Male</td>\n",
       "      <td>28649</td>\n",
       "      <td>Chiba</td>\n",
       "      <td>Kanto</td>\n",
       "      <td>Furniture</td>\n",
       "      <td>9</td>\n",
       "    </tr>\n",
       "    <tr>\n",
       "      <th>1</th>\n",
       "      <td>2018-01-08</td>\n",
       "      <td>2</td>\n",
       "      <td>1</td>\n",
       "      <td>45</td>\n",
       "      <td>Male</td>\n",
       "      <td>11466</td>\n",
       "      <td>Wakayama</td>\n",
       "      <td>Kansai</td>\n",
       "      <td>Commodity</td>\n",
       "      <td>1</td>\n",
       "    </tr>\n",
       "    <tr>\n",
       "      <th>2</th>\n",
       "      <td>2018-02-08</td>\n",
       "      <td>2</td>\n",
       "      <td>2</td>\n",
       "      <td>45</td>\n",
       "      <td>Male</td>\n",
       "      <td>10428</td>\n",
       "      <td>Hyogo</td>\n",
       "      <td>Kansai</td>\n",
       "      <td>Commodity</td>\n",
       "      <td>2</td>\n",
       "    </tr>\n",
       "    <tr>\n",
       "      <th>3</th>\n",
       "      <td>2018-03-07</td>\n",
       "      <td>2</td>\n",
       "      <td>3</td>\n",
       "      <td>45</td>\n",
       "      <td>Male</td>\n",
       "      <td>9510</td>\n",
       "      <td>Saitama</td>\n",
       "      <td>Kanto</td>\n",
       "      <td>Commodity</td>\n",
       "      <td>3</td>\n",
       "    </tr>\n",
       "    <tr>\n",
       "      <th>4</th>\n",
       "      <td>2018-03-10</td>\n",
       "      <td>2</td>\n",
       "      <td>4</td>\n",
       "      <td>45</td>\n",
       "      <td>Male</td>\n",
       "      <td>2706</td>\n",
       "      <td>Osaka</td>\n",
       "      <td>Kansai</td>\n",
       "      <td>Office Supplies</td>\n",
       "      <td>3</td>\n",
       "    </tr>\n",
       "  </tbody>\n",
       "</table>\n",
       "</div>"
      ],
      "text/plain": [
       "        Date  ID  Frequency  Age   Sex   Sale Prefecture    Area  \\\n",
       "0 2018-09-23   1          1   65  Male  28649      Chiba   Kanto   \n",
       "1 2018-01-08   2          1   45  Male  11466   Wakayama  Kansai   \n",
       "2 2018-02-08   2          2   45  Male  10428      Hyogo  Kansai   \n",
       "3 2018-03-07   2          3   45  Male   9510    Saitama   Kanto   \n",
       "4 2018-03-10   2          4   45  Male   2706      Osaka  Kansai   \n",
       "\n",
       "          Category  Month  \n",
       "0        Furniture      9  \n",
       "1        Commodity      1  \n",
       "2        Commodity      2  \n",
       "3        Commodity      3  \n",
       "4  Office Supplies      3  "
      ]
     },
     "execution_count": 25,
     "metadata": {},
     "output_type": "execute_result"
    }
   ],
   "source": [
    "df.head()"
   ]
  },
  {
   "cell_type": "code",
   "execution_count": 26,
   "metadata": {},
   "outputs": [
    {
     "data": {
      "text/plain": [
       "Month\n",
       "1     64\n",
       "2     67\n",
       "3     72\n",
       "4     76\n",
       "5     75\n",
       "6     73\n",
       "7     65\n",
       "8     57\n",
       "9     62\n",
       "10    59\n",
       "11    53\n",
       "12    50\n",
       "Name: ID, dtype: int64"
      ]
     },
     "execution_count": 26,
     "metadata": {},
     "output_type": "execute_result"
    }
   ],
   "source": [
    "\n",
    "df_trans = df.groupby('Month').count()\n",
    "df_trans['ID'].head(12)"
   ]
  },
  {
   "cell_type": "code",
   "execution_count": 27,
   "metadata": {},
   "outputs": [
    {
     "data": {
      "text/plain": [
       "(0, 80)"
      ]
     },
     "execution_count": 27,
     "metadata": {},
     "output_type": "execute_result"
    },
    {
     "data": {
      "image/png": "[encoded data removed]",
      "text/plain": [
       "<Figure size 432x288 with 1 Axes>"
      ]
     },
     "metadata": {},
     "output_type": "display_data"
    }
   ],
   "source": [
    "plt.plot(df_trans.index, df_trans['ID'])\n",
    "plt.title('Number of Transaction')\n",
    "plt.ylim(0, 80)"
   ]
  },
  {
   "cell_type": "markdown",
   "metadata": {},
   "source": [
    "### 売上の減少と購入者の減少の様子が似ている⇒客単価よりも、購入者数の減少が売上減少の原因として大きいのではないか？（方向性を立てる。）"
   ]
  },
  {
   "cell_type": "markdown",
   "metadata": {},
   "source": [
    "## 3 ボトルネック特定"
   ]
  },
  {
   "cell_type": "markdown",
   "metadata": {},
   "source": [
    "### 購入者減少の要因を掴みたい。仮説を立てるために、購入者はどんな人なのか？データから観測される範囲で購入者の特徴を捉えてみよう！"
   ]
  },
  {
   "cell_type": "markdown",
   "metadata": {},
   "source": [
    "## 3.1 デモグラフィックな観点から考える。"
   ]
  },
  {
   "cell_type": "markdown",
   "metadata": {},
   "source": [
    "## 3.1.1 年齢層を見てみる。"
   ]
  },
  {
   "cell_type": "code",
   "execution_count": 28,
   "metadata": {},
   "outputs": [],
   "source": [
    "# 年代ごとにカウントしていきたい。なので、年齢を年代に直す作業を行う。ex. 45→40\n",
    "df['Ages'] = df['Age']//10*10"
   ]
  },
  {
   "cell_type": "code",
   "execution_count": 29,
   "metadata": {
    "scrolled": true
   },
   "outputs": [],
   "source": [
    "#df_ages = df.groupby('Ages').nunique()でも動きました！\n",
    "uniqueID_age = df.groupby('Ages').ID.agg(lambda x: x.nunique())"
   ]
  },
  {
   "cell_type": "code",
   "execution_count": 30,
   "metadata": {},
   "outputs": [
    {
     "data": {
      "text/plain": [
       "Text(0.5, 1.0, 'Age')"
      ]
     },
     "execution_count": 30,
     "metadata": {},
     "output_type": "execute_result"
    },
    {
     "data": {
      "image/png": "[encoded data removed]",
      "text/plain": [
       "<Figure size 432x288 with 1 Axes>"
      ]
     },
     "metadata": {},
     "output_type": "display_data"
    }
   ],
   "source": [
    "plt.bar(uniqueID_age.index, uniqueID_age, width = 10)\n",
    "plt.title('Age')"
   ]
  },
  {
   "cell_type": "code",
   "execution_count": 31,
   "metadata": {},
   "outputs": [
    {
     "data": {
      "text/plain": [
       "<matplotlib.legend.Legend at 0x10d7c8dd8>"
      ]
     },
     "execution_count": 31,
     "metadata": {},
     "output_type": "execute_result"
    },
    {
     "data": {
      "image/png": "[encoded data removed]",
      "text/plain": [
       "<Figure size 300x300 with 1 Axes>"
      ]
     },
     "metadata": {},
     "output_type": "display_data"
    }
   ],
   "source": [
    "fig = plt.figure(figsize=(3,3),dpi=100,facecolor='w',edgecolor='k')\n",
    "plt.subplot(1,1,1)\n",
    "label = uniqueID_age.index\n",
    "x = uniqueID_age\n",
    "# 綺麗な円にならなかったら\n",
    "plt.axis('equal')\n",
    "plt.title('Ages')\n",
    "wedges, texts, autotexts = plt.pie(x,startangle=90, autopct=\"%.1f%%\")\n",
    "\n",
    "plt.legend(wedges[:10], label[:10],\n",
    "          title=\"Age\",\n",
    "          loc=\"center left\",\n",
    "          bbox_to_anchor=(1, 0, 0.5, 1),\n",
    "          fontsize=10)"
   ]
  },
  {
   "cell_type": "markdown",
   "metadata": {},
   "source": [
    "### 性別を見てみる。"
   ]
  },
  {
   "cell_type": "code",
   "execution_count": 32,
   "metadata": {},
   "outputs": [],
   "source": [
    "df_unique_id_sex = df.groupby('Sex').nunique()"
   ]
  },
  {
   "cell_type": "code",
   "execution_count": 33,
   "metadata": {},
   "outputs": [
    {
     "data": {
      "text/plain": [
       "<BarContainer object of 2 artists>"
      ]
     },
     "execution_count": 33,
     "metadata": {},
     "output_type": "execute_result"
    },
    {
     "data": {
      "image/png": "[encoded data removed]",
      "text/plain": [
       "<Figure size 432x288 with 1 Axes>"
      ]
     },
     "metadata": {},
     "output_type": "display_data"
    }
   ],
   "source": [
    "# 日本語対応させなきゃ。\n",
    "plt.bar(df_unique_id_sex.index, df_unique_id_sex['ID'])"
   ]
  },
  {
   "cell_type": "code",
   "execution_count": 34,
   "metadata": {},
   "outputs": [
    {
     "data": {
      "text/plain": [
       "<matplotlib.legend.Legend at 0x118caf400>"
      ]
     },
     "execution_count": 34,
     "metadata": {},
     "output_type": "execute_result"
    },
    {
     "data": {
      "image/png": "[encoded data removed]",
      "text/plain": [
       "<Figure size 300x300 with 1 Axes>"
      ]
     },
     "metadata": {},
     "output_type": "display_data"
    }
   ],
   "source": [
    "fig = plt.figure(figsize=(3,3),dpi=100,facecolor='w',edgecolor='k')\n",
    "plt.subplot(1,1,1)\n",
    "label = df_unique_id_sex.index\n",
    "x = df_unique_id_sex.ID\n",
    "# 綺麗な円にならなかったら\n",
    "plt.axis('equal')\n",
    "plt.title('Ages')\n",
    "wedges, texts, autotexts = plt.pie(x,startangle=90, autopct=\"%.1f%%\")\n",
    "\n",
    "plt.legend(wedges[:10], label[:10],\n",
    "          title=\"Sex\",\n",
    "          loc=\"center left\",\n",
    "          bbox_to_anchor=(1, 0, 0.5, 1),\n",
    "          fontsize=10)"
   ]
  },
  {
   "cell_type": "markdown",
   "metadata": {},
   "source": [
    "## 性別×年代でクロス集計"
   ]
  },
  {
   "cell_type": "code",
   "execution_count": 35,
   "metadata": {},
   "outputs": [
    {
     "data": {
      "text/plain": [
       "<matplotlib.axes._subplots.AxesSubplot at 0x118cacf28>"
      ]
     },
     "execution_count": 35,
     "metadata": {},
     "output_type": "execute_result"
    },
    {
     "data": {
      "image/png": "[encoded data removed]",
      "text/plain": [
       "<Figure size 432x288 with 1 Axes>"
      ]
     },
     "metadata": {},
     "output_type": "display_data"
    }
   ],
   "source": [
    "# IDのダブリをなくせばすぐに出来る。\n",
    "df_sex_age = df.drop_duplicates(subset = ['ID'], keep = 'last')\n",
    "sns.countplot(x = df_sex_age['Ages'], hue = df_sex_age['Sex'])"
   ]
  },
  {
   "cell_type": "markdown",
   "metadata": {},
   "source": [
    "### わかったこと\n",
    "1. 男性の割合が7割\n",
    "2. 年代分布は平均を40代とした正規分布に近い\n",
    "3. 男女によって年代の分布は異なる。40代では全体の男女割合において女性が少し高い\n",
    "\n",
    "→客単価が男女間で差がないと仮定し、年代と性別の月ごとの変化を見たい。"
   ]
  },
  {
   "cell_type": "markdown",
   "metadata": {},
   "source": [
    "## 仮説：男性の方が多いから、男性が減ったのでしょうか？\n",
    "この仮説変じゃない？上のクロス表やこれまでのグラフからわかること？"
   ]
  },
  {
   "cell_type": "markdown",
   "metadata": {},
   "source": [
    "## 3.1.2 この段階では売上減少の直接的な原因がわからないため、時間という変数を追加してみる"
   ]
  },
  {
   "cell_type": "markdown",
   "metadata": {},
   "source": [
    "### 月ごとの男女での客数の変化"
   ]
  },
  {
   "cell_type": "code",
   "execution_count": 36,
   "metadata": {},
   "outputs": [
    {
     "data": {
      "text/plain": [
       "Sex     Month\n",
       "Female  1        16\n",
       "        2        12\n",
       "        3        15\n",
       "        4        16\n",
       "        5        15\n",
       "        6        15\n",
       "        7        13\n",
       "        8        10\n",
       "        9        19\n",
       "        10       14\n",
       "        11       15\n",
       "        12       14\n",
       "Male    1        41\n",
       "        2        49\n",
       "        3        52\n",
       "        4        50\n",
       "        5        51\n",
       "        6        53\n",
       "        7        43\n",
       "        8        42\n",
       "        9        38\n",
       "        10       39\n",
       "        11       36\n",
       "        12       33\n",
       "Name: ID, dtype: int64"
      ]
     },
     "execution_count": 36,
     "metadata": {},
     "output_type": "execute_result"
    }
   ],
   "source": [
    "df.groupby(['Sex','Month']).ID.nunique()"
   ]
  },
  {
   "cell_type": "code",
   "execution_count": 37,
   "metadata": {},
   "outputs": [],
   "source": [
    "df_uniqueID_sex_month = df.groupby(['Sex','Month']).ID.nunique()"
   ]
  },
  {
   "cell_type": "code",
   "execution_count": 38,
   "metadata": {},
   "outputs": [
    {
     "data": {
      "text/plain": [
       "Int64Index([1, 2, 3, 4, 5, 6, 7, 8, 9, 10, 11, 12], dtype='int64', name='Month')"
      ]
     },
     "execution_count": 38,
     "metadata": {},
     "output_type": "execute_result"
    }
   ],
   "source": [
    "df_uniqueID_sex_month.Female.index"
   ]
  },
  {
   "cell_type": "code",
   "execution_count": 39,
   "metadata": {},
   "outputs": [
    {
     "data": {
      "text/plain": [
       "[<matplotlib.lines.Line2D at 0x118f58da0>]"
      ]
     },
     "execution_count": 39,
     "metadata": {},
     "output_type": "execute_result"
    },
    {
     "data": {
      "image/png": "[encoded data removed]",
      "text/plain": [
       "<Figure size 432x288 with 1 Axes>"
      ]
     },
     "metadata": {},
     "output_type": "display_data"
    }
   ],
   "source": [
    "plt.title('Man or Female')\n",
    "plt.ylim(0, 70)\n",
    "plt.plot(df_uniqueID_sex_month.Male.index, df_uniqueID_sex_month.Male.values)\n",
    "plt.plot(df_uniqueID_sex_month.Female.index, df_uniqueID_sex_month.Female.values)"
   ]
  },
  {
   "cell_type": "markdown",
   "metadata": {},
   "source": [
    "### 男性の減少が顕著"
   ]
  },
  {
   "cell_type": "markdown",
   "metadata": {},
   "source": [
    "## 月ごとの年代の客数変化"
   ]
  },
  {
   "cell_type": "code",
   "execution_count": 40,
   "metadata": {
    "scrolled": true
   },
   "outputs": [
    {
     "data": {
      "text/plain": [
       "Ages  Month\n",
       "20    1         7\n",
       "      2        13\n",
       "      3        12\n",
       "      4         9\n",
       "      5         8\n",
       "      6         9\n",
       "      7        11\n",
       "      8        10\n",
       "      9         6\n",
       "      10        8\n",
       "      11        4\n",
       "      12       10\n",
       "30    1        19\n",
       "      2        18\n",
       "      3        14\n",
       "      4        13\n",
       "      5        17\n",
       "      6        19\n",
       "      7        14\n",
       "      8        11\n",
       "      9         7\n",
       "      10       12\n",
       "      11       12\n",
       "      12        6\n",
       "40    1        15\n",
       "      2        11\n",
       "      3        14\n",
       "      4        13\n",
       "      5        14\n",
       "      6        13\n",
       "      7        11\n",
       "      8        12\n",
       "      9        18\n",
       "      10       13\n",
       "      11       13\n",
       "      12        8\n",
       "50    1        10\n",
       "      2        11\n",
       "      3        15\n",
       "      4        17\n",
       "      5        16\n",
       "      6        17\n",
       "      7        11\n",
       "      8        14\n",
       "      9        13\n",
       "      10       13\n",
       "      11       13\n",
       "      12        9\n",
       "60    1         7\n",
       "      2         6\n",
       "      3        13\n",
       "      4        12\n",
       "      5        11\n",
       "      6        11\n",
       "      7        10\n",
       "      8         5\n",
       "      9        14\n",
       "      10        7\n",
       "      11        8\n",
       "      12       14\n",
       "Name: ID, dtype: int64"
      ]
     },
     "execution_count": 40,
     "metadata": {},
     "output_type": "execute_result"
    }
   ],
   "source": [
    "df.groupby(['Ages','Month']).ID.nunique()"
   ]
  },
  {
   "cell_type": "code",
   "execution_count": 41,
   "metadata": {},
   "outputs": [],
   "source": [
    "df_uniqueID_age_month = df.groupby(['Ages','Month']).ID.nunique()"
   ]
  },
  {
   "cell_type": "code",
   "execution_count": 42,
   "metadata": {},
   "outputs": [
    {
     "data": {
      "image/png": "[encoded data removed]",
      "text/plain": [
       "<Figure size 432x288 with 1 Axes>"
      ]
     },
     "metadata": {},
     "output_type": "display_data"
    }
   ],
   "source": [
    "plt.title('Age-Month')\n",
    "plt.ylim(0, 70)\n",
    "ages = [20,30,40,50,60]#ここ微妙\n",
    "for i in ages:\n",
    "    plt.plot(df_uniqueID_age_month[i].index, df_uniqueID_age_month[i].values,label=i)\n",
    "    plt.ylim(0, 20)\n",
    "    plt.xlabel('Month')\n",
    "    plt.ylabel('Numbaer')\n",
    "    plt.legend(loc = 'upper right')"
   ]
  },
  {
   "cell_type": "markdown",
   "metadata": {},
   "source": [
    "### あまりこのデータからはわからない気する"
   ]
  },
  {
   "cell_type": "markdown",
   "metadata": {},
   "source": [
    "## 3.2 購買頻度で顧客を見てみる"
   ]
  },
  {
   "cell_type": "code",
   "execution_count": 43,
   "metadata": {},
   "outputs": [
    {
     "data": {
      "text/html": [
       "<div>\n",
       "<style scoped>\n",
       "    .dataframe tbody tr th:only-of-type {\n",
       "        vertical-align: middle;\n",
       "    }\n",
       "\n",
       "    .dataframe tbody tr th {\n",
       "        vertical-align: top;\n",
       "    }\n",
       "\n",
       "    .dataframe thead th {\n",
       "        text-align: right;\n",
       "    }\n",
       "</style>\n",
       "<table border=\"1\" class=\"dataframe\">\n",
       "  <thead>\n",
       "    <tr style=\"text-align: right;\">\n",
       "      <th></th>\n",
       "      <th>Date</th>\n",
       "      <th>ID</th>\n",
       "      <th>Frequency</th>\n",
       "      <th>Age</th>\n",
       "      <th>Sex</th>\n",
       "      <th>Sale</th>\n",
       "      <th>Prefecture</th>\n",
       "      <th>Area</th>\n",
       "      <th>Category</th>\n",
       "      <th>Month</th>\n",
       "      <th>Ages</th>\n",
       "    </tr>\n",
       "  </thead>\n",
       "  <tbody>\n",
       "    <tr>\n",
       "      <th>0</th>\n",
       "      <td>2018-09-23</td>\n",
       "      <td>1</td>\n",
       "      <td>1</td>\n",
       "      <td>65</td>\n",
       "      <td>Male</td>\n",
       "      <td>28649</td>\n",
       "      <td>Chiba</td>\n",
       "      <td>Kanto</td>\n",
       "      <td>Furniture</td>\n",
       "      <td>9</td>\n",
       "      <td>60</td>\n",
       "    </tr>\n",
       "    <tr>\n",
       "      <th>1</th>\n",
       "      <td>2018-01-08</td>\n",
       "      <td>2</td>\n",
       "      <td>1</td>\n",
       "      <td>45</td>\n",
       "      <td>Male</td>\n",
       "      <td>11466</td>\n",
       "      <td>Wakayama</td>\n",
       "      <td>Kansai</td>\n",
       "      <td>Commodity</td>\n",
       "      <td>1</td>\n",
       "      <td>40</td>\n",
       "    </tr>\n",
       "    <tr>\n",
       "      <th>2</th>\n",
       "      <td>2018-02-08</td>\n",
       "      <td>2</td>\n",
       "      <td>2</td>\n",
       "      <td>45</td>\n",
       "      <td>Male</td>\n",
       "      <td>10428</td>\n",
       "      <td>Hyogo</td>\n",
       "      <td>Kansai</td>\n",
       "      <td>Commodity</td>\n",
       "      <td>2</td>\n",
       "      <td>40</td>\n",
       "    </tr>\n",
       "    <tr>\n",
       "      <th>3</th>\n",
       "      <td>2018-03-07</td>\n",
       "      <td>2</td>\n",
       "      <td>3</td>\n",
       "      <td>45</td>\n",
       "      <td>Male</td>\n",
       "      <td>9510</td>\n",
       "      <td>Saitama</td>\n",
       "      <td>Kanto</td>\n",
       "      <td>Commodity</td>\n",
       "      <td>3</td>\n",
       "      <td>40</td>\n",
       "    </tr>\n",
       "    <tr>\n",
       "      <th>4</th>\n",
       "      <td>2018-03-10</td>\n",
       "      <td>2</td>\n",
       "      <td>4</td>\n",
       "      <td>45</td>\n",
       "      <td>Male</td>\n",
       "      <td>2706</td>\n",
       "      <td>Osaka</td>\n",
       "      <td>Kansai</td>\n",
       "      <td>Office Supplies</td>\n",
       "      <td>3</td>\n",
       "      <td>40</td>\n",
       "    </tr>\n",
       "  </tbody>\n",
       "</table>\n",
       "</div>"
      ],
      "text/plain": [
       "        Date  ID  Frequency  Age   Sex   Sale Prefecture    Area  \\\n",
       "0 2018-09-23   1          1   65  Male  28649      Chiba   Kanto   \n",
       "1 2018-01-08   2          1   45  Male  11466   Wakayama  Kansai   \n",
       "2 2018-02-08   2          2   45  Male  10428      Hyogo  Kansai   \n",
       "3 2018-03-07   2          3   45  Male   9510    Saitama   Kanto   \n",
       "4 2018-03-10   2          4   45  Male   2706      Osaka  Kansai   \n",
       "\n",
       "          Category  Month  Ages  \n",
       "0        Furniture      9    60  \n",
       "1        Commodity      1    40  \n",
       "2        Commodity      2    40  \n",
       "3        Commodity      3    40  \n",
       "4  Office Supplies      3    40  "
      ]
     },
     "execution_count": 43,
     "metadata": {},
     "output_type": "execute_result"
    }
   ],
   "source": [
    "df.head()"
   ]
  },
  {
   "cell_type": "code",
   "execution_count": 44,
   "metadata": {},
   "outputs": [
    {
     "data": {
      "text/html": [
       "<div>\n",
       "<style scoped>\n",
       "    .dataframe tbody tr th:only-of-type {\n",
       "        vertical-align: middle;\n",
       "    }\n",
       "\n",
       "    .dataframe tbody tr th {\n",
       "        vertical-align: top;\n",
       "    }\n",
       "\n",
       "    .dataframe thead th {\n",
       "        text-align: right;\n",
       "    }\n",
       "</style>\n",
       "<table border=\"1\" class=\"dataframe\">\n",
       "  <thead>\n",
       "    <tr style=\"text-align: right;\">\n",
       "      <th></th>\n",
       "      <th>Date</th>\n",
       "      <th>Frequency</th>\n",
       "      <th>Age</th>\n",
       "      <th>Sex</th>\n",
       "      <th>Sale</th>\n",
       "      <th>Prefecture</th>\n",
       "      <th>Area</th>\n",
       "      <th>Category</th>\n",
       "      <th>Month</th>\n",
       "      <th>Ages</th>\n",
       "    </tr>\n",
       "    <tr>\n",
       "      <th>ID</th>\n",
       "      <th></th>\n",
       "      <th></th>\n",
       "      <th></th>\n",
       "      <th></th>\n",
       "      <th></th>\n",
       "      <th></th>\n",
       "      <th></th>\n",
       "      <th></th>\n",
       "      <th></th>\n",
       "      <th></th>\n",
       "    </tr>\n",
       "  </thead>\n",
       "  <tbody>\n",
       "    <tr>\n",
       "      <th>1</th>\n",
       "      <td>2018-09-23</td>\n",
       "      <td>1</td>\n",
       "      <td>65</td>\n",
       "      <td>Male</td>\n",
       "      <td>28649</td>\n",
       "      <td>Chiba</td>\n",
       "      <td>Kanto</td>\n",
       "      <td>Furniture</td>\n",
       "      <td>9</td>\n",
       "      <td>60</td>\n",
       "    </tr>\n",
       "    <tr>\n",
       "      <th>2</th>\n",
       "      <td>2018-09-23</td>\n",
       "      <td>8</td>\n",
       "      <td>45</td>\n",
       "      <td>Male</td>\n",
       "      <td>24254</td>\n",
       "      <td>Wakayama</td>\n",
       "      <td>Tyubu</td>\n",
       "      <td>Office Supplies</td>\n",
       "      <td>9</td>\n",
       "      <td>40</td>\n",
       "    </tr>\n",
       "    <tr>\n",
       "      <th>3</th>\n",
       "      <td>2018-11-29</td>\n",
       "      <td>1</td>\n",
       "      <td>49</td>\n",
       "      <td>Male</td>\n",
       "      <td>105</td>\n",
       "      <td>Kagoshima</td>\n",
       "      <td>Kyusyuu</td>\n",
       "      <td>Office Supplies</td>\n",
       "      <td>11</td>\n",
       "      <td>40</td>\n",
       "    </tr>\n",
       "    <tr>\n",
       "      <th>4</th>\n",
       "      <td>2018-03-04</td>\n",
       "      <td>1</td>\n",
       "      <td>49</td>\n",
       "      <td>Male</td>\n",
       "      <td>561</td>\n",
       "      <td>Nara</td>\n",
       "      <td>Kansai</td>\n",
       "      <td>Office Supplies</td>\n",
       "      <td>3</td>\n",
       "      <td>40</td>\n",
       "    </tr>\n",
       "    <tr>\n",
       "      <th>5</th>\n",
       "      <td>2018-07-20</td>\n",
       "      <td>6</td>\n",
       "      <td>69</td>\n",
       "      <td>Male</td>\n",
       "      <td>28246</td>\n",
       "      <td>Tochigi</td>\n",
       "      <td>Tyubu</td>\n",
       "      <td>Office Supplies</td>\n",
       "      <td>7</td>\n",
       "      <td>60</td>\n",
       "    </tr>\n",
       "  </tbody>\n",
       "</table>\n",
       "</div>"
      ],
      "text/plain": [
       "         Date  Frequency  Age   Sex   Sale Prefecture     Area  \\\n",
       "ID                                                               \n",
       "1  2018-09-23          1   65  Male  28649      Chiba    Kanto   \n",
       "2  2018-09-23          8   45  Male  24254   Wakayama    Tyubu   \n",
       "3  2018-11-29          1   49  Male    105  Kagoshima  Kyusyuu   \n",
       "4  2018-03-04          1   49  Male    561       Nara   Kansai   \n",
       "5  2018-07-20          6   69  Male  28246    Tochigi    Tyubu   \n",
       "\n",
       "           Category  Month  Ages  \n",
       "ID                                \n",
       "1         Furniture      9    60  \n",
       "2   Office Supplies      9    40  \n",
       "3   Office Supplies     11    40  \n",
       "4   Office Supplies      3    40  \n",
       "5   Office Supplies      7    60  "
      ]
     },
     "execution_count": 44,
     "metadata": {},
     "output_type": "execute_result"
    }
   ],
   "source": [
    "# IDでグループかつ、最大値を考えることで、個人の購買頻度がデータに含まれる。→最初からfrequencyがデータとして残ってるってことか。。\n",
    "df_Freq = df.groupby('ID').max()\n",
    "df_Freq.head()"
   ]
  },
  {
   "cell_type": "code",
   "execution_count": 45,
   "metadata": {},
   "outputs": [
    {
     "data": {
      "text/plain": [
       "Text(0.5, 1.0, 'Frequency')"
      ]
     },
     "execution_count": 45,
     "metadata": {},
     "output_type": "execute_result"
    },
    {
     "data": {
      "image/png": "[encoded data removed]",
      "text/plain": [
       "<Figure size 432x288 with 1 Axes>"
      ]
     },
     "metadata": {},
     "output_type": "display_data"
    }
   ],
   "source": [
    "# 圧倒的に1回で終わっている人が多い。\n",
    "sns.countplot(df_Freq['Frequency'])\n",
    "plt.title('Frequency')"
   ]
  },
  {
   "cell_type": "code",
   "execution_count": 46,
   "metadata": {},
   "outputs": [],
   "source": [
    "# 新規を示すダミー変数を作る。その月に初めて購買した人。\n",
    "for i in range (len(df)):\n",
    "    if df.loc[i, 'Frequency'] == 1:\n",
    "        df.loc[i, 'New'] = 1\n",
    "    else:\n",
    "        df.loc[i, 'New'] = 0"
   ]
  },
  {
   "cell_type": "code",
   "execution_count": 47,
   "metadata": {},
   "outputs": [
    {
     "data": {
      "text/plain": [
       "<matplotlib.legend.Legend at 0x11f0fcb38>"
      ]
     },
     "execution_count": 47,
     "metadata": {},
     "output_type": "execute_result"
    },
    {
     "data": {
      "image/png": "[encoded data removed]",
      "text/plain": [
       "<Figure size 432x288 with 1 Axes>"
      ]
     },
     "metadata": {},
     "output_type": "display_data"
    }
   ],
   "source": [
    "# １月に両者の値が一致しないのは、1月に2回以上購入した人がいるからである。\n",
    "#割合表示の方がいい気する\n",
    "df_new_visit = df.groupby('Month').sum()\n",
    "\n",
    "plt.plot(df_trans.index, df_trans['ID'], label = 'All')\n",
    "plt.plot(df_new_visit.index , df_new_visit['New'], label = 'New')\n",
    "plt.title('Number of Transaction')\n",
    "plt.ylim(0, 80)\n",
    "plt.legend()"
   ]
  },
  {
   "cell_type": "markdown",
   "metadata": {},
   "source": [
    "## 新規の流入は段々と減っているのは事実。どうして、新規の流入が減っているのだろうか？どうすれば、新規の流入を回復させることが出来るか？"
   ]
  },
  {
   "cell_type": "code",
   "execution_count": null,
   "metadata": {},
   "outputs": [],
   "source": []
  }
 ],
 "metadata": {
  "anaconda-cloud": {},
  "kernelspec": {
   "display_name": "Python 3",
   "language": "python",
   "name": "python3"
  },
  "language_info": {
   "codemirror_mode": {
    "name": "ipython",
    "version": 3
   },
   "file_extension": ".py",
   "mimetype": "text/x-python",
   "name": "python",
   "nbconvert_exporter": "python",
   "pygments_lexer": "ipython3",
   "version": "3.8.2"
  }
 },
 "nbformat": 4,
 "nbformat_minor": 4
}
