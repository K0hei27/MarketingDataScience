{
 "cells": [
  {
   "cell_type": "markdown",
   "metadata": {},
   "source": [
    "# Data Visualization Workshop"
   ]
  },
  {
   "cell_type": "markdown",
   "metadata": {},
   "source": [
    "# 第１部：Datactの紹介\n",
    "# 第２部：イントロダクション"
   ]
  },
  {
   "cell_type": "markdown",
   "metadata": {},
   "source": [
    "# 第3部 : Hands on ! ~ Pythonを用いたデータの可視化 ~"
   ]
  },
  {
   "cell_type": "markdown",
   "metadata": {},
   "source": [
    "# 0. Introduction\n",
    "## 0.0 WorkshopのGOAL\n",
    "1. データ分析がビジネスでどのような場面で活用されているか理解できた！\n",
    "2. データの可視化を通して、データドリブンに次のアクションを起こせるようになる！\n",
    "3. Python・PowerBI ってなんだか面白い！！\n",
    "\n",
    "## 0.1 データ分析の目的\n",
    "### 課題解決の手段\n",
    "現状やイシューを構成する要素，考えられる仮説を「比べる」ことであたりをつけること。\n",
    "\n",
    "「比べる」ことで要素ごとの共通点や相違点，特徴や傾向を見つけることができ，仮説のサポートになる。\n",
    "\n",
    "※ 全体像(目的とそれを構成する要素)を俯瞰しつつ，自分が今いる位置を把握しながらマクロからミクロに展開していくことが大切！\n",
    "\n",
    "## 0.2 可視化の利点\n",
    "1. 特徴の顕在化 ： 生の数字のデータでは見えなかった特徴や傾向をつかむことができること\n",
    "2. わかりやすい ： 視覚的にわかりやすく，説得力がある\n",
    "\n",
    "## 0.3 グラフの種類\n",
    "1. 比較 : 棒グラフ，ヒストグラム\n",
    "2. 構成 : 円グラフ，スタックバー\n",
    "3. 推移 : 折れ線グラフ，棒グラフ\n",
    "    \n",
    "## 0.4 課題解決の流れとデータ分析方法\n",
    "1. 現状分析 : 現状把握データ分析\n",
    "2. 課題定義 : 仮説検証データ分析\n",
    "3. 施策立案 : 仮説検証データ分析，モデル構築\n",
    "4. 効果検証 : 効果測定分析\n",
    "\n",
    "## 0.5 第3部のポイント\n",
    "1. 可視化した各要因に対して、課題がどの要因にあるかを判断すること\n",
    "2. 課題に対する仮説を考え、それを検証すること\n",
    "3. グラフを作成する際に、正しくデータを集計，表現することが意識すること"
   ]
  },
  {
   "cell_type": "markdown",
   "metadata": {},
   "source": [
    "# 1. 前準備"
   ]
  },
  {
   "cell_type": "markdown",
   "metadata": {},
   "source": [
    "### 【背景】あなたは無印良品の代官山店の社員です。無印良品の代官山店の店長から最近売上が以前に比べて，よくないと感じる。\n",
    "### 【目的】売上が本当に下がっているのか確認して，下がっているならその要因を突き止めること\n",
    "### 【そのために】実際にデータを見て、どれくらい売上が減少しているのだろうか？グラフを作って確認したいが、、、\n",
    "### 【その前に】分析の前準備として、まずは今持っているデータに対する理解を深めておこう。そしてアウトプットを出す上で分析するのに必要十分なデータなのか確認しよう！→現在保持しているのはPOSデータのみ\n",
    "### 【まとめ】\n",
    "     1. あなた : 無印良品の代官山店の社員\n",
    "     2. クライアント ： 無印良品の代官山店の店長\n",
    "     3. ヒアリングによると、売上が減少しているらしいので，2018年から顧客データを取り始めている。\n",
    "     4. 目的：売上が本当に下がっているのか確認して，下がっているならその要因を突き止めること\n",
    "     5. 持っているデータ : POSデータ（だれがいつ何を買ったのか）"
   ]
  },
  {
   "cell_type": "markdown",
   "metadata": {},
   "source": [
    "## 1.1 データ理解：データを確認してみよう！"
   ]
  },
  {
   "cell_type": "markdown",
   "metadata": {},
   "source": [
    "### 今回データは仮想無印良品のPOSデータです。"
   ]
  },
  {
   "cell_type": "markdown",
   "metadata": {},
   "source": [
    "### 【Try】pandasを読み込んでください。pandasを使う時は、pdと略して (as) 使います。"
   ]
  },
  {
   "cell_type": "code",
   "execution_count": null,
   "metadata": {},
   "outputs": [],
   "source": [
    "import pandas as pd"
   ]
  },
  {
   "cell_type": "code",
   "execution_count": null,
   "metadata": {},
   "outputs": [],
   "source": [
    "#データ分析用のライブラリpandasをインポートする!\n",
    "import pandas as pd\n",
    "\n",
    "#ライブラリとは，プログラムの部品を集めたファイルのこと。ライブラリを利用することで一定の処理を省くことができる。\n",
    "#ex) データ分析ライブラリ，数値計算ライブラリ，可視化ライブラリ，画像処理ライブラリ，機械学習ライブラリ，ディープラーニングライブラリ..."
   ]
  },
  {
   "cell_type": "markdown",
   "metadata": {},
   "source": [
    "### 【Try】ファイルを読み込みましょう！"
   ]
  },
  {
   "cell_type": "code",
   "execution_count": null,
   "metadata": {},
   "outputs": [],
   "source": []
  },
  {
   "cell_type": "code",
   "execution_count": null,
   "metadata": {},
   "outputs": [],
   "source": [
    "# ファイルを読み込んで、読みこんだデータに対して、dfという名前をつけます。\n",
    "\n",
    "df = pd.read_csv('./transaction.csv')\n",
    "\n",
    "# pd.read_csvはpandasのcsvファイルを読み込むためのメソッド。"
   ]
  },
  {
   "cell_type": "markdown",
   "metadata": {},
   "source": [
    "## データを読み込んで最初に気をつけること！！\n",
    "1. データにどんなカラム(=パラメータ) が含まれているのか？\n",
    "2. データの欠損がないか？（データが少ないカラムがあったりしないか？）\n",
    "3. ・各データの形式が何か？（文字列か？数字か？）"
   ]
  },
  {
   "cell_type": "markdown",
   "metadata": {},
   "source": [
    "### 【Try】データを見てみよう！"
   ]
  },
  {
   "cell_type": "code",
   "execution_count": null,
   "metadata": {
    "scrolled": true
   },
   "outputs": [],
   "source": [
    "df"
   ]
  },
  {
   "cell_type": "code",
   "execution_count": null,
   "metadata": {
    "scrolled": true
   },
   "outputs": [],
   "source": [
    "df\n",
    "#データフレームの行にはトランザクションごとのデータ，列にはトランザクションの特徴量(属性)が格納されている"
   ]
  },
  {
   "cell_type": "markdown",
   "metadata": {},
   "source": [
    "### 【Try】上から5つだけ見てみよう！"
   ]
  },
  {
   "cell_type": "code",
   "execution_count": null,
   "metadata": {},
   "outputs": [],
   "source": [
    "df.head()"
   ]
  },
  {
   "cell_type": "code",
   "execution_count": null,
   "metadata": {},
   "outputs": [],
   "source": [
    "df.head()\n",
    "#dfの中身(大枠)を確認，head→上から五行のみを表示"
   ]
  },
  {
   "cell_type": "markdown",
   "metadata": {},
   "source": [
    "### POSデータ(トランザクションデータ)：どういう顧客がいつ何をいくらで購入したか？"
   ]
  },
  {
   "cell_type": "markdown",
   "metadata": {},
   "source": [
    "### データの列の内容\n",
    "* Date : 購入した年月\n",
    "* ID : 購入者のID番号\n",
    "* Frequency : 購入回数\n",
    "* Age : 年齢\n",
    "* Sex : 性別\n",
    "* Sale : 売上\n",
    "* Prefecture : 都道府県\n",
    "* Area : 地区\n",
    "* Category : 商品カテゴリ"
   ]
  },
  {
   "cell_type": "code",
   "execution_count": null,
   "metadata": {},
   "outputs": [],
   "source": [
    "df.info()\n",
    "#データの形式と不足を確認"
   ]
  },
  {
   "cell_type": "markdown",
   "metadata": {},
   "source": [
    "## データを読み込んで最初に気をつけること！！\n",
    "1. データにどんなカラム(=パラメータ) が含まれているのか？　→　年月，　売上，　年齢\n",
    "2. データの欠損がないか？（データが少ないカラムがあったりしないか？） → 欠損したデータはない！\n",
    "3. 各データの形式が何か？（文字列か？数字か？） → 文字列と数字！！"
   ]
  },
  {
   "cell_type": "markdown",
   "metadata": {},
   "source": [
    "## 1.2 データ加工"
   ]
  },
  {
   "cell_type": "markdown",
   "metadata": {},
   "source": [
    "### 今回の目的は売上減少の原因を探り、来月の売上減少を阻止するためのヒントを得ること！\n",
    "### Dateの部分が使いにくい → 日付の部分から月のみを取り出そう！\n",
    "欲しいアウトプットに対して、何のデータが欲しいのか？どこまで掘り下げるのか？を常に考えることが大切！"
   ]
  },
  {
   "cell_type": "code",
   "execution_count": null,
   "metadata": {},
   "outputs": [],
   "source": [
    "df.head()"
   ]
  },
  {
   "cell_type": "code",
   "execution_count": null,
   "metadata": {},
   "outputs": [],
   "source": [
    "# 月ごとに集計をするため、日付から月を取り出す。\n",
    "\n",
    "df['Date'] = pd.to_datetime(df['Date'],format='%Y-%m-%d')\n",
    "# データの型をto_dataframeで時間の型に変換し， df['Data']に代入"
   ]
  },
  {
   "cell_type": "code",
   "execution_count": null,
   "metadata": {},
   "outputs": [],
   "source": [
    "df.info()\n",
    "#確認"
   ]
  },
  {
   "cell_type": "code",
   "execution_count": null,
   "metadata": {},
   "outputs": [],
   "source": [
    "df['Month'] = df['Date'].dt.month\n",
    "# 月のみを抽出\n",
    "# df['Date']内の'month'という要素にアクセスし，df['Month']に代入\n",
    "\n",
    "df.head()\n",
    "#データ確認"
   ]
  },
  {
   "cell_type": "markdown",
   "metadata": {},
   "source": [
    "#### 今回は年月だけ加工したが、どこまでセグメントを分け，加工していくのかは目的に応じて考える必要がある\n",
    "#### ex) 年代+性別というひとまとまりのデータが得られたりする場合にそれぞれの属性に対して分析したい場合は加工が必要"
   ]
  },
  {
   "cell_type": "markdown",
   "metadata": {},
   "source": [
    "# 2. データ可視化による現状分析"
   ]
  },
  {
   "cell_type": "markdown",
   "metadata": {},
   "source": [
    "## 2.1 売上が本当に減少しているのか確認する！"
   ]
  },
  {
   "cell_type": "markdown",
   "metadata": {},
   "source": [
    "### 月ごとに売上を集計⇒可視化"
   ]
  },
  {
   "cell_type": "markdown",
   "metadata": {},
   "source": [
    "## 【Try】月ごとの売上を集計してみよう！"
   ]
  },
  {
   "cell_type": "code",
   "execution_count": null,
   "metadata": {},
   "outputs": [],
   "source": [
    "df.groupby('Month').sum()"
   ]
  },
  {
   "cell_type": "code",
   "execution_count": null,
   "metadata": {},
   "outputs": [],
   "source": [
    "df.groupby('Month').sum()\n",
    "# 月ごとに売上の合計値を集計してみよう！\n",
    "#月ごとにグループ分けし，足し合わせの操作(sum)をする"
   ]
  },
  {
   "cell_type": "code",
   "execution_count": null,
   "metadata": {
    "scrolled": false
   },
   "outputs": [],
   "source": [
    "'''\n",
    "groupby関数\n",
    "→データフレームでグループごとに同じ操作を加えたい時は、groupby().操作名というコードを使います。\n",
    "\n",
    "ex)\n",
    "月ごとの売上の合計値が欲しい！\n",
    "性別と年代それぞれの軸で、売上の合計値がほしい！\n",
    "'''"
   ]
  },
  {
   "cell_type": "code",
   "execution_count": null,
   "metadata": {},
   "outputs": [],
   "source": [
    "df_month_sum = df.groupby('Month').sum()\n",
    "#月ごとにグループ分けし，足し合わせの操作(sum)をする\n",
    "#df_month_sumというデータフレームを作成し，代入する"
   ]
  },
  {
   "cell_type": "code",
   "execution_count": null,
   "metadata": {},
   "outputs": [],
   "source": [
    "df_month_sum\n",
    "#データの確認！"
   ]
  },
  {
   "cell_type": "markdown",
   "metadata": {},
   "source": [
    "## 集計したデータを可視化"
   ]
  },
  {
   "cell_type": "markdown",
   "metadata": {},
   "source": [
    "### 縦軸：売上の合計値，横軸：月　の折れ線グラフを作成"
   ]
  },
  {
   "cell_type": "code",
   "execution_count": null,
   "metadata": {},
   "outputs": [],
   "source": [
    "df_month_sum['Sale']\n",
    "#売上の合計値のデータを確認\n",
    "#df_month_sum内のカラム名'Sale'の値を表示"
   ]
  },
  {
   "cell_type": "code",
   "execution_count": null,
   "metadata": {},
   "outputs": [],
   "source": [
    "df_month_sum.index\n",
    "#df_month_sum内のindexを表示"
   ]
  },
  {
   "cell_type": "code",
   "execution_count": null,
   "metadata": {},
   "outputs": [],
   "source": [
    "'''\n",
    "▼POINT①▼\n",
    "\n",
    "▷dataframeの扱い方\n",
    "\n",
    "dfに対して\n",
    "df.index : dfのインデックスを取得\n",
    "df.values : dfの値を取得\n",
    "df['X'] : dfのX列の要素を取得\n",
    "df.X : dfのX列の要素を取得\n",
    "'''"
   ]
  },
  {
   "cell_type": "markdown",
   "metadata": {},
   "source": [
    "## ここまで必要な可視化，分析するまでの「集計」をやってきました。\n",
    "## いよいよ可視化に入っていきます！！！"
   ]
  },
  {
   "cell_type": "code",
   "execution_count": null,
   "metadata": {},
   "outputs": [],
   "source": [
    "import matplotlib.pyplot as plt\n",
    "%matplotlib inline\n",
    "#可視化ライブラリ matplotlibをimportし，pltとする\n",
    "\n",
    "'''\n",
    "▼POINT②▼\n",
    "\n",
    "▷matplotlibの基本的な使い方\n",
    "\n",
    "plt.plot(xの値, yの値, label='ラベル名', color='線の色')\n",
    "\n",
    "plt.title('タイトル名')\n",
    "plt.xlabel('xラベル名')\n",
    "plt.ylabel('yラベル名')\n",
    "plt.legend(loc='ラベルの位置')\n",
    "'''\n",
    "\n",
    "plt.plot(df_month_sum.index, df_month_sum['Sale'])"
   ]
  },
  {
   "cell_type": "markdown",
   "metadata": {},
   "source": [
    "### 全体的な変化量がイメージしづらい。。軸のラベルもない。。\n",
    "### グラフの体裁を整えよう！\n",
    "### y軸の範囲，軸のラベル，グラフタイトルを足そう！"
   ]
  },
  {
   "cell_type": "code",
   "execution_count": null,
   "metadata": {
    "scrolled": true
   },
   "outputs": [],
   "source": [
    "plt.plot(df_month_sum.index, df_month_sum['Sale'], label='Sales')\n",
    "plt.title('Sales trand')\n",
    "plt.xlabel('Month')\n",
    "plt.ylabel('Sales')\n",
    "plt.ylim(0, 1000000)\n",
    "#y軸の範囲を指定"
   ]
  },
  {
   "cell_type": "markdown",
   "metadata": {},
   "source": [
    "### グラフからわかること :  ヒアリング通り減少傾向にある。4月頃から、増減を繰り返しており、8月からは減少傾向は強まっている。"
   ]
  },
  {
   "cell_type": "markdown",
   "metadata": {},
   "source": [
    "### どうして減少したのだろうか？\n",
    "### 売上＝客数(購買回数)×客単価より、どちらの影響かを考えていく＊\n",
    "\n",
    "※今回は1人1種類の商品しか買っていないことになっている。1レコード1ユーザー。"
   ]
  },
  {
   "cell_type": "markdown",
   "metadata": {},
   "source": [
    "# その前に休憩！→10分"
   ]
  },
  {
   "cell_type": "markdown",
   "metadata": {},
   "source": [
    "## 2.2 平均客単価から見ていく。客単価は売上の平均値となる。"
   ]
  },
  {
   "cell_type": "markdown",
   "metadata": {},
   "source": [
    "### 2.1売上の減少を見ていった場合と同様に、集計⇒可視化の流れ。"
   ]
  },
  {
   "cell_type": "markdown",
   "metadata": {},
   "source": [
    "### 平均客単価 = (売上の合計値) / (購買件数)　→　平均値を抽出"
   ]
  },
  {
   "cell_type": "code",
   "execution_count": null,
   "metadata": {
    "scrolled": false
   },
   "outputs": [],
   "source": [
    "df.groupby('Month').mean()\n",
    "#月ごとにグループ分けし，平均(mean)をとる"
   ]
  },
  {
   "cell_type": "code",
   "execution_count": null,
   "metadata": {},
   "outputs": [],
   "source": [
    "df_month_mean = df.groupby('Month').mean()\n",
    "##df_month_meanというデータフレームを作成し，代入する"
   ]
  },
  {
   "cell_type": "code",
   "execution_count": null,
   "metadata": {},
   "outputs": [],
   "source": [
    "df_month_mean\n",
    "#データ確認"
   ]
  },
  {
   "cell_type": "markdown",
   "metadata": {},
   "source": [
    "### 【Try!】集計が終わったので，先ほどの月ごとの合計売上の可視化を参考に月ごとの平均客単価の推移を可視化してみよう！"
   ]
  },
  {
   "cell_type": "code",
   "execution_count": null,
   "metadata": {},
   "outputs": [],
   "source": [
    "df_month_mean['Sale']"
   ]
  },
  {
   "cell_type": "code",
   "execution_count": null,
   "metadata": {},
   "outputs": [],
   "source": [
    "plt.plot(df_month_mean.index, df_month_mean['Sale'])"
   ]
  },
  {
   "cell_type": "code",
   "execution_count": null,
   "metadata": {},
   "outputs": [],
   "source": [
    "'''\n",
    "▼POINT①▼\n",
    "\n",
    "▷dataframeの扱い方\n",
    "\n",
    "dfに対して\n",
    "df.index : dfのインデックスを取得\n",
    "df.values : dfの値を取得\n",
    "df.['X'] : dfのX列の要素を取得\n",
    "df.X : dfのX列の要素を取得\n",
    "\n",
    "▼POINT②▼\n",
    "\n",
    "▷matplotlibの基本的な使い方\n",
    "\n",
    "plt.plot(xの値, yの値, label='ラベル名', color='線の色')\n",
    "plt.title('タイトル名')\n",
    "plt.xlabel('xラベル名')\n",
    "plt.ylabel('yラベル名')\n",
    "plt.legend(loc='ラベルの位置')\n",
    "'''"
   ]
  },
  {
   "cell_type": "code",
   "execution_count": null,
   "metadata": {},
   "outputs": [],
   "source": [
    "plt.plot(df_month_mean.index, df_month_mean['Sale'])\n",
    "plt.title('Average cost per customer trend')\n",
    "plt.xlabel('Month')\n",
    "plt.ylabel('Average cost per customer')\n",
    "plt.ylim(0, 17000)"
   ]
  },
  {
   "cell_type": "markdown",
   "metadata": {},
   "source": [
    "### 8月に急激に伸びている。それ以外の時期では、12000円付近になっている。　→　平均客単価は大きく変化していない"
   ]
  },
  {
   "cell_type": "markdown",
   "metadata": {},
   "source": [
    "## 2.3 客数＝購買回数はどうだろうか？"
   ]
  },
  {
   "cell_type": "markdown",
   "metadata": {},
   "source": [
    "### 【Try!】平均客単価と同じ流れで客数の変化を可視化してみよう！！\n",
    "### 【Hint】購買回数→グループの行の数，個数のカウント：count()という関数を使用"
   ]
  },
  {
   "cell_type": "code",
   "execution_count": null,
   "metadata": {},
   "outputs": [],
   "source": [
    "df.head()"
   ]
  },
  {
   "cell_type": "code",
   "execution_count": null,
   "metadata": {},
   "outputs": [],
   "source": [
    "df.groupby('Month').count()"
   ]
  },
  {
   "cell_type": "markdown",
   "metadata": {},
   "source": [
    "### 月ごとの行の数をカウントして集計"
   ]
  },
  {
   "cell_type": "code",
   "execution_count": null,
   "metadata": {
    "scrolled": false
   },
   "outputs": [],
   "source": [
    "df.head()\n",
    "#データ確認"
   ]
  },
  {
   "cell_type": "code",
   "execution_count": null,
   "metadata": {},
   "outputs": [],
   "source": [
    "df.groupby('Month').count()\n",
    "#月ごとにグループ分けし，各月の購買回数を数える（count）"
   ]
  },
  {
   "cell_type": "code",
   "execution_count": null,
   "metadata": {},
   "outputs": [],
   "source": [
    "df_month_trans = df.groupby('Month').count()\n",
    "#月ごとにグループ分けし，各月の購買回数を数える（count）\n",
    "\n",
    "#df_transというデータフレームを作成し，代入する\n",
    "\n",
    "df_month_trans['ID']\n",
    "#列'ID'を取得"
   ]
  },
  {
   "cell_type": "code",
   "execution_count": null,
   "metadata": {},
   "outputs": [],
   "source": [
    "'''\n",
    "▼POINT①▼\n",
    "\n",
    "▷dataframeの扱い方\n",
    "\n",
    "dfに対して\n",
    "df.index : dfのインデックスを取得\n",
    "df.values : dfの値を取得\n",
    "df.['X'] : dfのX列の要素を取得\n",
    "df.X : dfのX列の要素を取得\n",
    "\n",
    "▼POINT②▼\n",
    "\n",
    "▷matplotlibの基本的な使い方\n",
    "\n",
    "plt.plot(xの値, yの値, label='ラベル名', color='線の色')\n",
    "plt.title('タイトル名')\n",
    "plt.xlabel('xラベル名')\n",
    "plt.ylabel('yラベル名')\n",
    "plt.legend(loc='ラベルの位置')\n",
    "'''"
   ]
  },
  {
   "cell_type": "code",
   "execution_count": null,
   "metadata": {},
   "outputs": [],
   "source": []
  },
  {
   "cell_type": "markdown",
   "metadata": {},
   "source": [
    "### 実際に可視化する"
   ]
  },
  {
   "cell_type": "code",
   "execution_count": null,
   "metadata": {},
   "outputs": [],
   "source": [
    "plt.plot(df_month_trans.index, df_month_trans['ID'])\n",
    "plt.title('Number of customers trend')\n",
    "plt.xlabel('Month')\n",
    "plt.ylabel('Number of customers')\n",
    "plt.ylim(0, 80)"
   ]
  },
  {
   "cell_type": "markdown",
   "metadata": {},
   "source": [
    "### 売上の減少と購入者の減少の様子が似ている\n",
    "### 【仮説】客単価よりも、客数の減少が売上減少の原因として大きいのではないか？（方向性を立てる。）＊"
   ]
  },
  {
   "cell_type": "markdown",
   "metadata": {},
   "source": [
    "## 3 ボトルネック特定"
   ]
  },
  {
   "cell_type": "markdown",
   "metadata": {},
   "source": [
    "### 購入者減少の要因を掴みたい。\n",
    "### 仮説を立てるために、購入者はどんな人なのか？どういう属性がいるのか？"
   ]
  },
  {
   "cell_type": "markdown",
   "metadata": {},
   "source": [
    "## 3.1 デモグラフィック(性別や年代)な観点から考える！＊"
   ]
  },
  {
   "cell_type": "markdown",
   "metadata": {},
   "source": [
    "## 3.1.1 年齢構成を見てみる。"
   ]
  },
  {
   "cell_type": "code",
   "execution_count": null,
   "metadata": {},
   "outputs": [],
   "source": [
    "df.head()"
   ]
  },
  {
   "cell_type": "code",
   "execution_count": null,
   "metadata": {
    "scrolled": true
   },
   "outputs": [],
   "source": [
    "df['Age']"
   ]
  },
  {
   "cell_type": "markdown",
   "metadata": {},
   "source": [
    "### 年齢だと細かすぎるので，年代ごとのグループが欲しい。\n",
    "### 年齢を年代に直す作業を行う。ex. 45→40"
   ]
  },
  {
   "cell_type": "code",
   "execution_count": null,
   "metadata": {},
   "outputs": [],
   "source": [
    "df['Ages'] = (df['Age']//10)*10\n",
    "#a//b : aをbで割った時の商をとってくる\n",
    "#ex) 15//6 == 2    15 ÷ 6 = 2 ・・・ 3\n",
    "\n",
    "\n",
    "#10倍して，新しく'Ages'という列を作りデータフレームに代入する"
   ]
  },
  {
   "cell_type": "code",
   "execution_count": null,
   "metadata": {},
   "outputs": [],
   "source": [
    "df.head()"
   ]
  },
  {
   "cell_type": "markdown",
   "metadata": {},
   "source": [
    "### 年代ごとの顧客数を数える"
   ]
  },
  {
   "cell_type": "code",
   "execution_count": null,
   "metadata": {},
   "outputs": [],
   "source": [
    "df.groupby('Ages').ID.count()\n",
    "# これはユニークではない　→　同じ顧客が含まれている"
   ]
  },
  {
   "cell_type": "markdown",
   "metadata": {},
   "source": [
    "### 客数を数えるときにユニークな顧客数を考えることに注意！"
   ]
  },
  {
   "cell_type": "markdown",
   "metadata": {},
   "source": [
    "### ユニークな数とは，ダブり，かぶりがないこと\n",
    "### 複数購入者を1人の購入者とカウントすること"
   ]
  },
  {
   "cell_type": "markdown",
   "metadata": {},
   "source": [
    "### つまり、ユニークなID数をカウントすればよい！"
   ]
  },
  {
   "cell_type": "code",
   "execution_count": null,
   "metadata": {
    "scrolled": true
   },
   "outputs": [],
   "source": [
    "#df.groupby('Ages').ID.nunique()としたいが，，，azure notebookではエラーが出る。\n",
    "\n",
    "df.groupby('Ages').ID.apply(lambda x: x.nunique())\n",
    "#df.groupby('Ages').ID.nunique()と一緒。\n",
    "#年代ごとにグループ分けし，ユニークな要素の数を数える（nunique）"
   ]
  },
  {
   "cell_type": "markdown",
   "metadata": {},
   "source": [
    "### 客数が減っているのがわかる。→同じ人が複数回購入している"
   ]
  },
  {
   "cell_type": "code",
   "execution_count": null,
   "metadata": {},
   "outputs": [],
   "source": [
    "uniqueID_age = df.groupby('Ages').ID.apply(lambda x: x.nunique())\n",
    "#変数に代入する"
   ]
  },
  {
   "cell_type": "markdown",
   "metadata": {},
   "source": [
    "### 横軸が年代，縦軸がユニーク顧客数として棒グラフを作成する"
   ]
  },
  {
   "cell_type": "code",
   "execution_count": null,
   "metadata": {},
   "outputs": [],
   "source": [
    "uniqueID_age.index"
   ]
  },
  {
   "cell_type": "code",
   "execution_count": null,
   "metadata": {},
   "outputs": [],
   "source": [
    "uniqueID_age"
   ]
  },
  {
   "cell_type": "code",
   "execution_count": null,
   "metadata": {},
   "outputs": [],
   "source": [
    "plt.bar(uniqueID_age.index, uniqueID_age, width = 5)"
   ]
  },
  {
   "cell_type": "code",
   "execution_count": null,
   "metadata": {},
   "outputs": [],
   "source": [
    "plt.bar(uniqueID_age.index, uniqueID_age, width = 5)\n",
    "#plt.barは棒グラフを作成する関数でplotと使い方は似ている\n",
    "\n",
    "plt.title('Age structure')\n",
    "plt.xlabel('Ages')\n",
    "plt.ylabel('Number')"
   ]
  },
  {
   "cell_type": "markdown",
   "metadata": {},
   "source": [
    "## 0.3 グラフの種類\n",
    "1. 比較 : 棒グラフ，ヒストグラム\n",
    "2. 構成 : 円グラフ，スタックバー\n",
    "3. 推移 : 折れ線グラフ，棒グラフ"
   ]
  },
  {
   "cell_type": "markdown",
   "metadata": {},
   "source": [
    "### 構成を見る場合，円グラフの方がわかりやすい"
   ]
  },
  {
   "cell_type": "code",
   "execution_count": null,
   "metadata": {},
   "outputs": [],
   "source": [
    "label = uniqueID_age.index\n",
    "# label : 属性，セグメント\n",
    "value = uniqueID_age\n",
    "# value : 値\n",
    "\n",
    "plt.pie(value, labels=label, startangle=90, autopct=\"%.1f%%\", pctdistance=0.6)\n",
    "# startangle = 90 : 90度のところから円グラフ開始\n",
    "# pctdistance=0.7 : 中心から円周の間の 70% の位置に出力\n",
    "\n",
    "plt.axis('equal')\n",
    "# 綺麗な円にするため\n",
    "\n",
    "plt.title('Age structure')"
   ]
  },
  {
   "cell_type": "markdown",
   "metadata": {},
   "source": [
    "## 3.1.2 性別を見てみる!"
   ]
  },
  {
   "cell_type": "markdown",
   "metadata": {},
   "source": [
    "### 【Try!】年代構成と同じ流れで性別の構成を可視化してみよう！！"
   ]
  },
  {
   "cell_type": "code",
   "execution_count": null,
   "metadata": {},
   "outputs": [],
   "source": [
    "df.groupby('Sex').ID.apply(lambda x: x.nunique())"
   ]
  },
  {
   "cell_type": "code",
   "execution_count": null,
   "metadata": {},
   "outputs": [],
   "source": [
    "uniqueID_sex = df.groupby('Sex').ID.apply(lambda x: x.nunique())\n",
    "#Sexという特徴量に対して，性別ごとにグループ分けし，グループごとの全ての特徴量に対してユニークな要素の数を数える（nunique）"
   ]
  },
  {
   "cell_type": "code",
   "execution_count": null,
   "metadata": {},
   "outputs": [],
   "source": [
    "uniqueID_sex\n",
    "#データ確認"
   ]
  },
  {
   "cell_type": "code",
   "execution_count": null,
   "metadata": {},
   "outputs": [],
   "source": [
    "plt.bar(uniqueID_sex.index, uniqueID_sex)\n",
    "#棒グラフ可視化\n",
    "\n",
    "plt.title('Sex structure')\n",
    "plt.xlabel('Sex')\n",
    "plt.ylabel('Number')"
   ]
  },
  {
   "cell_type": "code",
   "execution_count": null,
   "metadata": {},
   "outputs": [],
   "source": [
    "label = uniqueID_sex.index\n",
    "# label : 属性，セグメント\n",
    "value = uniqueID_sex\n",
    "# value : 値\n",
    "\n",
    "plt.pie(value, labels=label, startangle=90, autopct=\"%.1f%%\", pctdistance=0.7)\n",
    "# startangle = 90 : 90度のところから円グラフ開始\n",
    "# pctdistance=0.7 : 中心から円周の間の 70% の位置に出力\n",
    "\n",
    "plt.axis('equal')\n",
    "# 綺麗な円にするため\n",
    "\n",
    "plt.title('Sex Structure')"
   ]
  },
  {
   "cell_type": "markdown",
   "metadata": {},
   "source": [
    "### この段階では売上減少の直接的な原因がわからないため、時間という変数を追加してみる\n",
    "### 性別の偏りがあるみたい→性別を男女に分けて月ごとに分析する＊"
   ]
  },
  {
   "cell_type": "markdown",
   "metadata": {},
   "source": [
    "## 3.2 デモグラフィック変化"
   ]
  },
  {
   "cell_type": "markdown",
   "metadata": {},
   "source": [
    "## 3.2.1 月ごとの男女での客数の変化"
   ]
  },
  {
   "cell_type": "markdown",
   "metadata": {},
   "source": [
    "### 【Try!】これまで学習したことを意識して，月ごとの男女の客数の推移を可視化しましょう！"
   ]
  },
  {
   "cell_type": "code",
   "execution_count": null,
   "metadata": {},
   "outputs": [],
   "source": [
    "# AとBのグループごとの操作\n",
    "# df.groupby(['A','B']).命令文"
   ]
  },
  {
   "cell_type": "code",
   "execution_count": null,
   "metadata": {},
   "outputs": [],
   "source": [
    "df.groupby(['Sex','Month']).ID.apply(lambda x: x.nunique())"
   ]
  },
  {
   "cell_type": "code",
   "execution_count": null,
   "metadata": {},
   "outputs": [],
   "source": [
    "df.groupby(['Sex','Month']).ID.apply(lambda x: x.nunique())\n",
    "#性別と月ごとにグループ分けし，ユニークな要素の数を数える（nunique）"
   ]
  },
  {
   "cell_type": "code",
   "execution_count": null,
   "metadata": {},
   "outputs": [],
   "source": [
    "df_uniqueID_sex_month = df.groupby(['Sex','Month']).ID.apply(lambda x: x.nunique())"
   ]
  },
  {
   "cell_type": "code",
   "execution_count": null,
   "metadata": {},
   "outputs": [],
   "source": [
    "df_uniqueID_sex_month.Female.index"
   ]
  },
  {
   "cell_type": "code",
   "execution_count": null,
   "metadata": {},
   "outputs": [],
   "source": [
    "df_uniqueID_sex_month.Female.index\n",
    "#index確認"
   ]
  },
  {
   "cell_type": "code",
   "execution_count": null,
   "metadata": {},
   "outputs": [],
   "source": [
    "df_uniqueID_sex_month.Female"
   ]
  },
  {
   "cell_type": "code",
   "execution_count": null,
   "metadata": {},
   "outputs": [],
   "source": [
    "plt.plot(df_uniqueID_sex_month.Male.index, df_uniqueID_sex_month.Male.values, label='Male')\n",
    "plt.plot(df_uniqueID_sex_month.Female.index, df_uniqueID_sex_month.Female.values, label='Female')\n",
    "plt.title('Male and Female Number trend')\n",
    "plt.ylim(0, 70)\n",
    "plt.legend(loc='upper right')\n",
    "'''\n",
    "▼POINT①▼\n",
    "\n",
    "▷dataframeの扱い方\n",
    "\n",
    "dfに対して\n",
    "df.index : dfのインデックスを取得\n",
    "df.values : dfの値を取得\n",
    "df.['X'] : dfのX列の要素を取得\n",
    "df.X : dfのX列の要素を取得\n",
    "\n",
    "▼POINT②▼\n",
    "\n",
    "▷matplotlibの基本的な使い方\n",
    "\n",
    "plt.plot(xの値, yの値, label='ラベル名', color='線の色')\n",
    "plt.title('タイトル名')\n",
    "plt.xlabel('xラベル名')\n",
    "plt.ylabel('yラベル名')\n",
    "plt.legend(loc='ラベルの位置')\n",
    "'''"
   ]
  },
  {
   "cell_type": "markdown",
   "metadata": {},
   "source": [
    "### 男性の減少が顕著。売上減少の一因か？"
   ]
  },
  {
   "cell_type": "markdown",
   "metadata": {},
   "source": [
    "## ボトルネック：男性のユーザーの減少＊"
   ]
  },
  {
   "cell_type": "markdown",
   "metadata": {},
   "source": [
    "# お疲れ様でした！今回のハンズオンはここまでです！"
   ]
  },
  {
   "cell_type": "markdown",
   "metadata": {},
   "source": [
    "## 時間があれば...男性ユーザーを購買回数ごとに分析していく"
   ]
  },
  {
   "cell_type": "markdown",
   "metadata": {},
   "source": [
    "## 3.2.2 どうして男性が減少したのか仮説を立てる。新規ユーザーが減少したのではないか？＊"
   ]
  },
  {
   "cell_type": "code",
   "execution_count": null,
   "metadata": {},
   "outputs": [],
   "source": [
    "a = [1,2,3,4,5]"
   ]
  },
  {
   "cell_type": "code",
   "execution_count": null,
   "metadata": {},
   "outputs": [],
   "source": [
    "a"
   ]
  },
  {
   "cell_type": "code",
   "execution_count": null,
   "metadata": {},
   "outputs": [],
   "source": [
    "range(len(a))"
   ]
  },
  {
   "cell_type": "code",
   "execution_count": null,
   "metadata": {},
   "outputs": [],
   "source": [
    "a[3]"
   ]
  },
  {
   "cell_type": "code",
   "execution_count": null,
   "metadata": {},
   "outputs": [],
   "source": [
    "for i in range(len(a)):\n",
    "    print(a[i])\n",
    "    \n",
    "'''\n",
    "▼POINT③▼\n",
    "\n",
    "▷for文 \n",
    "\n",
    "for i in a:\n",
    "    命令文\n",
    "\n",
    "a内の要素をiとして命令文を行い，a内の要素がなくなるまで繰り返し行う。\n",
    "ex)今回はaというリスト内の文字を取得し，iと設定し，printしていく作業をaのリスト全てなくなるまで繰り返す\n",
    "'''"
   ]
  },
  {
   "cell_type": "code",
   "execution_count": null,
   "metadata": {},
   "outputs": [],
   "source": [
    "# 新規を示すダミー変数を作る。その月に初めて購買した人。\n",
    "for i in range(len(df)):\n",
    "    if df.loc[i, 'Frequency'] == 1:\n",
    "        df.loc[i, 'New'] = 1\n",
    "    else:\n",
    "        df.loc[i, 'New'] = 0\n",
    "        \n",
    "'''\n",
    "▼POINT①▼\n",
    "\n",
    "▷dataframeの扱い方\n",
    "\n",
    "dfに対して\n",
    "df.index : dfのインデックスを取得\n",
    "df.values : dfの値を取得\n",
    "df.['X'] : dfのX列の要素を取得\n",
    "df.X : dfのX列の要素を取得\n",
    "\n",
    "▼POINT③▼\n",
    "\n",
    "▷for文 \n",
    "\n",
    "for i in a:\n",
    "    命令文\n",
    "\n",
    "a内の要素をiとして命令文を行い，a内の要素がなくなるまで繰り返し行う。\n",
    "\n",
    "▼POINT④▼\n",
    "\n",
    "▷if条件文\n",
    "\n",
    "if 条件:\n",
    "    条件が真の時，実行する操作\n",
    "else:\n",
    "    それ以外の時に行う操作\n",
    "'''"
   ]
  },
  {
   "cell_type": "code",
   "execution_count": null,
   "metadata": {},
   "outputs": [],
   "source": [
    "# 新規を示すダミー変数の、月ごとの合計値が、新規ユーザー数になる。\n",
    "\n",
    "df.groupby(['Sex','Month']).New.sum()\n",
    "#'Sex'と'Month'という特徴量に対して，性別と月ごとにグループ分けし，グループごとの'New'に対して合計を求める(nunique)\n",
    "#df.groupby(['Sex','Month']).New.sum()はデータフレームの型になっていることに注意！"
   ]
  },
  {
   "cell_type": "code",
   "execution_count": null,
   "metadata": {},
   "outputs": [],
   "source": [
    "plt.title('Male New Visitor trend')\n",
    "plt.ylim(0, 70)\n",
    "plt.plot(df.groupby(['Sex','Month']).New.sum().Male.index, df.groupby(['Sex','Month']).New.sum().Male.values)\n",
    "\n",
    "'''\n",
    "▼POINT①▼\n",
    "\n",
    "▷dataframeの扱い方\n",
    "\n",
    "dfに対して\n",
    "df.index : dfのインデックスを取得\n",
    "df.values : dfの値を取得\n",
    "df.['X'] : dfのX列の要素を取得\n",
    "df.X : dfのX列の要素を取得\n",
    "\n",
    "▼POINT②▼\n",
    "\n",
    "▷matplotlibの基本的な使い方\n",
    "\n",
    "plt.plot(xの値, yの値, label='ラベル名', color='線の色')\n",
    "plt.title('タイトル名')\n",
    "plt.xlabel('xラベル名')\n",
    "plt.ylabel('yラベル名')\n",
    "plt.legend(loc='ラベルの位置')\n",
    "'''"
   ]
  },
  {
   "cell_type": "markdown",
   "metadata": {},
   "source": [
    "### 男性の新規ユーザーがかなり減少している。"
   ]
  },
  {
   "cell_type": "markdown",
   "metadata": {},
   "source": [
    "### （1月に多いのは、1月からデータを取っているため、1月に購入したユーザーはほぼ新規扱いになるからである。）"
   ]
  },
  {
   "cell_type": "markdown",
   "metadata": {},
   "source": [
    "## ボトルネック：男性の新規ユーザーの減少＊"
   ]
  },
  {
   "cell_type": "markdown",
   "metadata": {},
   "source": [
    "## 時間があれば...月ごとの年代客数変化も見ていく。"
   ]
  },
  {
   "cell_type": "markdown",
   "metadata": {},
   "source": [
    "## 3.2.3 月ごとの年代の客数変化"
   ]
  },
  {
   "cell_type": "code",
   "execution_count": null,
   "metadata": {
    "scrolled": true
   },
   "outputs": [],
   "source": [
    "df.groupby(['Ages','Month']).ID.apply(lambda x: x.nunique())"
   ]
  },
  {
   "cell_type": "code",
   "execution_count": null,
   "metadata": {},
   "outputs": [],
   "source": [
    "df_uniqueID_age_month = df.groupby(['Ages','Month']).ID.apply(lambda x: x.nunique())"
   ]
  },
  {
   "cell_type": "code",
   "execution_count": null,
   "metadata": {},
   "outputs": [],
   "source": [
    "plt.title('Ages number trend')\n",
    "plt.ylim(0, 70)\n",
    "ages = [20,30,40,50,60]#ここ微妙\n",
    "for i in ages:\n",
    "    plt.plot(df_uniqueID_age_month[i].index, df_uniqueID_age_month[i].values,label=i)\n",
    "    plt.ylim(0, 20)\n",
    "    plt.xlabel('Month')\n",
    "    plt.ylabel('Numbaer')\n",
    "    plt.legend(loc = 'upper right')"
   ]
  },
  {
   "cell_type": "markdown",
   "metadata": {},
   "source": [
    "### あまりこのデータからはわからない気する"
   ]
  },
  {
   "cell_type": "markdown",
   "metadata": {},
   "source": [
    "## 3.3 購買頻度で顧客を見てみる"
   ]
  },
  {
   "cell_type": "code",
   "execution_count": null,
   "metadata": {
    "scrolled": false
   },
   "outputs": [],
   "source": [
    "df.head()"
   ]
  },
  {
   "cell_type": "code",
   "execution_count": null,
   "metadata": {},
   "outputs": [],
   "source": [
    "# IDでグループかつ、最大値を考えることで、個人の購買頻度がデータに含まれる。→最初からfrequencyがデータとして残ってるってことか。。\n",
    "df_Freq = df.groupby('ID').max()\n",
    "df_Freq.head()"
   ]
  },
  {
   "cell_type": "code",
   "execution_count": null,
   "metadata": {
    "scrolled": true
   },
   "outputs": [],
   "source": [
    "import seaborn as sns\n",
    "# 圧倒的に1回で終わっている人が多い。\n",
    "sns.countplot(df_Freq['Frequency'])\n",
    "plt.title('Frequency')"
   ]
  },
  {
   "cell_type": "code",
   "execution_count": null,
   "metadata": {},
   "outputs": [],
   "source": [
    "# 新規を示すダミー変数を作る。その月に初めて購買した人。\n",
    "for i in range (len(df)):\n",
    "    if df.loc[i, 'Frequency'] == 1:\n",
    "        df.loc[i, 'New'] = 1\n",
    "    else:\n",
    "        df.loc[i, 'New'] = 0"
   ]
  },
  {
   "cell_type": "code",
   "execution_count": null,
   "metadata": {},
   "outputs": [],
   "source": [
    "# １月に両者の値が一致しないのは、1月に2回以上購入した人がいるからである。\n",
    "#割合表示の方がいい気する\n",
    "df_new_visit = df.groupby('Month').sum()\n",
    "\n",
    "plt.plot(df_month_trans.index, df_month_trans['ID'], label = 'All')\n",
    "plt.plot(df_new_visit.index , df_new_visit['New'], label = 'New')\n",
    "plt.title('Number of Transaction trend')\n",
    "plt.ylim(0, 80)\n",
    "plt.legend()"
   ]
  },
  {
   "cell_type": "markdown",
   "metadata": {},
   "source": [
    "## 新規の流入は段々と減っているのは事実。どうして、新規の流入が減っているのだろうか？どうすれば、新規の流入を回復させることが出来るか？"
   ]
  },
  {
   "cell_type": "code",
   "execution_count": null,
   "metadata": {},
   "outputs": [],
   "source": []
  }
 ],
 "metadata": {
  "anaconda-cloud": {},
  "kernelspec": {
   "display_name": "Python 3",
   "language": "python",
   "name": "python3"
  },
  "language_info": {
   "codemirror_mode": {
    "name": "ipython",
    "version": 3
   },
   "file_extension": ".py",
   "mimetype": "text/x-python",
   "name": "python",
   "nbconvert_exporter": "python",
   "pygments_lexer": "ipython3",
   "version": "3.8.2"
  }
 },
 "nbformat": 4,
 "nbformat_minor": 4
}
