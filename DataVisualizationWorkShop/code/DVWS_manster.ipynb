{
 "cells": [
  {
   "cell_type": "markdown",
   "metadata": {},
   "source": [
    "# Data Visualization Workshop Chapter3 : Hands on!"
   ]
  },
  {
   "cell_type": "markdown",
   "metadata": {},
   "source": [
    "# ~ Pythonを用いたデータの可視化 ~"
   ]
  },
  {
   "cell_type": "markdown",
   "metadata": {},
   "source": [
    "# 0. Introduction\n",
    "## 0.0 WorkshopのGOAL\n",
    "1. データ分析がビジネスでどのような場面で活用されているか理解できた！\n",
    "2. データの可視化を通して、データドリブンに次のアクションを起こせるようになる！\n",
    "3. Python・PowerBI ってなんだか面白い！！\n",
    "\n",
    "## 0.1 データ分析の目的\n",
    "### 課題解決の手段\n",
    "現状やイシューを構成する要素，考えられる仮説を「比べる」ことであたりをつけること。\n",
    "\n",
    "「比べる」ことで要素ごとの共通点や相違点，特徴や傾向を見つけることができ，仮説のサポートになる。\n",
    "\n",
    "※ 全体像(目的とそれを構成する要素)を俯瞰しつつ，自分が今いる位置を把握しながらマクロからミクロに展開していくことが大切！\n",
    "\n",
    "## 0.2 可視化の利点\n",
    "1. 特徴の顕在化 ： 生の数字のデータでは見えなかった特徴や傾向をつかむことができること\n",
    "2. わかりやすい ： 視覚的にわかりやすく，説得力がある\n",
    "\n",
    "## 0.3 グラフの種類\n",
    "1. 比較 : 棒グラフ，ヒストグラム\n",
    "2. 構成 : 円グラフ，スタックバー\n",
    "3. 推移 : 折れ線グラフ，棒グラフ\n",
    "    \n",
    "## 0.4 課題解決の流れとデータ分析方法\n",
    "1. 現状分析 : 現状把握データ分析\n",
    "2. 課題定義 : 仮説検証データ分析\n",
    "3. 施策立案 : 仮説検証データ分析，モデル構築\n",
    "4. 効果検証 : 効果測定分析\n",
    "\n",
    "## 0.5 第3部のポイント\n",
    "1. 可視化した各要因に対して、課題がどの要因にあるかを判断すること\n",
    "2. 課題に対する仮説を考え、それを検証すること\n",
    "3. グラフを作成する際に、正しくデータを集計，表現することが意識すること"
   ]
  },
  {
   "cell_type": "markdown",
   "metadata": {},
   "source": [
    "# 1. 前準備"
   ]
  },
  {
   "cell_type": "markdown",
   "metadata": {},
   "source": [
    "### 【背景】ヒアリングによると、売上が減少しているらしい。2018年から顧客データを取り始めている。\n",
    "### 【目的】売上減少の原因を探り、来月の売上減少を阻止するためのヒントを得ること！\n",
    "### 【そのために】実際にデータを見て、どれくらい売上が減少しているのだろうか？グラフを作って確認したいが、、、\n",
    "### 【その前に】分析の前準備として、まずは今持っているデータに対する理解を深めておこう。そしてアウトプットを出す上で分析するのに必要十分なデータなのか確認しよう！"
   ]
  },
  {
   "cell_type": "markdown",
   "metadata": {},
   "source": [
    "## 1.1 データ理解：データを確認してみよう！"
   ]
  },
  {
   "cell_type": "markdown",
   "metadata": {},
   "source": [
    "### 今回データは仮想無印良品のPOSデータです。"
   ]
  },
  {
   "cell_type": "markdown",
   "metadata": {},
   "source": [
    "### 【Try】pandasを読み込んでください。pandasを使う時は、pdと略して (as) 使います。"
   ]
  },
  {
   "cell_type": "code",
   "execution_count": null,
   "metadata": {},
   "outputs": [],
   "source": []
  },
  {
   "cell_type": "code",
   "execution_count": 1,
   "metadata": {},
   "outputs": [],
   "source": [
    "#データ分析用のライブラリpandasをインポートする!\n",
    "import pandas as pd\n",
    "\n",
    "#ライブラリとは，プログラムの部品を集めたファイルのこと。ライブラリを利用することで一定の処理を省くことができる。\n",
    "#ex) データ分析ライブラリ，数値計算ライブラリ，可視化ライブラリ，画像処理ライブラリ，機械学習ライブラリ，ディープラーニングライブラリ..."
   ]
  },
  {
   "cell_type": "markdown",
   "metadata": {},
   "source": [
    "### 【Try】ファイルを読み込みましょう！"
   ]
  },
  {
   "cell_type": "code",
   "execution_count": 3,
   "metadata": {},
   "outputs": [],
   "source": []
  },
  {
   "cell_type": "code",
   "execution_count": 4,
   "metadata": {},
   "outputs": [],
   "source": [
    "# ファイルを読み込んで、読みこんだデータに対して、dfという名前をつけます。\n",
    "\n",
    "df = pd.read_csv('./transaction.csv')\n",
    "\n",
    "\n",
    "# pd.read_csvはpandasのcsvファイルを読み込むためのメソッド。"
   ]
  },
  {
   "cell_type": "markdown",
   "metadata": {},
   "source": [
    "### 【Try】データを見てみよう！"
   ]
  },
  {
   "cell_type": "code",
   "execution_count": null,
   "metadata": {},
   "outputs": [],
   "source": []
  },
  {
   "cell_type": "code",
   "execution_count": 6,
   "metadata": {
    "scrolled": false
   },
   "outputs": [
    {
     "data": {
      "text/html": [
       "<div>\n",
       "<style scoped>\n",
       "    .dataframe tbody tr th:only-of-type {\n",
       "        vertical-align: middle;\n",
       "    }\n",
       "\n",
       "    .dataframe tbody tr th {\n",
       "        vertical-align: top;\n",
       "    }\n",
       "\n",
       "    .dataframe thead th {\n",
       "        text-align: right;\n",
       "    }\n",
       "</style>\n",
       "<table border=\"1\" class=\"dataframe\">\n",
       "  <thead>\n",
       "    <tr style=\"text-align: right;\">\n",
       "      <th></th>\n",
       "      <th>Date</th>\n",
       "      <th>ID</th>\n",
       "      <th>Frequency</th>\n",
       "      <th>Age</th>\n",
       "      <th>Sex</th>\n",
       "      <th>Sale</th>\n",
       "      <th>Prefecture</th>\n",
       "      <th>Area</th>\n",
       "      <th>Category</th>\n",
       "    </tr>\n",
       "  </thead>\n",
       "  <tbody>\n",
       "    <tr>\n",
       "      <th>0</th>\n",
       "      <td>2018/9/23</td>\n",
       "      <td>1</td>\n",
       "      <td>1</td>\n",
       "      <td>65</td>\n",
       "      <td>Male</td>\n",
       "      <td>28649</td>\n",
       "      <td>Chiba</td>\n",
       "      <td>Kanto</td>\n",
       "      <td>Furniture</td>\n",
       "    </tr>\n",
       "    <tr>\n",
       "      <th>1</th>\n",
       "      <td>2018/1/8</td>\n",
       "      <td>2</td>\n",
       "      <td>1</td>\n",
       "      <td>45</td>\n",
       "      <td>Male</td>\n",
       "      <td>11466</td>\n",
       "      <td>Wakayama</td>\n",
       "      <td>Kansai</td>\n",
       "      <td>Commodity</td>\n",
       "    </tr>\n",
       "    <tr>\n",
       "      <th>2</th>\n",
       "      <td>2018/2/8</td>\n",
       "      <td>2</td>\n",
       "      <td>2</td>\n",
       "      <td>45</td>\n",
       "      <td>Male</td>\n",
       "      <td>10428</td>\n",
       "      <td>Hyogo</td>\n",
       "      <td>Kansai</td>\n",
       "      <td>Commodity</td>\n",
       "    </tr>\n",
       "    <tr>\n",
       "      <th>3</th>\n",
       "      <td>2018/3/7</td>\n",
       "      <td>2</td>\n",
       "      <td>3</td>\n",
       "      <td>45</td>\n",
       "      <td>Male</td>\n",
       "      <td>9510</td>\n",
       "      <td>Saitama</td>\n",
       "      <td>Kanto</td>\n",
       "      <td>Commodity</td>\n",
       "    </tr>\n",
       "    <tr>\n",
       "      <th>4</th>\n",
       "      <td>2018/3/10</td>\n",
       "      <td>2</td>\n",
       "      <td>4</td>\n",
       "      <td>45</td>\n",
       "      <td>Male</td>\n",
       "      <td>2706</td>\n",
       "      <td>Osaka</td>\n",
       "      <td>Kansai</td>\n",
       "      <td>Office Supplies</td>\n",
       "    </tr>\n",
       "    <tr>\n",
       "      <th>5</th>\n",
       "      <td>2018/5/8</td>\n",
       "      <td>2</td>\n",
       "      <td>5</td>\n",
       "      <td>45</td>\n",
       "      <td>Male</td>\n",
       "      <td>11040</td>\n",
       "      <td>Tokyo</td>\n",
       "      <td>Kanto</td>\n",
       "      <td>Furniture</td>\n",
       "    </tr>\n",
       "    <tr>\n",
       "      <th>6</th>\n",
       "      <td>2018/5/25</td>\n",
       "      <td>2</td>\n",
       "      <td>6</td>\n",
       "      <td>45</td>\n",
       "      <td>Male</td>\n",
       "      <td>6475</td>\n",
       "      <td>Shizuoka</td>\n",
       "      <td>Tyubu</td>\n",
       "      <td>Office Supplies</td>\n",
       "    </tr>\n",
       "    <tr>\n",
       "      <th>7</th>\n",
       "      <td>2018/7/25</td>\n",
       "      <td>2</td>\n",
       "      <td>7</td>\n",
       "      <td>45</td>\n",
       "      <td>Male</td>\n",
       "      <td>24254</td>\n",
       "      <td>Tokyo</td>\n",
       "      <td>Kanto</td>\n",
       "      <td>Furniture</td>\n",
       "    </tr>\n",
       "    <tr>\n",
       "      <th>8</th>\n",
       "      <td>2018/9/23</td>\n",
       "      <td>2</td>\n",
       "      <td>8</td>\n",
       "      <td>45</td>\n",
       "      <td>Male</td>\n",
       "      <td>3989</td>\n",
       "      <td>Hukushima</td>\n",
       "      <td>Touhoku</td>\n",
       "      <td>Office Supplies</td>\n",
       "    </tr>\n",
       "    <tr>\n",
       "      <th>9</th>\n",
       "      <td>2018/11/29</td>\n",
       "      <td>3</td>\n",
       "      <td>1</td>\n",
       "      <td>49</td>\n",
       "      <td>Male</td>\n",
       "      <td>105</td>\n",
       "      <td>Kagoshima</td>\n",
       "      <td>Kyusyuu</td>\n",
       "      <td>Office Supplies</td>\n",
       "    </tr>\n",
       "    <tr>\n",
       "      <th>10</th>\n",
       "      <td>2018/3/4</td>\n",
       "      <td>4</td>\n",
       "      <td>1</td>\n",
       "      <td>49</td>\n",
       "      <td>Male</td>\n",
       "      <td>561</td>\n",
       "      <td>Nara</td>\n",
       "      <td>Kansai</td>\n",
       "      <td>Office Supplies</td>\n",
       "    </tr>\n",
       "    <tr>\n",
       "      <th>11</th>\n",
       "      <td>2018/1/22</td>\n",
       "      <td>5</td>\n",
       "      <td>1</td>\n",
       "      <td>69</td>\n",
       "      <td>Male</td>\n",
       "      <td>20186</td>\n",
       "      <td>Tochigi</td>\n",
       "      <td>Kanto</td>\n",
       "      <td>Furniture</td>\n",
       "    </tr>\n",
       "    <tr>\n",
       "      <th>12</th>\n",
       "      <td>2018/3/26</td>\n",
       "      <td>5</td>\n",
       "      <td>2</td>\n",
       "      <td>69</td>\n",
       "      <td>Male</td>\n",
       "      <td>1585</td>\n",
       "      <td>Hukuoka</td>\n",
       "      <td>Kyusyuu</td>\n",
       "      <td>Office Supplies</td>\n",
       "    </tr>\n",
       "    <tr>\n",
       "      <th>13</th>\n",
       "      <td>2018/4/11</td>\n",
       "      <td>5</td>\n",
       "      <td>3</td>\n",
       "      <td>69</td>\n",
       "      <td>Male</td>\n",
       "      <td>14953</td>\n",
       "      <td>Hukushima</td>\n",
       "      <td>Touhoku</td>\n",
       "      <td>Commodity</td>\n",
       "    </tr>\n",
       "    <tr>\n",
       "      <th>14</th>\n",
       "      <td>2018/4/20</td>\n",
       "      <td>5</td>\n",
       "      <td>4</td>\n",
       "      <td>69</td>\n",
       "      <td>Male</td>\n",
       "      <td>6232</td>\n",
       "      <td>Aichi</td>\n",
       "      <td>Tyubu</td>\n",
       "      <td>Furniture</td>\n",
       "    </tr>\n",
       "    <tr>\n",
       "      <th>15</th>\n",
       "      <td>2018/5/12</td>\n",
       "      <td>5</td>\n",
       "      <td>5</td>\n",
       "      <td>69</td>\n",
       "      <td>Male</td>\n",
       "      <td>19064</td>\n",
       "      <td>Ibaraki</td>\n",
       "      <td>Kanto</td>\n",
       "      <td>Commodity</td>\n",
       "    </tr>\n",
       "    <tr>\n",
       "      <th>16</th>\n",
       "      <td>2018/7/20</td>\n",
       "      <td>5</td>\n",
       "      <td>6</td>\n",
       "      <td>69</td>\n",
       "      <td>Male</td>\n",
       "      <td>28246</td>\n",
       "      <td>Miyagi</td>\n",
       "      <td>Kyusyuu</td>\n",
       "      <td>Furniture</td>\n",
       "    </tr>\n",
       "    <tr>\n",
       "      <th>17</th>\n",
       "      <td>2018/12/20</td>\n",
       "      <td>6</td>\n",
       "      <td>1</td>\n",
       "      <td>69</td>\n",
       "      <td>Male</td>\n",
       "      <td>5519</td>\n",
       "      <td>Kagoshima</td>\n",
       "      <td>Kyusyuu</td>\n",
       "      <td>Office Supplies</td>\n",
       "    </tr>\n",
       "    <tr>\n",
       "      <th>18</th>\n",
       "      <td>2018/12/17</td>\n",
       "      <td>7</td>\n",
       "      <td>1</td>\n",
       "      <td>40</td>\n",
       "      <td>Male</td>\n",
       "      <td>9372</td>\n",
       "      <td>Akita</td>\n",
       "      <td>Touhoku</td>\n",
       "      <td>Commodity</td>\n",
       "    </tr>\n",
       "    <tr>\n",
       "      <th>19</th>\n",
       "      <td>2018/12/17</td>\n",
       "      <td>8</td>\n",
       "      <td>1</td>\n",
       "      <td>40</td>\n",
       "      <td>Male</td>\n",
       "      <td>3871</td>\n",
       "      <td>Hukushima</td>\n",
       "      <td>Touhoku</td>\n",
       "      <td>Office Supplies</td>\n",
       "    </tr>\n",
       "    <tr>\n",
       "      <th>20</th>\n",
       "      <td>2018/8/9</td>\n",
       "      <td>9</td>\n",
       "      <td>1</td>\n",
       "      <td>40</td>\n",
       "      <td>Male</td>\n",
       "      <td>2190</td>\n",
       "      <td>Hiroshima</td>\n",
       "      <td>Tyugoku</td>\n",
       "      <td>Office Supplies</td>\n",
       "    </tr>\n",
       "    <tr>\n",
       "      <th>21</th>\n",
       "      <td>2018/4/9</td>\n",
       "      <td>10</td>\n",
       "      <td>1</td>\n",
       "      <td>40</td>\n",
       "      <td>Female</td>\n",
       "      <td>1210</td>\n",
       "      <td>Hukushima</td>\n",
       "      <td>Touhoku</td>\n",
       "      <td>Commodity</td>\n",
       "    </tr>\n",
       "    <tr>\n",
       "      <th>22</th>\n",
       "      <td>2018/3/9</td>\n",
       "      <td>11</td>\n",
       "      <td>1</td>\n",
       "      <td>51</td>\n",
       "      <td>Male</td>\n",
       "      <td>23610</td>\n",
       "      <td>Nara</td>\n",
       "      <td>Kansai</td>\n",
       "      <td>Commodity</td>\n",
       "    </tr>\n",
       "    <tr>\n",
       "      <th>23</th>\n",
       "      <td>2018/3/20</td>\n",
       "      <td>12</td>\n",
       "      <td>1</td>\n",
       "      <td>61</td>\n",
       "      <td>Male</td>\n",
       "      <td>2112</td>\n",
       "      <td>Saitama</td>\n",
       "      <td>Kanto</td>\n",
       "      <td>Commodity</td>\n",
       "    </tr>\n",
       "    <tr>\n",
       "      <th>24</th>\n",
       "      <td>2018/1/28</td>\n",
       "      <td>13</td>\n",
       "      <td>1</td>\n",
       "      <td>41</td>\n",
       "      <td>Male</td>\n",
       "      <td>22456</td>\n",
       "      <td>Kanagawa</td>\n",
       "      <td>Kanto</td>\n",
       "      <td>Commodity</td>\n",
       "    </tr>\n",
       "    <tr>\n",
       "      <th>25</th>\n",
       "      <td>2018/12/10</td>\n",
       "      <td>14</td>\n",
       "      <td>1</td>\n",
       "      <td>66</td>\n",
       "      <td>Female</td>\n",
       "      <td>19411</td>\n",
       "      <td>Hiroshima</td>\n",
       "      <td>Tyugoku</td>\n",
       "      <td>Furniture</td>\n",
       "    </tr>\n",
       "    <tr>\n",
       "      <th>26</th>\n",
       "      <td>2018/8/20</td>\n",
       "      <td>15</td>\n",
       "      <td>1</td>\n",
       "      <td>43</td>\n",
       "      <td>Female</td>\n",
       "      <td>80647</td>\n",
       "      <td>Hukuoka</td>\n",
       "      <td>Kyusyuu</td>\n",
       "      <td>Furniture</td>\n",
       "    </tr>\n",
       "    <tr>\n",
       "      <th>27</th>\n",
       "      <td>2018/3/27</td>\n",
       "      <td>16</td>\n",
       "      <td>1</td>\n",
       "      <td>58</td>\n",
       "      <td>Female</td>\n",
       "      <td>2830</td>\n",
       "      <td>Hokkaido</td>\n",
       "      <td>Hokkaido</td>\n",
       "      <td>Office Supplies</td>\n",
       "    </tr>\n",
       "    <tr>\n",
       "      <th>28</th>\n",
       "      <td>2018/9/25</td>\n",
       "      <td>17</td>\n",
       "      <td>1</td>\n",
       "      <td>62</td>\n",
       "      <td>Female</td>\n",
       "      <td>10300</td>\n",
       "      <td>Hukui</td>\n",
       "      <td>Tyubu</td>\n",
       "      <td>Furniture</td>\n",
       "    </tr>\n",
       "    <tr>\n",
       "      <th>29</th>\n",
       "      <td>2018/7/28</td>\n",
       "      <td>18</td>\n",
       "      <td>1</td>\n",
       "      <td>22</td>\n",
       "      <td>Female</td>\n",
       "      <td>32344</td>\n",
       "      <td>Osaka</td>\n",
       "      <td>Kansai</td>\n",
       "      <td>Commodity</td>\n",
       "    </tr>\n",
       "    <tr>\n",
       "      <th>...</th>\n",
       "      <td>...</td>\n",
       "      <td>...</td>\n",
       "      <td>...</td>\n",
       "      <td>...</td>\n",
       "      <td>...</td>\n",
       "      <td>...</td>\n",
       "      <td>...</td>\n",
       "      <td>...</td>\n",
       "      <td>...</td>\n",
       "    </tr>\n",
       "    <tr>\n",
       "      <th>743</th>\n",
       "      <td>2018/8/28</td>\n",
       "      <td>368</td>\n",
       "      <td>1</td>\n",
       "      <td>54</td>\n",
       "      <td>Male</td>\n",
       "      <td>11250</td>\n",
       "      <td>Yamagata</td>\n",
       "      <td>Touhoku</td>\n",
       "      <td>Furniture</td>\n",
       "    </tr>\n",
       "    <tr>\n",
       "      <th>744</th>\n",
       "      <td>2018/1/4</td>\n",
       "      <td>369</td>\n",
       "      <td>1</td>\n",
       "      <td>25</td>\n",
       "      <td>Male</td>\n",
       "      <td>3218</td>\n",
       "      <td>Gihu</td>\n",
       "      <td>Tyubu</td>\n",
       "      <td>Office Supplies</td>\n",
       "    </tr>\n",
       "    <tr>\n",
       "      <th>745</th>\n",
       "      <td>2018/1/27</td>\n",
       "      <td>369</td>\n",
       "      <td>2</td>\n",
       "      <td>48</td>\n",
       "      <td>Male</td>\n",
       "      <td>6403</td>\n",
       "      <td>Tokushima</td>\n",
       "      <td>Shikoku</td>\n",
       "      <td>Office Supplies</td>\n",
       "    </tr>\n",
       "    <tr>\n",
       "      <th>746</th>\n",
       "      <td>2018/2/17</td>\n",
       "      <td>369</td>\n",
       "      <td>3</td>\n",
       "      <td>48</td>\n",
       "      <td>Male</td>\n",
       "      <td>8495</td>\n",
       "      <td>Shiga</td>\n",
       "      <td>Kansai</td>\n",
       "      <td>Furniture</td>\n",
       "    </tr>\n",
       "    <tr>\n",
       "      <th>747</th>\n",
       "      <td>2018/3/8</td>\n",
       "      <td>369</td>\n",
       "      <td>4</td>\n",
       "      <td>25</td>\n",
       "      <td>Male</td>\n",
       "      <td>16932</td>\n",
       "      <td>Hukuoka</td>\n",
       "      <td>Kyusyuu</td>\n",
       "      <td>Commodity</td>\n",
       "    </tr>\n",
       "    <tr>\n",
       "      <th>748</th>\n",
       "      <td>2018/3/30</td>\n",
       "      <td>369</td>\n",
       "      <td>5</td>\n",
       "      <td>25</td>\n",
       "      <td>Male</td>\n",
       "      <td>2284</td>\n",
       "      <td>Nagasaki</td>\n",
       "      <td>Kyusyuu</td>\n",
       "      <td>Office Supplies</td>\n",
       "    </tr>\n",
       "    <tr>\n",
       "      <th>749</th>\n",
       "      <td>2018/4/1</td>\n",
       "      <td>369</td>\n",
       "      <td>6</td>\n",
       "      <td>25</td>\n",
       "      <td>Male</td>\n",
       "      <td>1764</td>\n",
       "      <td>Osaka</td>\n",
       "      <td>Kansai</td>\n",
       "      <td>Office Supplies</td>\n",
       "    </tr>\n",
       "    <tr>\n",
       "      <th>750</th>\n",
       "      <td>2018/8/7</td>\n",
       "      <td>369</td>\n",
       "      <td>7</td>\n",
       "      <td>25</td>\n",
       "      <td>Male</td>\n",
       "      <td>4144</td>\n",
       "      <td>Ishikawa</td>\n",
       "      <td>Tyubu</td>\n",
       "      <td>Commodity</td>\n",
       "    </tr>\n",
       "    <tr>\n",
       "      <th>751</th>\n",
       "      <td>2018/3/7</td>\n",
       "      <td>370</td>\n",
       "      <td>1</td>\n",
       "      <td>25</td>\n",
       "      <td>Male</td>\n",
       "      <td>18317</td>\n",
       "      <td>Miyagi</td>\n",
       "      <td>Kyusyuu</td>\n",
       "      <td>Furniture</td>\n",
       "    </tr>\n",
       "    <tr>\n",
       "      <th>752</th>\n",
       "      <td>2018/4/11</td>\n",
       "      <td>370</td>\n",
       "      <td>2</td>\n",
       "      <td>25</td>\n",
       "      <td>Male</td>\n",
       "      <td>8195</td>\n",
       "      <td>Niigata</td>\n",
       "      <td>Tyubu</td>\n",
       "      <td>Office Supplies</td>\n",
       "    </tr>\n",
       "    <tr>\n",
       "      <th>753</th>\n",
       "      <td>2018/5/23</td>\n",
       "      <td>370</td>\n",
       "      <td>3</td>\n",
       "      <td>25</td>\n",
       "      <td>Male</td>\n",
       "      <td>3987</td>\n",
       "      <td>Yamaguchi</td>\n",
       "      <td>Tyugoku</td>\n",
       "      <td>Commodity</td>\n",
       "    </tr>\n",
       "    <tr>\n",
       "      <th>754</th>\n",
       "      <td>2018/2/24</td>\n",
       "      <td>371</td>\n",
       "      <td>1</td>\n",
       "      <td>31</td>\n",
       "      <td>Male</td>\n",
       "      <td>3134</td>\n",
       "      <td>Ibaraki</td>\n",
       "      <td>Kanto</td>\n",
       "      <td>Office Supplies</td>\n",
       "    </tr>\n",
       "    <tr>\n",
       "      <th>755</th>\n",
       "      <td>2018/5/12</td>\n",
       "      <td>371</td>\n",
       "      <td>2</td>\n",
       "      <td>31</td>\n",
       "      <td>Male</td>\n",
       "      <td>11824</td>\n",
       "      <td>Tokyo</td>\n",
       "      <td>Kanto</td>\n",
       "      <td>Furniture</td>\n",
       "    </tr>\n",
       "    <tr>\n",
       "      <th>756</th>\n",
       "      <td>2018/10/1</td>\n",
       "      <td>371</td>\n",
       "      <td>3</td>\n",
       "      <td>31</td>\n",
       "      <td>Male</td>\n",
       "      <td>3889</td>\n",
       "      <td>Nagono</td>\n",
       "      <td>Tyubu</td>\n",
       "      <td>Office Supplies</td>\n",
       "    </tr>\n",
       "    <tr>\n",
       "      <th>757</th>\n",
       "      <td>2018/4/2</td>\n",
       "      <td>372</td>\n",
       "      <td>1</td>\n",
       "      <td>33</td>\n",
       "      <td>Male</td>\n",
       "      <td>10286</td>\n",
       "      <td>Hukuoka</td>\n",
       "      <td>Kyusyuu</td>\n",
       "      <td>Commodity</td>\n",
       "    </tr>\n",
       "    <tr>\n",
       "      <th>758</th>\n",
       "      <td>2018/7/10</td>\n",
       "      <td>372</td>\n",
       "      <td>2</td>\n",
       "      <td>33</td>\n",
       "      <td>Male</td>\n",
       "      <td>1704</td>\n",
       "      <td>Hukuoka</td>\n",
       "      <td>Kyusyuu</td>\n",
       "      <td>Office Supplies</td>\n",
       "    </tr>\n",
       "    <tr>\n",
       "      <th>759</th>\n",
       "      <td>2018/7/12</td>\n",
       "      <td>372</td>\n",
       "      <td>3</td>\n",
       "      <td>33</td>\n",
       "      <td>Male</td>\n",
       "      <td>5194</td>\n",
       "      <td>Kanagawa</td>\n",
       "      <td>Kanto</td>\n",
       "      <td>Office Supplies</td>\n",
       "    </tr>\n",
       "    <tr>\n",
       "      <th>760</th>\n",
       "      <td>2018/9/23</td>\n",
       "      <td>372</td>\n",
       "      <td>4</td>\n",
       "      <td>33</td>\n",
       "      <td>Male</td>\n",
       "      <td>15675</td>\n",
       "      <td>Chiba</td>\n",
       "      <td>Kanto</td>\n",
       "      <td>Commodity</td>\n",
       "    </tr>\n",
       "    <tr>\n",
       "      <th>761</th>\n",
       "      <td>2018/1/19</td>\n",
       "      <td>373</td>\n",
       "      <td>1</td>\n",
       "      <td>31</td>\n",
       "      <td>Male</td>\n",
       "      <td>2452</td>\n",
       "      <td>Hiroshima</td>\n",
       "      <td>Tyugoku</td>\n",
       "      <td>Commodity</td>\n",
       "    </tr>\n",
       "    <tr>\n",
       "      <th>762</th>\n",
       "      <td>2018/3/31</td>\n",
       "      <td>373</td>\n",
       "      <td>2</td>\n",
       "      <td>31</td>\n",
       "      <td>Male</td>\n",
       "      <td>3134</td>\n",
       "      <td>Miyagi</td>\n",
       "      <td>Touhoku</td>\n",
       "      <td>Furniture</td>\n",
       "    </tr>\n",
       "    <tr>\n",
       "      <th>763</th>\n",
       "      <td>2018/5/12</td>\n",
       "      <td>373</td>\n",
       "      <td>3</td>\n",
       "      <td>31</td>\n",
       "      <td>Male</td>\n",
       "      <td>10169</td>\n",
       "      <td>Iwate</td>\n",
       "      <td>Touhoku</td>\n",
       "      <td>Furniture</td>\n",
       "    </tr>\n",
       "    <tr>\n",
       "      <th>764</th>\n",
       "      <td>2018/6/27</td>\n",
       "      <td>373</td>\n",
       "      <td>4</td>\n",
       "      <td>31</td>\n",
       "      <td>Male</td>\n",
       "      <td>25700</td>\n",
       "      <td>Tokushima</td>\n",
       "      <td>Shikoku</td>\n",
       "      <td>Commodity</td>\n",
       "    </tr>\n",
       "    <tr>\n",
       "      <th>765</th>\n",
       "      <td>2018/9/15</td>\n",
       "      <td>373</td>\n",
       "      <td>5</td>\n",
       "      <td>31</td>\n",
       "      <td>Male</td>\n",
       "      <td>2240</td>\n",
       "      <td>Mie</td>\n",
       "      <td>Kansai</td>\n",
       "      <td>Office Supplies</td>\n",
       "    </tr>\n",
       "    <tr>\n",
       "      <th>766</th>\n",
       "      <td>2018/10/1</td>\n",
       "      <td>374</td>\n",
       "      <td>1</td>\n",
       "      <td>25</td>\n",
       "      <td>Male</td>\n",
       "      <td>1917</td>\n",
       "      <td>Nagono</td>\n",
       "      <td>Tyubu</td>\n",
       "      <td>Office Supplies</td>\n",
       "    </tr>\n",
       "    <tr>\n",
       "      <th>767</th>\n",
       "      <td>2018/6/18</td>\n",
       "      <td>375</td>\n",
       "      <td>1</td>\n",
       "      <td>52</td>\n",
       "      <td>Female</td>\n",
       "      <td>89263</td>\n",
       "      <td>Osaka</td>\n",
       "      <td>Kansai</td>\n",
       "      <td>Furniture</td>\n",
       "    </tr>\n",
       "    <tr>\n",
       "      <th>768</th>\n",
       "      <td>2018/2/10</td>\n",
       "      <td>376</td>\n",
       "      <td>1</td>\n",
       "      <td>52</td>\n",
       "      <td>Male</td>\n",
       "      <td>2429</td>\n",
       "      <td>Ehime</td>\n",
       "      <td>Shikoku</td>\n",
       "      <td>Office Supplies</td>\n",
       "    </tr>\n",
       "    <tr>\n",
       "      <th>769</th>\n",
       "      <td>2018/6/18</td>\n",
       "      <td>376</td>\n",
       "      <td>2</td>\n",
       "      <td>52</td>\n",
       "      <td>Male</td>\n",
       "      <td>8397</td>\n",
       "      <td>Niigata</td>\n",
       "      <td>Tyubu</td>\n",
       "      <td>Commodity</td>\n",
       "    </tr>\n",
       "    <tr>\n",
       "      <th>770</th>\n",
       "      <td>2018/11/16</td>\n",
       "      <td>376</td>\n",
       "      <td>3</td>\n",
       "      <td>52</td>\n",
       "      <td>Male</td>\n",
       "      <td>14104</td>\n",
       "      <td>Hyogo</td>\n",
       "      <td>Kansai</td>\n",
       "      <td>Commodity</td>\n",
       "    </tr>\n",
       "    <tr>\n",
       "      <th>771</th>\n",
       "      <td>2018/6/19</td>\n",
       "      <td>377</td>\n",
       "      <td>1</td>\n",
       "      <td>48</td>\n",
       "      <td>Female</td>\n",
       "      <td>3820</td>\n",
       "      <td>Tokyo</td>\n",
       "      <td>Kanto</td>\n",
       "      <td>Office Supplies</td>\n",
       "    </tr>\n",
       "    <tr>\n",
       "      <th>772</th>\n",
       "      <td>2018/8/28</td>\n",
       "      <td>378</td>\n",
       "      <td>1</td>\n",
       "      <td>40</td>\n",
       "      <td>Male</td>\n",
       "      <td>5301</td>\n",
       "      <td>Shizuoka</td>\n",
       "      <td>Tyubu</td>\n",
       "      <td>Office Supplies</td>\n",
       "    </tr>\n",
       "  </tbody>\n",
       "</table>\n",
       "<p>773 rows × 9 columns</p>\n",
       "</div>"
      ],
      "text/plain": [
       "           Date   ID  Frequency  Age     Sex   Sale Prefecture      Area  \\\n",
       "0     2018/9/23    1          1   65    Male  28649      Chiba     Kanto   \n",
       "1      2018/1/8    2          1   45    Male  11466   Wakayama    Kansai   \n",
       "2      2018/2/8    2          2   45    Male  10428      Hyogo    Kansai   \n",
       "3      2018/3/7    2          3   45    Male   9510    Saitama     Kanto   \n",
       "4     2018/3/10    2          4   45    Male   2706      Osaka    Kansai   \n",
       "5      2018/5/8    2          5   45    Male  11040      Tokyo     Kanto   \n",
       "6     2018/5/25    2          6   45    Male   6475   Shizuoka     Tyubu   \n",
       "7     2018/7/25    2          7   45    Male  24254      Tokyo     Kanto   \n",
       "8     2018/9/23    2          8   45    Male   3989  Hukushima   Touhoku   \n",
       "9    2018/11/29    3          1   49    Male    105  Kagoshima   Kyusyuu   \n",
       "10     2018/3/4    4          1   49    Male    561       Nara    Kansai   \n",
       "11    2018/1/22    5          1   69    Male  20186    Tochigi     Kanto   \n",
       "12    2018/3/26    5          2   69    Male   1585    Hukuoka   Kyusyuu   \n",
       "13    2018/4/11    5          3   69    Male  14953  Hukushima   Touhoku   \n",
       "14    2018/4/20    5          4   69    Male   6232      Aichi     Tyubu   \n",
       "15    2018/5/12    5          5   69    Male  19064    Ibaraki     Kanto   \n",
       "16    2018/7/20    5          6   69    Male  28246     Miyagi   Kyusyuu   \n",
       "17   2018/12/20    6          1   69    Male   5519  Kagoshima   Kyusyuu   \n",
       "18   2018/12/17    7          1   40    Male   9372      Akita   Touhoku   \n",
       "19   2018/12/17    8          1   40    Male   3871  Hukushima   Touhoku   \n",
       "20     2018/8/9    9          1   40    Male   2190  Hiroshima   Tyugoku   \n",
       "21     2018/4/9   10          1   40  Female   1210  Hukushima   Touhoku   \n",
       "22     2018/3/9   11          1   51    Male  23610       Nara    Kansai   \n",
       "23    2018/3/20   12          1   61    Male   2112    Saitama     Kanto   \n",
       "24    2018/1/28   13          1   41    Male  22456   Kanagawa     Kanto   \n",
       "25   2018/12/10   14          1   66  Female  19411  Hiroshima   Tyugoku   \n",
       "26    2018/8/20   15          1   43  Female  80647    Hukuoka   Kyusyuu   \n",
       "27    2018/3/27   16          1   58  Female   2830   Hokkaido  Hokkaido   \n",
       "28    2018/9/25   17          1   62  Female  10300      Hukui     Tyubu   \n",
       "29    2018/7/28   18          1   22  Female  32344      Osaka    Kansai   \n",
       "..          ...  ...        ...  ...     ...    ...        ...       ...   \n",
       "743   2018/8/28  368          1   54    Male  11250   Yamagata   Touhoku   \n",
       "744    2018/1/4  369          1   25    Male   3218       Gihu     Tyubu   \n",
       "745   2018/1/27  369          2   48    Male   6403  Tokushima   Shikoku   \n",
       "746   2018/2/17  369          3   48    Male   8495      Shiga    Kansai   \n",
       "747    2018/3/8  369          4   25    Male  16932    Hukuoka   Kyusyuu   \n",
       "748   2018/3/30  369          5   25    Male   2284   Nagasaki   Kyusyuu   \n",
       "749    2018/4/1  369          6   25    Male   1764      Osaka    Kansai   \n",
       "750    2018/8/7  369          7   25    Male   4144   Ishikawa     Tyubu   \n",
       "751    2018/3/7  370          1   25    Male  18317     Miyagi   Kyusyuu   \n",
       "752   2018/4/11  370          2   25    Male   8195    Niigata     Tyubu   \n",
       "753   2018/5/23  370          3   25    Male   3987  Yamaguchi   Tyugoku   \n",
       "754   2018/2/24  371          1   31    Male   3134    Ibaraki     Kanto   \n",
       "755   2018/5/12  371          2   31    Male  11824      Tokyo     Kanto   \n",
       "756   2018/10/1  371          3   31    Male   3889     Nagono     Tyubu   \n",
       "757    2018/4/2  372          1   33    Male  10286    Hukuoka   Kyusyuu   \n",
       "758   2018/7/10  372          2   33    Male   1704    Hukuoka   Kyusyuu   \n",
       "759   2018/7/12  372          3   33    Male   5194   Kanagawa     Kanto   \n",
       "760   2018/9/23  372          4   33    Male  15675      Chiba     Kanto   \n",
       "761   2018/1/19  373          1   31    Male   2452  Hiroshima   Tyugoku   \n",
       "762   2018/3/31  373          2   31    Male   3134     Miyagi   Touhoku   \n",
       "763   2018/5/12  373          3   31    Male  10169      Iwate   Touhoku   \n",
       "764   2018/6/27  373          4   31    Male  25700  Tokushima   Shikoku   \n",
       "765   2018/9/15  373          5   31    Male   2240        Mie    Kansai   \n",
       "766   2018/10/1  374          1   25    Male   1917     Nagono     Tyubu   \n",
       "767   2018/6/18  375          1   52  Female  89263      Osaka    Kansai   \n",
       "768   2018/2/10  376          1   52    Male   2429      Ehime   Shikoku   \n",
       "769   2018/6/18  376          2   52    Male   8397    Niigata     Tyubu   \n",
       "770  2018/11/16  376          3   52    Male  14104      Hyogo    Kansai   \n",
       "771   2018/6/19  377          1   48  Female   3820      Tokyo     Kanto   \n",
       "772   2018/8/28  378          1   40    Male   5301   Shizuoka     Tyubu   \n",
       "\n",
       "            Category  \n",
       "0          Furniture  \n",
       "1          Commodity  \n",
       "2          Commodity  \n",
       "3          Commodity  \n",
       "4    Office Supplies  \n",
       "5          Furniture  \n",
       "6    Office Supplies  \n",
       "7          Furniture  \n",
       "8    Office Supplies  \n",
       "9    Office Supplies  \n",
       "10   Office Supplies  \n",
       "11         Furniture  \n",
       "12   Office Supplies  \n",
       "13         Commodity  \n",
       "14         Furniture  \n",
       "15         Commodity  \n",
       "16         Furniture  \n",
       "17   Office Supplies  \n",
       "18         Commodity  \n",
       "19   Office Supplies  \n",
       "20   Office Supplies  \n",
       "21         Commodity  \n",
       "22         Commodity  \n",
       "23         Commodity  \n",
       "24         Commodity  \n",
       "25         Furniture  \n",
       "26         Furniture  \n",
       "27   Office Supplies  \n",
       "28         Furniture  \n",
       "29         Commodity  \n",
       "..               ...  \n",
       "743        Furniture  \n",
       "744  Office Supplies  \n",
       "745  Office Supplies  \n",
       "746        Furniture  \n",
       "747        Commodity  \n",
       "748  Office Supplies  \n",
       "749  Office Supplies  \n",
       "750        Commodity  \n",
       "751        Furniture  \n",
       "752  Office Supplies  \n",
       "753        Commodity  \n",
       "754  Office Supplies  \n",
       "755        Furniture  \n",
       "756  Office Supplies  \n",
       "757        Commodity  \n",
       "758  Office Supplies  \n",
       "759  Office Supplies  \n",
       "760        Commodity  \n",
       "761        Commodity  \n",
       "762        Furniture  \n",
       "763        Furniture  \n",
       "764        Commodity  \n",
       "765  Office Supplies  \n",
       "766  Office Supplies  \n",
       "767        Furniture  \n",
       "768  Office Supplies  \n",
       "769        Commodity  \n",
       "770        Commodity  \n",
       "771  Office Supplies  \n",
       "772  Office Supplies  \n",
       "\n",
       "[773 rows x 9 columns]"
      ]
     },
     "execution_count": 6,
     "metadata": {},
     "output_type": "execute_result"
    }
   ],
   "source": [
    "df\n",
    "#データフレームの行にはトランザクションごとのデータ，列にはトランザクションの特徴量(属性)が格納されている"
   ]
  },
  {
   "cell_type": "markdown",
   "metadata": {},
   "source": [
    "### 【Try】上から5つだけ見てみよう！"
   ]
  },
  {
   "cell_type": "code",
   "execution_count": null,
   "metadata": {},
   "outputs": [],
   "source": []
  },
  {
   "cell_type": "code",
   "execution_count": 8,
   "metadata": {},
   "outputs": [
    {
     "data": {
      "text/html": [
       "<div>\n",
       "<style scoped>\n",
       "    .dataframe tbody tr th:only-of-type {\n",
       "        vertical-align: middle;\n",
       "    }\n",
       "\n",
       "    .dataframe tbody tr th {\n",
       "        vertical-align: top;\n",
       "    }\n",
       "\n",
       "    .dataframe thead th {\n",
       "        text-align: right;\n",
       "    }\n",
       "</style>\n",
       "<table border=\"1\" class=\"dataframe\">\n",
       "  <thead>\n",
       "    <tr style=\"text-align: right;\">\n",
       "      <th></th>\n",
       "      <th>Date</th>\n",
       "      <th>ID</th>\n",
       "      <th>Frequency</th>\n",
       "      <th>Age</th>\n",
       "      <th>Sex</th>\n",
       "      <th>Sale</th>\n",
       "      <th>Prefecture</th>\n",
       "      <th>Area</th>\n",
       "      <th>Category</th>\n",
       "    </tr>\n",
       "  </thead>\n",
       "  <tbody>\n",
       "    <tr>\n",
       "      <th>0</th>\n",
       "      <td>2018/9/23</td>\n",
       "      <td>1</td>\n",
       "      <td>1</td>\n",
       "      <td>65</td>\n",
       "      <td>Male</td>\n",
       "      <td>28649</td>\n",
       "      <td>Chiba</td>\n",
       "      <td>Kanto</td>\n",
       "      <td>Furniture</td>\n",
       "    </tr>\n",
       "    <tr>\n",
       "      <th>1</th>\n",
       "      <td>2018/1/8</td>\n",
       "      <td>2</td>\n",
       "      <td>1</td>\n",
       "      <td>45</td>\n",
       "      <td>Male</td>\n",
       "      <td>11466</td>\n",
       "      <td>Wakayama</td>\n",
       "      <td>Kansai</td>\n",
       "      <td>Commodity</td>\n",
       "    </tr>\n",
       "    <tr>\n",
       "      <th>2</th>\n",
       "      <td>2018/2/8</td>\n",
       "      <td>2</td>\n",
       "      <td>2</td>\n",
       "      <td>45</td>\n",
       "      <td>Male</td>\n",
       "      <td>10428</td>\n",
       "      <td>Hyogo</td>\n",
       "      <td>Kansai</td>\n",
       "      <td>Commodity</td>\n",
       "    </tr>\n",
       "    <tr>\n",
       "      <th>3</th>\n",
       "      <td>2018/3/7</td>\n",
       "      <td>2</td>\n",
       "      <td>3</td>\n",
       "      <td>45</td>\n",
       "      <td>Male</td>\n",
       "      <td>9510</td>\n",
       "      <td>Saitama</td>\n",
       "      <td>Kanto</td>\n",
       "      <td>Commodity</td>\n",
       "    </tr>\n",
       "    <tr>\n",
       "      <th>4</th>\n",
       "      <td>2018/3/10</td>\n",
       "      <td>2</td>\n",
       "      <td>4</td>\n",
       "      <td>45</td>\n",
       "      <td>Male</td>\n",
       "      <td>2706</td>\n",
       "      <td>Osaka</td>\n",
       "      <td>Kansai</td>\n",
       "      <td>Office Supplies</td>\n",
       "    </tr>\n",
       "  </tbody>\n",
       "</table>\n",
       "</div>"
      ],
      "text/plain": [
       "        Date  ID  Frequency  Age   Sex   Sale Prefecture    Area  \\\n",
       "0  2018/9/23   1          1   65  Male  28649      Chiba   Kanto   \n",
       "1   2018/1/8   2          1   45  Male  11466   Wakayama  Kansai   \n",
       "2   2018/2/8   2          2   45  Male  10428      Hyogo  Kansai   \n",
       "3   2018/3/7   2          3   45  Male   9510    Saitama   Kanto   \n",
       "4  2018/3/10   2          4   45  Male   2706      Osaka  Kansai   \n",
       "\n",
       "          Category  \n",
       "0        Furniture  \n",
       "1        Commodity  \n",
       "2        Commodity  \n",
       "3        Commodity  \n",
       "4  Office Supplies  "
      ]
     },
     "execution_count": 8,
     "metadata": {},
     "output_type": "execute_result"
    }
   ],
   "source": [
    "df.head()\n",
    "#dfの中身(大枠)を確認，head→上から五行のみを表示"
   ]
  },
  {
   "cell_type": "markdown",
   "metadata": {},
   "source": [
    "### POSデータ(トランザクションデータ)：どういう顧客がいつ何をいくらで購入したか？"
   ]
  },
  {
   "cell_type": "markdown",
   "metadata": {},
   "source": [
    "### データの列の内容\n",
    "* Date : 購入した年月\n",
    "* ID : 購入者のID番号\n",
    "* Frequency : 購入回数\n",
    "* Age : 年齢\n",
    "* Sex : 性別\n",
    "* Sale : 売上\n",
    "* Prefecture : 都道府県\n",
    "* Area : 地区\n",
    "* Category : 商品カテゴリ"
   ]
  },
  {
   "cell_type": "code",
   "execution_count": 9,
   "metadata": {},
   "outputs": [
    {
     "name": "stdout",
     "output_type": "stream",
     "text": [
      "<class 'pandas.core.frame.DataFrame'>\n",
      "RangeIndex: 773 entries, 0 to 772\n",
      "Data columns (total 9 columns):\n",
      "Date          773 non-null object\n",
      "ID            773 non-null int64\n",
      "Frequency     773 non-null int64\n",
      "Age           773 non-null int64\n",
      "Sex           773 non-null object\n",
      "Sale          773 non-null int64\n",
      "Prefecture    773 non-null object\n",
      "Area          773 non-null object\n",
      "Category      773 non-null object\n",
      "dtypes: int64(4), object(5)\n",
      "memory usage: 54.4+ KB\n"
     ]
    }
   ],
   "source": [
    "df.info()\n",
    "#データの形式と不足を確認"
   ]
  },
  {
   "cell_type": "markdown",
   "metadata": {},
   "source": [
    "## 1.2 データ加工"
   ]
  },
  {
   "cell_type": "markdown",
   "metadata": {},
   "source": [
    "### 今回の目的は売上減少の原因を探り、来月の売上減少を阻止するためのヒントを得ること！\n",
    "### Dateの部分が使いにくい → 日付の部分から月のみを取り出そう！\n",
    "欲しいアウトプットに対して、何のデータが欲しいのか？どこまで掘り下げるのか？を常に考えることが大切！"
   ]
  },
  {
   "cell_type": "code",
   "execution_count": 10,
   "metadata": {},
   "outputs": [
    {
     "data": {
      "text/html": [
       "<div>\n",
       "<style scoped>\n",
       "    .dataframe tbody tr th:only-of-type {\n",
       "        vertical-align: middle;\n",
       "    }\n",
       "\n",
       "    .dataframe tbody tr th {\n",
       "        vertical-align: top;\n",
       "    }\n",
       "\n",
       "    .dataframe thead th {\n",
       "        text-align: right;\n",
       "    }\n",
       "</style>\n",
       "<table border=\"1\" class=\"dataframe\">\n",
       "  <thead>\n",
       "    <tr style=\"text-align: right;\">\n",
       "      <th></th>\n",
       "      <th>Date</th>\n",
       "      <th>ID</th>\n",
       "      <th>Frequency</th>\n",
       "      <th>Age</th>\n",
       "      <th>Sex</th>\n",
       "      <th>Sale</th>\n",
       "      <th>Prefecture</th>\n",
       "      <th>Area</th>\n",
       "      <th>Category</th>\n",
       "    </tr>\n",
       "  </thead>\n",
       "  <tbody>\n",
       "    <tr>\n",
       "      <th>0</th>\n",
       "      <td>2018/9/23</td>\n",
       "      <td>1</td>\n",
       "      <td>1</td>\n",
       "      <td>65</td>\n",
       "      <td>Male</td>\n",
       "      <td>28649</td>\n",
       "      <td>Chiba</td>\n",
       "      <td>Kanto</td>\n",
       "      <td>Furniture</td>\n",
       "    </tr>\n",
       "    <tr>\n",
       "      <th>1</th>\n",
       "      <td>2018/1/8</td>\n",
       "      <td>2</td>\n",
       "      <td>1</td>\n",
       "      <td>45</td>\n",
       "      <td>Male</td>\n",
       "      <td>11466</td>\n",
       "      <td>Wakayama</td>\n",
       "      <td>Kansai</td>\n",
       "      <td>Commodity</td>\n",
       "    </tr>\n",
       "    <tr>\n",
       "      <th>2</th>\n",
       "      <td>2018/2/8</td>\n",
       "      <td>2</td>\n",
       "      <td>2</td>\n",
       "      <td>45</td>\n",
       "      <td>Male</td>\n",
       "      <td>10428</td>\n",
       "      <td>Hyogo</td>\n",
       "      <td>Kansai</td>\n",
       "      <td>Commodity</td>\n",
       "    </tr>\n",
       "    <tr>\n",
       "      <th>3</th>\n",
       "      <td>2018/3/7</td>\n",
       "      <td>2</td>\n",
       "      <td>3</td>\n",
       "      <td>45</td>\n",
       "      <td>Male</td>\n",
       "      <td>9510</td>\n",
       "      <td>Saitama</td>\n",
       "      <td>Kanto</td>\n",
       "      <td>Commodity</td>\n",
       "    </tr>\n",
       "    <tr>\n",
       "      <th>4</th>\n",
       "      <td>2018/3/10</td>\n",
       "      <td>2</td>\n",
       "      <td>4</td>\n",
       "      <td>45</td>\n",
       "      <td>Male</td>\n",
       "      <td>2706</td>\n",
       "      <td>Osaka</td>\n",
       "      <td>Kansai</td>\n",
       "      <td>Office Supplies</td>\n",
       "    </tr>\n",
       "  </tbody>\n",
       "</table>\n",
       "</div>"
      ],
      "text/plain": [
       "        Date  ID  Frequency  Age   Sex   Sale Prefecture    Area  \\\n",
       "0  2018/9/23   1          1   65  Male  28649      Chiba   Kanto   \n",
       "1   2018/1/8   2          1   45  Male  11466   Wakayama  Kansai   \n",
       "2   2018/2/8   2          2   45  Male  10428      Hyogo  Kansai   \n",
       "3   2018/3/7   2          3   45  Male   9510    Saitama   Kanto   \n",
       "4  2018/3/10   2          4   45  Male   2706      Osaka  Kansai   \n",
       "\n",
       "          Category  \n",
       "0        Furniture  \n",
       "1        Commodity  \n",
       "2        Commodity  \n",
       "3        Commodity  \n",
       "4  Office Supplies  "
      ]
     },
     "execution_count": 10,
     "metadata": {},
     "output_type": "execute_result"
    }
   ],
   "source": [
    "df.head()"
   ]
  },
  {
   "cell_type": "code",
   "execution_count": 11,
   "metadata": {},
   "outputs": [],
   "source": [
    "# 月ごとに集計をするため、日付から月を取り出す。\n",
    "\n",
    "df['Date'] = pd.to_datetime(df['Date'],format='%Y-%m-%d')\n",
    "# データの型をto_dataframeで時間の型に変換し， df['Data']に代入"
   ]
  },
  {
   "cell_type": "code",
   "execution_count": 12,
   "metadata": {},
   "outputs": [
    {
     "name": "stdout",
     "output_type": "stream",
     "text": [
      "<class 'pandas.core.frame.DataFrame'>\n",
      "RangeIndex: 773 entries, 0 to 772\n",
      "Data columns (total 9 columns):\n",
      "Date          773 non-null datetime64[ns]\n",
      "ID            773 non-null int64\n",
      "Frequency     773 non-null int64\n",
      "Age           773 non-null int64\n",
      "Sex           773 non-null object\n",
      "Sale          773 non-null int64\n",
      "Prefecture    773 non-null object\n",
      "Area          773 non-null object\n",
      "Category      773 non-null object\n",
      "dtypes: datetime64[ns](1), int64(4), object(4)\n",
      "memory usage: 54.4+ KB\n"
     ]
    }
   ],
   "source": [
    "df.info()\n",
    "#確認"
   ]
  },
  {
   "cell_type": "code",
   "execution_count": 13,
   "metadata": {},
   "outputs": [
    {
     "data": {
      "text/html": [
       "<div>\n",
       "<style scoped>\n",
       "    .dataframe tbody tr th:only-of-type {\n",
       "        vertical-align: middle;\n",
       "    }\n",
       "\n",
       "    .dataframe tbody tr th {\n",
       "        vertical-align: top;\n",
       "    }\n",
       "\n",
       "    .dataframe thead th {\n",
       "        text-align: right;\n",
       "    }\n",
       "</style>\n",
       "<table border=\"1\" class=\"dataframe\">\n",
       "  <thead>\n",
       "    <tr style=\"text-align: right;\">\n",
       "      <th></th>\n",
       "      <th>Date</th>\n",
       "      <th>ID</th>\n",
       "      <th>Frequency</th>\n",
       "      <th>Age</th>\n",
       "      <th>Sex</th>\n",
       "      <th>Sale</th>\n",
       "      <th>Prefecture</th>\n",
       "      <th>Area</th>\n",
       "      <th>Category</th>\n",
       "      <th>Month</th>\n",
       "    </tr>\n",
       "  </thead>\n",
       "  <tbody>\n",
       "    <tr>\n",
       "      <th>0</th>\n",
       "      <td>2018-09-23</td>\n",
       "      <td>1</td>\n",
       "      <td>1</td>\n",
       "      <td>65</td>\n",
       "      <td>Male</td>\n",
       "      <td>28649</td>\n",
       "      <td>Chiba</td>\n",
       "      <td>Kanto</td>\n",
       "      <td>Furniture</td>\n",
       "      <td>9</td>\n",
       "    </tr>\n",
       "    <tr>\n",
       "      <th>1</th>\n",
       "      <td>2018-01-08</td>\n",
       "      <td>2</td>\n",
       "      <td>1</td>\n",
       "      <td>45</td>\n",
       "      <td>Male</td>\n",
       "      <td>11466</td>\n",
       "      <td>Wakayama</td>\n",
       "      <td>Kansai</td>\n",
       "      <td>Commodity</td>\n",
       "      <td>1</td>\n",
       "    </tr>\n",
       "    <tr>\n",
       "      <th>2</th>\n",
       "      <td>2018-02-08</td>\n",
       "      <td>2</td>\n",
       "      <td>2</td>\n",
       "      <td>45</td>\n",
       "      <td>Male</td>\n",
       "      <td>10428</td>\n",
       "      <td>Hyogo</td>\n",
       "      <td>Kansai</td>\n",
       "      <td>Commodity</td>\n",
       "      <td>2</td>\n",
       "    </tr>\n",
       "    <tr>\n",
       "      <th>3</th>\n",
       "      <td>2018-03-07</td>\n",
       "      <td>2</td>\n",
       "      <td>3</td>\n",
       "      <td>45</td>\n",
       "      <td>Male</td>\n",
       "      <td>9510</td>\n",
       "      <td>Saitama</td>\n",
       "      <td>Kanto</td>\n",
       "      <td>Commodity</td>\n",
       "      <td>3</td>\n",
       "    </tr>\n",
       "    <tr>\n",
       "      <th>4</th>\n",
       "      <td>2018-03-10</td>\n",
       "      <td>2</td>\n",
       "      <td>4</td>\n",
       "      <td>45</td>\n",
       "      <td>Male</td>\n",
       "      <td>2706</td>\n",
       "      <td>Osaka</td>\n",
       "      <td>Kansai</td>\n",
       "      <td>Office Supplies</td>\n",
       "      <td>3</td>\n",
       "    </tr>\n",
       "  </tbody>\n",
       "</table>\n",
       "</div>"
      ],
      "text/plain": [
       "        Date  ID  Frequency  Age   Sex   Sale Prefecture    Area  \\\n",
       "0 2018-09-23   1          1   65  Male  28649      Chiba   Kanto   \n",
       "1 2018-01-08   2          1   45  Male  11466   Wakayama  Kansai   \n",
       "2 2018-02-08   2          2   45  Male  10428      Hyogo  Kansai   \n",
       "3 2018-03-07   2          3   45  Male   9510    Saitama   Kanto   \n",
       "4 2018-03-10   2          4   45  Male   2706      Osaka  Kansai   \n",
       "\n",
       "          Category  Month  \n",
       "0        Furniture      9  \n",
       "1        Commodity      1  \n",
       "2        Commodity      2  \n",
       "3        Commodity      3  \n",
       "4  Office Supplies      3  "
      ]
     },
     "execution_count": 13,
     "metadata": {},
     "output_type": "execute_result"
    }
   ],
   "source": [
    "df['Month'] = df['Date'].dt.month\n",
    "# 月のみを抽出\n",
    "# df['Date']内の'month'という要素にアクセスし，df['Month']に代入\n",
    "\n",
    "df.head()\n",
    "#データ確認"
   ]
  },
  {
   "cell_type": "markdown",
   "metadata": {},
   "source": [
    "#### 今回は年月だけ加工したが、どこまでセグメントを分け，加工していくのかは目的に応じて考える必要がある\n",
    "#### ex) 年代+性別というひとまとまりのデータが得られたりする場合にそれぞれの属性に対して分析したい場合は加工が必要"
   ]
  },
  {
   "cell_type": "markdown",
   "metadata": {},
   "source": [
    "# 2. データ可視化による現状分析"
   ]
  },
  {
   "cell_type": "markdown",
   "metadata": {},
   "source": [
    "## 2.1 売上が本当に減少しているのか確認する！"
   ]
  },
  {
   "cell_type": "markdown",
   "metadata": {},
   "source": [
    "### 月ごとに売上を集計⇒可視化"
   ]
  },
  {
   "cell_type": "markdown",
   "metadata": {},
   "source": [
    "## 【Try】月ごとの売上を集計してみよう！"
   ]
  },
  {
   "cell_type": "code",
   "execution_count": null,
   "metadata": {},
   "outputs": [],
   "source": []
  },
  {
   "cell_type": "code",
   "execution_count": 14,
   "metadata": {},
   "outputs": [
    {
     "data": {
      "text/html": [
       "<div>\n",
       "<style scoped>\n",
       "    .dataframe tbody tr th:only-of-type {\n",
       "        vertical-align: middle;\n",
       "    }\n",
       "\n",
       "    .dataframe tbody tr th {\n",
       "        vertical-align: top;\n",
       "    }\n",
       "\n",
       "    .dataframe thead th {\n",
       "        text-align: right;\n",
       "    }\n",
       "</style>\n",
       "<table border=\"1\" class=\"dataframe\">\n",
       "  <thead>\n",
       "    <tr style=\"text-align: right;\">\n",
       "      <th></th>\n",
       "      <th>ID</th>\n",
       "      <th>Frequency</th>\n",
       "      <th>Age</th>\n",
       "      <th>Sale</th>\n",
       "    </tr>\n",
       "    <tr>\n",
       "      <th>Month</th>\n",
       "      <th></th>\n",
       "      <th></th>\n",
       "      <th></th>\n",
       "      <th></th>\n",
       "    </tr>\n",
       "  </thead>\n",
       "  <tbody>\n",
       "    <tr>\n",
       "      <th>1</th>\n",
       "      <td>13781</td>\n",
       "      <td>72</td>\n",
       "      <td>2742</td>\n",
       "      <td>752223</td>\n",
       "    </tr>\n",
       "    <tr>\n",
       "      <th>2</th>\n",
       "      <td>15333</td>\n",
       "      <td>89</td>\n",
       "      <td>2783</td>\n",
       "      <td>813704</td>\n",
       "    </tr>\n",
       "    <tr>\n",
       "      <th>3</th>\n",
       "      <td>14056</td>\n",
       "      <td>123</td>\n",
       "      <td>3243</td>\n",
       "      <td>875914</td>\n",
       "    </tr>\n",
       "    <tr>\n",
       "      <th>4</th>\n",
       "      <td>17006</td>\n",
       "      <td>144</td>\n",
       "      <td>3544</td>\n",
       "      <td>939119</td>\n",
       "    </tr>\n",
       "    <tr>\n",
       "      <th>5</th>\n",
       "      <td>16039</td>\n",
       "      <td>182</td>\n",
       "      <td>3393</td>\n",
       "      <td>786863</td>\n",
       "    </tr>\n",
       "    <tr>\n",
       "      <th>6</th>\n",
       "      <td>16776</td>\n",
       "      <td>157</td>\n",
       "      <td>3294</td>\n",
       "      <td>953678</td>\n",
       "    </tr>\n",
       "    <tr>\n",
       "      <th>7</th>\n",
       "      <td>14621</td>\n",
       "      <td>207</td>\n",
       "      <td>2840</td>\n",
       "      <td>739409</td>\n",
       "    </tr>\n",
       "    <tr>\n",
       "      <th>8</th>\n",
       "      <td>12282</td>\n",
       "      <td>169</td>\n",
       "      <td>2460</td>\n",
       "      <td>903261</td>\n",
       "    </tr>\n",
       "    <tr>\n",
       "      <th>9</th>\n",
       "      <td>13403</td>\n",
       "      <td>188</td>\n",
       "      <td>3017</td>\n",
       "      <td>692059</td>\n",
       "    </tr>\n",
       "    <tr>\n",
       "      <th>10</th>\n",
       "      <td>13309</td>\n",
       "      <td>197</td>\n",
       "      <td>2639</td>\n",
       "      <td>668011</td>\n",
       "    </tr>\n",
       "    <tr>\n",
       "      <th>11</th>\n",
       "      <td>12433</td>\n",
       "      <td>204</td>\n",
       "      <td>2471</td>\n",
       "      <td>655202</td>\n",
       "    </tr>\n",
       "    <tr>\n",
       "      <th>12</th>\n",
       "      <td>10853</td>\n",
       "      <td>176</td>\n",
       "      <td>2322</td>\n",
       "      <td>554738</td>\n",
       "    </tr>\n",
       "  </tbody>\n",
       "</table>\n",
       "</div>"
      ],
      "text/plain": [
       "          ID  Frequency   Age    Sale\n",
       "Month                                \n",
       "1      13781         72  2742  752223\n",
       "2      15333         89  2783  813704\n",
       "3      14056        123  3243  875914\n",
       "4      17006        144  3544  939119\n",
       "5      16039        182  3393  786863\n",
       "6      16776        157  3294  953678\n",
       "7      14621        207  2840  739409\n",
       "8      12282        169  2460  903261\n",
       "9      13403        188  3017  692059\n",
       "10     13309        197  2639  668011\n",
       "11     12433        204  2471  655202\n",
       "12     10853        176  2322  554738"
      ]
     },
     "execution_count": 14,
     "metadata": {},
     "output_type": "execute_result"
    }
   ],
   "source": [
    "df.groupby('Month').sum()\n",
    "# 月ごとに売上の合計値を集計してみよう！\n",
    "#月ごとにグループ分けし，足し合わせの操作(sum)をする"
   ]
  },
  {
   "cell_type": "code",
   "execution_count": 15,
   "metadata": {
    "scrolled": false
   },
   "outputs": [
    {
     "data": {
      "text/plain": [
       "'\\ngroupby関数\\n→データフレームでグループごとに同じ操作を加えたい時は、groupby().操作名というコードを使います。\\n\\nex)\\n月ごとの売上の合計値が欲しい！\\n性別と年代それぞれの軸で、売上の合計値がほしい！\\n'"
      ]
     },
     "execution_count": 15,
     "metadata": {},
     "output_type": "execute_result"
    }
   ],
   "source": [
    "'''\n",
    "groupby関数\n",
    "→データフレームでグループごとに同じ操作を加えたい時は、groupby().操作名というコードを使います。\n",
    "\n",
    "ex)\n",
    "月ごとの売上の合計値が欲しい！\n",
    "性別と年代それぞれの軸で、売上の合計値がほしい！\n",
    "'''"
   ]
  },
  {
   "cell_type": "code",
   "execution_count": 16,
   "metadata": {},
   "outputs": [],
   "source": [
    "df_month_sum = df.groupby('Month').sum()\n",
    "#月ごとにグループ分けし，足し合わせの操作(sum)をする\n",
    "#df_month_sumというデータフレームを作成し，代入する"
   ]
  },
  {
   "cell_type": "code",
   "execution_count": 17,
   "metadata": {},
   "outputs": [
    {
     "data": {
      "text/html": [
       "<div>\n",
       "<style scoped>\n",
       "    .dataframe tbody tr th:only-of-type {\n",
       "        vertical-align: middle;\n",
       "    }\n",
       "\n",
       "    .dataframe tbody tr th {\n",
       "        vertical-align: top;\n",
       "    }\n",
       "\n",
       "    .dataframe thead th {\n",
       "        text-align: right;\n",
       "    }\n",
       "</style>\n",
       "<table border=\"1\" class=\"dataframe\">\n",
       "  <thead>\n",
       "    <tr style=\"text-align: right;\">\n",
       "      <th></th>\n",
       "      <th>ID</th>\n",
       "      <th>Frequency</th>\n",
       "      <th>Age</th>\n",
       "      <th>Sale</th>\n",
       "    </tr>\n",
       "    <tr>\n",
       "      <th>Month</th>\n",
       "      <th></th>\n",
       "      <th></th>\n",
       "      <th></th>\n",
       "      <th></th>\n",
       "    </tr>\n",
       "  </thead>\n",
       "  <tbody>\n",
       "    <tr>\n",
       "      <th>1</th>\n",
       "      <td>13781</td>\n",
       "      <td>72</td>\n",
       "      <td>2742</td>\n",
       "      <td>752223</td>\n",
       "    </tr>\n",
       "    <tr>\n",
       "      <th>2</th>\n",
       "      <td>15333</td>\n",
       "      <td>89</td>\n",
       "      <td>2783</td>\n",
       "      <td>813704</td>\n",
       "    </tr>\n",
       "    <tr>\n",
       "      <th>3</th>\n",
       "      <td>14056</td>\n",
       "      <td>123</td>\n",
       "      <td>3243</td>\n",
       "      <td>875914</td>\n",
       "    </tr>\n",
       "    <tr>\n",
       "      <th>4</th>\n",
       "      <td>17006</td>\n",
       "      <td>144</td>\n",
       "      <td>3544</td>\n",
       "      <td>939119</td>\n",
       "    </tr>\n",
       "    <tr>\n",
       "      <th>5</th>\n",
       "      <td>16039</td>\n",
       "      <td>182</td>\n",
       "      <td>3393</td>\n",
       "      <td>786863</td>\n",
       "    </tr>\n",
       "    <tr>\n",
       "      <th>6</th>\n",
       "      <td>16776</td>\n",
       "      <td>157</td>\n",
       "      <td>3294</td>\n",
       "      <td>953678</td>\n",
       "    </tr>\n",
       "    <tr>\n",
       "      <th>7</th>\n",
       "      <td>14621</td>\n",
       "      <td>207</td>\n",
       "      <td>2840</td>\n",
       "      <td>739409</td>\n",
       "    </tr>\n",
       "    <tr>\n",
       "      <th>8</th>\n",
       "      <td>12282</td>\n",
       "      <td>169</td>\n",
       "      <td>2460</td>\n",
       "      <td>903261</td>\n",
       "    </tr>\n",
       "    <tr>\n",
       "      <th>9</th>\n",
       "      <td>13403</td>\n",
       "      <td>188</td>\n",
       "      <td>3017</td>\n",
       "      <td>692059</td>\n",
       "    </tr>\n",
       "    <tr>\n",
       "      <th>10</th>\n",
       "      <td>13309</td>\n",
       "      <td>197</td>\n",
       "      <td>2639</td>\n",
       "      <td>668011</td>\n",
       "    </tr>\n",
       "    <tr>\n",
       "      <th>11</th>\n",
       "      <td>12433</td>\n",
       "      <td>204</td>\n",
       "      <td>2471</td>\n",
       "      <td>655202</td>\n",
       "    </tr>\n",
       "    <tr>\n",
       "      <th>12</th>\n",
       "      <td>10853</td>\n",
       "      <td>176</td>\n",
       "      <td>2322</td>\n",
       "      <td>554738</td>\n",
       "    </tr>\n",
       "  </tbody>\n",
       "</table>\n",
       "</div>"
      ],
      "text/plain": [
       "          ID  Frequency   Age    Sale\n",
       "Month                                \n",
       "1      13781         72  2742  752223\n",
       "2      15333         89  2783  813704\n",
       "3      14056        123  3243  875914\n",
       "4      17006        144  3544  939119\n",
       "5      16039        182  3393  786863\n",
       "6      16776        157  3294  953678\n",
       "7      14621        207  2840  739409\n",
       "8      12282        169  2460  903261\n",
       "9      13403        188  3017  692059\n",
       "10     13309        197  2639  668011\n",
       "11     12433        204  2471  655202\n",
       "12     10853        176  2322  554738"
      ]
     },
     "execution_count": 17,
     "metadata": {},
     "output_type": "execute_result"
    }
   ],
   "source": [
    "df_month_sum\n",
    "#データの確認！"
   ]
  },
  {
   "cell_type": "markdown",
   "metadata": {},
   "source": [
    "## 集計したデータを可視化"
   ]
  },
  {
   "cell_type": "markdown",
   "metadata": {},
   "source": [
    "### 縦軸：売上の合計値，横軸：月　の折れ線グラフを作成"
   ]
  },
  {
   "cell_type": "code",
   "execution_count": 18,
   "metadata": {},
   "outputs": [
    {
     "data": {
      "text/plain": [
       "Month\n",
       "1     752223\n",
       "2     813704\n",
       "3     875914\n",
       "4     939119\n",
       "5     786863\n",
       "6     953678\n",
       "7     739409\n",
       "8     903261\n",
       "9     692059\n",
       "10    668011\n",
       "11    655202\n",
       "12    554738\n",
       "Name: Sale, dtype: int64"
      ]
     },
     "execution_count": 18,
     "metadata": {},
     "output_type": "execute_result"
    }
   ],
   "source": [
    "df_month_sum['Sale']\n",
    "#売上の合計値のデータを確認\n",
    "#df_month_sum内のカラム名'Sale'の値を表示"
   ]
  },
  {
   "cell_type": "code",
   "execution_count": 19,
   "metadata": {},
   "outputs": [
    {
     "data": {
      "text/plain": [
       "Int64Index([1, 2, 3, 4, 5, 6, 7, 8, 9, 10, 11, 12], dtype='int64', name='Month')"
      ]
     },
     "execution_count": 19,
     "metadata": {},
     "output_type": "execute_result"
    }
   ],
   "source": [
    "df_month_sum.index\n",
    "#df_month_sum内のindexを表示"
   ]
  },
  {
   "cell_type": "code",
   "execution_count": 20,
   "metadata": {},
   "outputs": [
    {
     "data": {
      "text/plain": [
       "\"\\n▼POINT①▼\\n\\n▷dataframeの扱い方\\n\\ndfに対して\\ndf.index : dfのインデックスを取得\\ndf.values : dfの値を取得\\ndf.['X'] : dfのX列の要素を取得\\ndf.X : dfのX列の要素を取得\\n\""
      ]
     },
     "execution_count": 20,
     "metadata": {},
     "output_type": "execute_result"
    }
   ],
   "source": [
    "'''\n",
    "▼POINT①▼\n",
    "\n",
    "▷dataframeの扱い方\n",
    "\n",
    "dfに対して\n",
    "df.index : dfのインデックスを取得\n",
    "df.values : dfの値を取得\n",
    "df.['X'] : dfのX列の要素を取得\n",
    "df.X : dfのX列の要素を取得\n",
    "'''"
   ]
  },
  {
   "cell_type": "code",
   "execution_count": 21,
   "metadata": {},
   "outputs": [
    {
     "data": {
      "text/plain": [
       "[<matplotlib.lines.Line2D at 0x1118f7c18>]"
      ]
     },
     "execution_count": 21,
     "metadata": {},
     "output_type": "execute_result"
    },
    {
     "data": {
      "image/png": "[encoded data removed]",
      "text/plain": [
       "<Figure size 432x288 with 1 Axes>"
      ]
     },
     "metadata": {
      "needs_background": "light"
     },
     "output_type": "display_data"
    }
   ],
   "source": [
    "import matplotlib.pyplot as plt\n",
    "%matplotlib inline\n",
    "#可視化ライブラリ matplotlibをimportし，pltとする\n",
    "\n",
    "'''\n",
    "▼POINT②▼\n",
    "\n",
    "▷matplotlibの基本的な使い方\n",
    "\n",
    "plt.plot(xの値, yの値, label='ラベル名', color='線の色')\n",
    "\n",
    "plt.title('タイトル名')\n",
    "plt.xlabel('xラベル名')\n",
    "plt.ylabel('yラベル名')\n",
    "plt.legend(loc='ラベルの位置')\n",
    "'''\n",
    "\n",
    "plt.plot(df_month_sum.index, df_month_sum['Sale'])"
   ]
  },
  {
   "cell_type": "markdown",
   "metadata": {},
   "source": [
    "### 全体的な変化量がイメージしづらい。。軸のラベルもない。。\n",
    "### グラフの体裁を整えよう！\n",
    "### y軸の範囲，軸のラベル，グラフタイトルを足そう！"
   ]
  },
  {
   "cell_type": "code",
   "execution_count": 22,
   "metadata": {},
   "outputs": [
    {
     "data": {
      "text/plain": [
       "(0, 1000000)"
      ]
     },
     "execution_count": 22,
     "metadata": {},
     "output_type": "execute_result"
    },
    {
     "data": {
      "image/png": "[encoded data removed]",
      "text/plain": [
       "<Figure size 432x288 with 1 Axes>"
      ]
     },
     "metadata": {
      "needs_background": "light"
     },
     "output_type": "display_data"
    }
   ],
   "source": [
    "plt.plot(df_month_sum.index, df_month_sum['Sale'], label='Sales')\n",
    "plt.title('Sales trand')\n",
    "plt.xlabel('Month')\n",
    "plt.ylabel('Sales')\n",
    "plt.ylim(0, 1000000)\n",
    "#y軸の範囲を指定"
   ]
  },
  {
   "cell_type": "markdown",
   "metadata": {},
   "source": [
    "### グラフからわかること :  ヒアリング通り減少傾向にある。4月頃から、増減を繰り返しており、8月からは減少傾向は強まっている。"
   ]
  },
  {
   "cell_type": "markdown",
   "metadata": {},
   "source": [
    "### どうして減少したのだろうか？\n",
    "### 売上＝客数(購買回数)×客単価より、どちらの影響かを考えていく＊\n",
    "\n",
    "※今回は1人1種類の商品しか買っていないことになっている。1レコード1ユーザー。"
   ]
  },
  {
   "cell_type": "markdown",
   "metadata": {},
   "source": [
    "## 2.2 平均客単価から見ていく。客単価は売上の平均値となる。"
   ]
  },
  {
   "cell_type": "markdown",
   "metadata": {},
   "source": [
    "### 2.1売上の減少を見ていった場合と同様に、集計⇒可視化の流れ。"
   ]
  },
  {
   "cell_type": "markdown",
   "metadata": {},
   "source": [
    "### 平均客単価 = (売上の合計値) / (購買件数)　→　平均値を抽出"
   ]
  },
  {
   "cell_type": "code",
   "execution_count": 23,
   "metadata": {
    "scrolled": false
   },
   "outputs": [
    {
     "data": {
      "text/html": [
       "<div>\n",
       "<style scoped>\n",
       "    .dataframe tbody tr th:only-of-type {\n",
       "        vertical-align: middle;\n",
       "    }\n",
       "\n",
       "    .dataframe tbody tr th {\n",
       "        vertical-align: top;\n",
       "    }\n",
       "\n",
       "    .dataframe thead th {\n",
       "        text-align: right;\n",
       "    }\n",
       "</style>\n",
       "<table border=\"1\" class=\"dataframe\">\n",
       "  <thead>\n",
       "    <tr style=\"text-align: right;\">\n",
       "      <th></th>\n",
       "      <th>ID</th>\n",
       "      <th>Frequency</th>\n",
       "      <th>Age</th>\n",
       "      <th>Sale</th>\n",
       "    </tr>\n",
       "    <tr>\n",
       "      <th>Month</th>\n",
       "      <th></th>\n",
       "      <th></th>\n",
       "      <th></th>\n",
       "      <th></th>\n",
       "    </tr>\n",
       "  </thead>\n",
       "  <tbody>\n",
       "    <tr>\n",
       "      <th>1</th>\n",
       "      <td>215.328125</td>\n",
       "      <td>1.125000</td>\n",
       "      <td>42.843750</td>\n",
       "      <td>11753.484375</td>\n",
       "    </tr>\n",
       "    <tr>\n",
       "      <th>2</th>\n",
       "      <td>228.850746</td>\n",
       "      <td>1.328358</td>\n",
       "      <td>41.537313</td>\n",
       "      <td>12144.835821</td>\n",
       "    </tr>\n",
       "    <tr>\n",
       "      <th>3</th>\n",
       "      <td>195.222222</td>\n",
       "      <td>1.708333</td>\n",
       "      <td>45.041667</td>\n",
       "      <td>12165.472222</td>\n",
       "    </tr>\n",
       "    <tr>\n",
       "      <th>4</th>\n",
       "      <td>223.763158</td>\n",
       "      <td>1.894737</td>\n",
       "      <td>46.631579</td>\n",
       "      <td>12356.828947</td>\n",
       "    </tr>\n",
       "    <tr>\n",
       "      <th>5</th>\n",
       "      <td>213.853333</td>\n",
       "      <td>2.426667</td>\n",
       "      <td>45.240000</td>\n",
       "      <td>10491.506667</td>\n",
       "    </tr>\n",
       "    <tr>\n",
       "      <th>6</th>\n",
       "      <td>229.808219</td>\n",
       "      <td>2.150685</td>\n",
       "      <td>45.123288</td>\n",
       "      <td>13064.082192</td>\n",
       "    </tr>\n",
       "    <tr>\n",
       "      <th>7</th>\n",
       "      <td>224.938462</td>\n",
       "      <td>3.184615</td>\n",
       "      <td>43.692308</td>\n",
       "      <td>11375.523077</td>\n",
       "    </tr>\n",
       "    <tr>\n",
       "      <th>8</th>\n",
       "      <td>215.473684</td>\n",
       "      <td>2.964912</td>\n",
       "      <td>43.157895</td>\n",
       "      <td>15846.684211</td>\n",
       "    </tr>\n",
       "    <tr>\n",
       "      <th>9</th>\n",
       "      <td>216.177419</td>\n",
       "      <td>3.032258</td>\n",
       "      <td>48.661290</td>\n",
       "      <td>11162.241935</td>\n",
       "    </tr>\n",
       "    <tr>\n",
       "      <th>10</th>\n",
       "      <td>225.576271</td>\n",
       "      <td>3.338983</td>\n",
       "      <td>44.728814</td>\n",
       "      <td>11322.220339</td>\n",
       "    </tr>\n",
       "    <tr>\n",
       "      <th>11</th>\n",
       "      <td>234.584906</td>\n",
       "      <td>3.849057</td>\n",
       "      <td>46.622642</td>\n",
       "      <td>12362.301887</td>\n",
       "    </tr>\n",
       "    <tr>\n",
       "      <th>12</th>\n",
       "      <td>217.060000</td>\n",
       "      <td>3.520000</td>\n",
       "      <td>46.440000</td>\n",
       "      <td>11094.760000</td>\n",
       "    </tr>\n",
       "  </tbody>\n",
       "</table>\n",
       "</div>"
      ],
      "text/plain": [
       "               ID  Frequency        Age          Sale\n",
       "Month                                                \n",
       "1      215.328125   1.125000  42.843750  11753.484375\n",
       "2      228.850746   1.328358  41.537313  12144.835821\n",
       "3      195.222222   1.708333  45.041667  12165.472222\n",
       "4      223.763158   1.894737  46.631579  12356.828947\n",
       "5      213.853333   2.426667  45.240000  10491.506667\n",
       "6      229.808219   2.150685  45.123288  13064.082192\n",
       "7      224.938462   3.184615  43.692308  11375.523077\n",
       "8      215.473684   2.964912  43.157895  15846.684211\n",
       "9      216.177419   3.032258  48.661290  11162.241935\n",
       "10     225.576271   3.338983  44.728814  11322.220339\n",
       "11     234.584906   3.849057  46.622642  12362.301887\n",
       "12     217.060000   3.520000  46.440000  11094.760000"
      ]
     },
     "execution_count": 23,
     "metadata": {},
     "output_type": "execute_result"
    }
   ],
   "source": [
    "df.groupby('Month').mean()\n",
    "#月ごとにグループ分けし，平均(mean)をとる"
   ]
  },
  {
   "cell_type": "code",
   "execution_count": 24,
   "metadata": {},
   "outputs": [],
   "source": [
    "df_month_mean = df.groupby('Month').mean()\n",
    "##df_month_meanというデータフレームを作成し，代入する"
   ]
  },
  {
   "cell_type": "code",
   "execution_count": 25,
   "metadata": {},
   "outputs": [
    {
     "data": {
      "text/html": [
       "<div>\n",
       "<style scoped>\n",
       "    .dataframe tbody tr th:only-of-type {\n",
       "        vertical-align: middle;\n",
       "    }\n",
       "\n",
       "    .dataframe tbody tr th {\n",
       "        vertical-align: top;\n",
       "    }\n",
       "\n",
       "    .dataframe thead th {\n",
       "        text-align: right;\n",
       "    }\n",
       "</style>\n",
       "<table border=\"1\" class=\"dataframe\">\n",
       "  <thead>\n",
       "    <tr style=\"text-align: right;\">\n",
       "      <th></th>\n",
       "      <th>ID</th>\n",
       "      <th>Frequency</th>\n",
       "      <th>Age</th>\n",
       "      <th>Sale</th>\n",
       "    </tr>\n",
       "    <tr>\n",
       "      <th>Month</th>\n",
       "      <th></th>\n",
       "      <th></th>\n",
       "      <th></th>\n",
       "      <th></th>\n",
       "    </tr>\n",
       "  </thead>\n",
       "  <tbody>\n",
       "    <tr>\n",
       "      <th>1</th>\n",
       "      <td>215.328125</td>\n",
       "      <td>1.125000</td>\n",
       "      <td>42.843750</td>\n",
       "      <td>11753.484375</td>\n",
       "    </tr>\n",
       "    <tr>\n",
       "      <th>2</th>\n",
       "      <td>228.850746</td>\n",
       "      <td>1.328358</td>\n",
       "      <td>41.537313</td>\n",
       "      <td>12144.835821</td>\n",
       "    </tr>\n",
       "    <tr>\n",
       "      <th>3</th>\n",
       "      <td>195.222222</td>\n",
       "      <td>1.708333</td>\n",
       "      <td>45.041667</td>\n",
       "      <td>12165.472222</td>\n",
       "    </tr>\n",
       "    <tr>\n",
       "      <th>4</th>\n",
       "      <td>223.763158</td>\n",
       "      <td>1.894737</td>\n",
       "      <td>46.631579</td>\n",
       "      <td>12356.828947</td>\n",
       "    </tr>\n",
       "    <tr>\n",
       "      <th>5</th>\n",
       "      <td>213.853333</td>\n",
       "      <td>2.426667</td>\n",
       "      <td>45.240000</td>\n",
       "      <td>10491.506667</td>\n",
       "    </tr>\n",
       "    <tr>\n",
       "      <th>6</th>\n",
       "      <td>229.808219</td>\n",
       "      <td>2.150685</td>\n",
       "      <td>45.123288</td>\n",
       "      <td>13064.082192</td>\n",
       "    </tr>\n",
       "    <tr>\n",
       "      <th>7</th>\n",
       "      <td>224.938462</td>\n",
       "      <td>3.184615</td>\n",
       "      <td>43.692308</td>\n",
       "      <td>11375.523077</td>\n",
       "    </tr>\n",
       "    <tr>\n",
       "      <th>8</th>\n",
       "      <td>215.473684</td>\n",
       "      <td>2.964912</td>\n",
       "      <td>43.157895</td>\n",
       "      <td>15846.684211</td>\n",
       "    </tr>\n",
       "    <tr>\n",
       "      <th>9</th>\n",
       "      <td>216.177419</td>\n",
       "      <td>3.032258</td>\n",
       "      <td>48.661290</td>\n",
       "      <td>11162.241935</td>\n",
       "    </tr>\n",
       "    <tr>\n",
       "      <th>10</th>\n",
       "      <td>225.576271</td>\n",
       "      <td>3.338983</td>\n",
       "      <td>44.728814</td>\n",
       "      <td>11322.220339</td>\n",
       "    </tr>\n",
       "    <tr>\n",
       "      <th>11</th>\n",
       "      <td>234.584906</td>\n",
       "      <td>3.849057</td>\n",
       "      <td>46.622642</td>\n",
       "      <td>12362.301887</td>\n",
       "    </tr>\n",
       "    <tr>\n",
       "      <th>12</th>\n",
       "      <td>217.060000</td>\n",
       "      <td>3.520000</td>\n",
       "      <td>46.440000</td>\n",
       "      <td>11094.760000</td>\n",
       "    </tr>\n",
       "  </tbody>\n",
       "</table>\n",
       "</div>"
      ],
      "text/plain": [
       "               ID  Frequency        Age          Sale\n",
       "Month                                                \n",
       "1      215.328125   1.125000  42.843750  11753.484375\n",
       "2      228.850746   1.328358  41.537313  12144.835821\n",
       "3      195.222222   1.708333  45.041667  12165.472222\n",
       "4      223.763158   1.894737  46.631579  12356.828947\n",
       "5      213.853333   2.426667  45.240000  10491.506667\n",
       "6      229.808219   2.150685  45.123288  13064.082192\n",
       "7      224.938462   3.184615  43.692308  11375.523077\n",
       "8      215.473684   2.964912  43.157895  15846.684211\n",
       "9      216.177419   3.032258  48.661290  11162.241935\n",
       "10     225.576271   3.338983  44.728814  11322.220339\n",
       "11     234.584906   3.849057  46.622642  12362.301887\n",
       "12     217.060000   3.520000  46.440000  11094.760000"
      ]
     },
     "execution_count": 25,
     "metadata": {},
     "output_type": "execute_result"
    }
   ],
   "source": [
    "df_month_mean\n",
    "#データ確認"
   ]
  },
  {
   "cell_type": "markdown",
   "metadata": {},
   "source": [
    "### 【Try!】集計が終わったので，先ほどの月ごとの合計売上の可視化を参考に月ごとの平均客単価の推移を可視化してみよう！"
   ]
  },
  {
   "cell_type": "code",
   "execution_count": null,
   "metadata": {},
   "outputs": [],
   "source": []
  },
  {
   "cell_type": "code",
   "execution_count": 26,
   "metadata": {},
   "outputs": [
    {
     "data": {
      "text/plain": [
       "\"\\n▼POINT①▼\\n\\n▷dataframeの扱い方\\n\\ndfに対して\\ndf.index : dfのインデックスを取得\\ndf.values : dfの値を取得\\ndf.['X'] : dfのX列の要素を取得\\ndf.X : dfのX列の要素を取得\\n\\n▼POINT②▼\\n\\n▷matplotlibの基本的な使い方\\n\\nplt.plot(xの値, yの値, label='ラベル名', color='線の色')\\nplt.title('タイトル名')\\nplt.xlabel('xラベル名')\\nplt.ylabel('yラベル名')\\nplt.legend(loc='ラベルの位置')\\n\""
      ]
     },
     "execution_count": 26,
     "metadata": {},
     "output_type": "execute_result"
    }
   ],
   "source": [
    "'''\n",
    "▼POINT①▼\n",
    "\n",
    "▷dataframeの扱い方\n",
    "\n",
    "dfに対して\n",
    "df.index : dfのインデックスを取得\n",
    "df.values : dfの値を取得\n",
    "df.['X'] : dfのX列の要素を取得\n",
    "df.X : dfのX列の要素を取得\n",
    "\n",
    "▼POINT②▼\n",
    "\n",
    "▷matplotlibの基本的な使い方\n",
    "\n",
    "plt.plot(xの値, yの値, label='ラベル名', color='線の色')\n",
    "plt.title('タイトル名')\n",
    "plt.xlabel('xラベル名')\n",
    "plt.ylabel('yラベル名')\n",
    "plt.legend(loc='ラベルの位置')\n",
    "'''"
   ]
  },
  {
   "cell_type": "code",
   "execution_count": 27,
   "metadata": {},
   "outputs": [
    {
     "data": {
      "text/plain": [
       "Int64Index([1, 2, 3, 4, 5, 6, 7, 8, 9, 10, 11, 12], dtype='int64', name='Month')"
      ]
     },
     "execution_count": 27,
     "metadata": {},
     "output_type": "execute_result"
    }
   ],
   "source": [
    "df_month_mean.index"
   ]
  },
  {
   "cell_type": "code",
   "execution_count": 28,
   "metadata": {},
   "outputs": [
    {
     "data": {
      "text/plain": [
       "Month\n",
       "1     11753.484375\n",
       "2     12144.835821\n",
       "3     12165.472222\n",
       "4     12356.828947\n",
       "5     10491.506667\n",
       "6     13064.082192\n",
       "7     11375.523077\n",
       "8     15846.684211\n",
       "9     11162.241935\n",
       "10    11322.220339\n",
       "11    12362.301887\n",
       "12    11094.760000\n",
       "Name: Sale, dtype: float64"
      ]
     },
     "execution_count": 28,
     "metadata": {},
     "output_type": "execute_result"
    }
   ],
   "source": [
    "df_month_mean['Sale']"
   ]
  },
  {
   "cell_type": "code",
   "execution_count": 29,
   "metadata": {},
   "outputs": [
    {
     "data": {
      "text/plain": [
       "(0, 17000)"
      ]
     },
     "execution_count": 29,
     "metadata": {},
     "output_type": "execute_result"
    },
    {
     "data": {
      "image/png": "[encoded data removed]",
      "text/plain": [
       "<Figure size 432x288 with 1 Axes>"
      ]
     },
     "metadata": {
      "needs_background": "light"
     },
     "output_type": "display_data"
    }
   ],
   "source": [
    "plt.plot(df_month_mean.index, df_month_mean['Sale'])\n",
    "plt.title('Average cost per customer trend')\n",
    "plt.xlabel('Month')\n",
    "plt.ylabel('Average cost per customer')\n",
    "plt.ylim(0, 17000)"
   ]
  },
  {
   "cell_type": "markdown",
   "metadata": {},
   "source": [
    "### 8月に急激に伸びている。それ以外の時期では、12000円付近になっている。　→　平均客単価は大きく変化していない"
   ]
  },
  {
   "cell_type": "markdown",
   "metadata": {},
   "source": [
    "## 2.3 客数＝購買回数はどうだろうか？"
   ]
  },
  {
   "cell_type": "markdown",
   "metadata": {},
   "source": [
    "### 【Try!】平均客単価と同じ流れで客数の変化を可視化してみよう！！\n",
    "### 【Hint】購買回数→グループの行の数，個数のカウント：count()という関数を使用"
   ]
  },
  {
   "cell_type": "code",
   "execution_count": null,
   "metadata": {},
   "outputs": [],
   "source": []
  },
  {
   "cell_type": "markdown",
   "metadata": {},
   "source": [
    "### 月ごとの行の数をカウントして集計"
   ]
  },
  {
   "cell_type": "code",
   "execution_count": 30,
   "metadata": {
    "scrolled": false
   },
   "outputs": [
    {
     "data": {
      "text/html": [
       "<div>\n",
       "<style scoped>\n",
       "    .dataframe tbody tr th:only-of-type {\n",
       "        vertical-align: middle;\n",
       "    }\n",
       "\n",
       "    .dataframe tbody tr th {\n",
       "        vertical-align: top;\n",
       "    }\n",
       "\n",
       "    .dataframe thead th {\n",
       "        text-align: right;\n",
       "    }\n",
       "</style>\n",
       "<table border=\"1\" class=\"dataframe\">\n",
       "  <thead>\n",
       "    <tr style=\"text-align: right;\">\n",
       "      <th></th>\n",
       "      <th>Date</th>\n",
       "      <th>ID</th>\n",
       "      <th>Frequency</th>\n",
       "      <th>Age</th>\n",
       "      <th>Sex</th>\n",
       "      <th>Sale</th>\n",
       "      <th>Prefecture</th>\n",
       "      <th>Area</th>\n",
       "      <th>Category</th>\n",
       "      <th>Month</th>\n",
       "    </tr>\n",
       "  </thead>\n",
       "  <tbody>\n",
       "    <tr>\n",
       "      <th>0</th>\n",
       "      <td>2018-09-23</td>\n",
       "      <td>1</td>\n",
       "      <td>1</td>\n",
       "      <td>65</td>\n",
       "      <td>Male</td>\n",
       "      <td>28649</td>\n",
       "      <td>Chiba</td>\n",
       "      <td>Kanto</td>\n",
       "      <td>Furniture</td>\n",
       "      <td>9</td>\n",
       "    </tr>\n",
       "    <tr>\n",
       "      <th>1</th>\n",
       "      <td>2018-01-08</td>\n",
       "      <td>2</td>\n",
       "      <td>1</td>\n",
       "      <td>45</td>\n",
       "      <td>Male</td>\n",
       "      <td>11466</td>\n",
       "      <td>Wakayama</td>\n",
       "      <td>Kansai</td>\n",
       "      <td>Commodity</td>\n",
       "      <td>1</td>\n",
       "    </tr>\n",
       "    <tr>\n",
       "      <th>2</th>\n",
       "      <td>2018-02-08</td>\n",
       "      <td>2</td>\n",
       "      <td>2</td>\n",
       "      <td>45</td>\n",
       "      <td>Male</td>\n",
       "      <td>10428</td>\n",
       "      <td>Hyogo</td>\n",
       "      <td>Kansai</td>\n",
       "      <td>Commodity</td>\n",
       "      <td>2</td>\n",
       "    </tr>\n",
       "    <tr>\n",
       "      <th>3</th>\n",
       "      <td>2018-03-07</td>\n",
       "      <td>2</td>\n",
       "      <td>3</td>\n",
       "      <td>45</td>\n",
       "      <td>Male</td>\n",
       "      <td>9510</td>\n",
       "      <td>Saitama</td>\n",
       "      <td>Kanto</td>\n",
       "      <td>Commodity</td>\n",
       "      <td>3</td>\n",
       "    </tr>\n",
       "    <tr>\n",
       "      <th>4</th>\n",
       "      <td>2018-03-10</td>\n",
       "      <td>2</td>\n",
       "      <td>4</td>\n",
       "      <td>45</td>\n",
       "      <td>Male</td>\n",
       "      <td>2706</td>\n",
       "      <td>Osaka</td>\n",
       "      <td>Kansai</td>\n",
       "      <td>Office Supplies</td>\n",
       "      <td>3</td>\n",
       "    </tr>\n",
       "  </tbody>\n",
       "</table>\n",
       "</div>"
      ],
      "text/plain": [
       "        Date  ID  Frequency  Age   Sex   Sale Prefecture    Area  \\\n",
       "0 2018-09-23   1          1   65  Male  28649      Chiba   Kanto   \n",
       "1 2018-01-08   2          1   45  Male  11466   Wakayama  Kansai   \n",
       "2 2018-02-08   2          2   45  Male  10428      Hyogo  Kansai   \n",
       "3 2018-03-07   2          3   45  Male   9510    Saitama   Kanto   \n",
       "4 2018-03-10   2          4   45  Male   2706      Osaka  Kansai   \n",
       "\n",
       "          Category  Month  \n",
       "0        Furniture      9  \n",
       "1        Commodity      1  \n",
       "2        Commodity      2  \n",
       "3        Commodity      3  \n",
       "4  Office Supplies      3  "
      ]
     },
     "execution_count": 30,
     "metadata": {},
     "output_type": "execute_result"
    }
   ],
   "source": [
    "df.head()\n",
    "#データ確認"
   ]
  },
  {
   "cell_type": "code",
   "execution_count": 31,
   "metadata": {},
   "outputs": [
    {
     "data": {
      "text/html": [
       "<div>\n",
       "<style scoped>\n",
       "    .dataframe tbody tr th:only-of-type {\n",
       "        vertical-align: middle;\n",
       "    }\n",
       "\n",
       "    .dataframe tbody tr th {\n",
       "        vertical-align: top;\n",
       "    }\n",
       "\n",
       "    .dataframe thead th {\n",
       "        text-align: right;\n",
       "    }\n",
       "</style>\n",
       "<table border=\"1\" class=\"dataframe\">\n",
       "  <thead>\n",
       "    <tr style=\"text-align: right;\">\n",
       "      <th></th>\n",
       "      <th>Date</th>\n",
       "      <th>ID</th>\n",
       "      <th>Frequency</th>\n",
       "      <th>Age</th>\n",
       "      <th>Sex</th>\n",
       "      <th>Sale</th>\n",
       "      <th>Prefecture</th>\n",
       "      <th>Area</th>\n",
       "      <th>Category</th>\n",
       "    </tr>\n",
       "    <tr>\n",
       "      <th>Month</th>\n",
       "      <th></th>\n",
       "      <th></th>\n",
       "      <th></th>\n",
       "      <th></th>\n",
       "      <th></th>\n",
       "      <th></th>\n",
       "      <th></th>\n",
       "      <th></th>\n",
       "      <th></th>\n",
       "    </tr>\n",
       "  </thead>\n",
       "  <tbody>\n",
       "    <tr>\n",
       "      <th>1</th>\n",
       "      <td>64</td>\n",
       "      <td>64</td>\n",
       "      <td>64</td>\n",
       "      <td>64</td>\n",
       "      <td>64</td>\n",
       "      <td>64</td>\n",
       "      <td>64</td>\n",
       "      <td>64</td>\n",
       "      <td>64</td>\n",
       "    </tr>\n",
       "    <tr>\n",
       "      <th>2</th>\n",
       "      <td>67</td>\n",
       "      <td>67</td>\n",
       "      <td>67</td>\n",
       "      <td>67</td>\n",
       "      <td>67</td>\n",
       "      <td>67</td>\n",
       "      <td>67</td>\n",
       "      <td>67</td>\n",
       "      <td>67</td>\n",
       "    </tr>\n",
       "    <tr>\n",
       "      <th>3</th>\n",
       "      <td>72</td>\n",
       "      <td>72</td>\n",
       "      <td>72</td>\n",
       "      <td>72</td>\n",
       "      <td>72</td>\n",
       "      <td>72</td>\n",
       "      <td>72</td>\n",
       "      <td>72</td>\n",
       "      <td>72</td>\n",
       "    </tr>\n",
       "    <tr>\n",
       "      <th>4</th>\n",
       "      <td>76</td>\n",
       "      <td>76</td>\n",
       "      <td>76</td>\n",
       "      <td>76</td>\n",
       "      <td>76</td>\n",
       "      <td>76</td>\n",
       "      <td>76</td>\n",
       "      <td>76</td>\n",
       "      <td>76</td>\n",
       "    </tr>\n",
       "    <tr>\n",
       "      <th>5</th>\n",
       "      <td>75</td>\n",
       "      <td>75</td>\n",
       "      <td>75</td>\n",
       "      <td>75</td>\n",
       "      <td>75</td>\n",
       "      <td>75</td>\n",
       "      <td>75</td>\n",
       "      <td>75</td>\n",
       "      <td>75</td>\n",
       "    </tr>\n",
       "    <tr>\n",
       "      <th>6</th>\n",
       "      <td>73</td>\n",
       "      <td>73</td>\n",
       "      <td>73</td>\n",
       "      <td>73</td>\n",
       "      <td>73</td>\n",
       "      <td>73</td>\n",
       "      <td>73</td>\n",
       "      <td>73</td>\n",
       "      <td>73</td>\n",
       "    </tr>\n",
       "    <tr>\n",
       "      <th>7</th>\n",
       "      <td>65</td>\n",
       "      <td>65</td>\n",
       "      <td>65</td>\n",
       "      <td>65</td>\n",
       "      <td>65</td>\n",
       "      <td>65</td>\n",
       "      <td>65</td>\n",
       "      <td>65</td>\n",
       "      <td>65</td>\n",
       "    </tr>\n",
       "    <tr>\n",
       "      <th>8</th>\n",
       "      <td>57</td>\n",
       "      <td>57</td>\n",
       "      <td>57</td>\n",
       "      <td>57</td>\n",
       "      <td>57</td>\n",
       "      <td>57</td>\n",
       "      <td>57</td>\n",
       "      <td>57</td>\n",
       "      <td>57</td>\n",
       "    </tr>\n",
       "    <tr>\n",
       "      <th>9</th>\n",
       "      <td>62</td>\n",
       "      <td>62</td>\n",
       "      <td>62</td>\n",
       "      <td>62</td>\n",
       "      <td>62</td>\n",
       "      <td>62</td>\n",
       "      <td>62</td>\n",
       "      <td>62</td>\n",
       "      <td>62</td>\n",
       "    </tr>\n",
       "    <tr>\n",
       "      <th>10</th>\n",
       "      <td>59</td>\n",
       "      <td>59</td>\n",
       "      <td>59</td>\n",
       "      <td>59</td>\n",
       "      <td>59</td>\n",
       "      <td>59</td>\n",
       "      <td>59</td>\n",
       "      <td>59</td>\n",
       "      <td>59</td>\n",
       "    </tr>\n",
       "    <tr>\n",
       "      <th>11</th>\n",
       "      <td>53</td>\n",
       "      <td>53</td>\n",
       "      <td>53</td>\n",
       "      <td>53</td>\n",
       "      <td>53</td>\n",
       "      <td>53</td>\n",
       "      <td>53</td>\n",
       "      <td>53</td>\n",
       "      <td>53</td>\n",
       "    </tr>\n",
       "    <tr>\n",
       "      <th>12</th>\n",
       "      <td>50</td>\n",
       "      <td>50</td>\n",
       "      <td>50</td>\n",
       "      <td>50</td>\n",
       "      <td>50</td>\n",
       "      <td>50</td>\n",
       "      <td>50</td>\n",
       "      <td>50</td>\n",
       "      <td>50</td>\n",
       "    </tr>\n",
       "  </tbody>\n",
       "</table>\n",
       "</div>"
      ],
      "text/plain": [
       "       Date  ID  Frequency  Age  Sex  Sale  Prefecture  Area  Category\n",
       "Month                                                                 \n",
       "1        64  64         64   64   64    64          64    64        64\n",
       "2        67  67         67   67   67    67          67    67        67\n",
       "3        72  72         72   72   72    72          72    72        72\n",
       "4        76  76         76   76   76    76          76    76        76\n",
       "5        75  75         75   75   75    75          75    75        75\n",
       "6        73  73         73   73   73    73          73    73        73\n",
       "7        65  65         65   65   65    65          65    65        65\n",
       "8        57  57         57   57   57    57          57    57        57\n",
       "9        62  62         62   62   62    62          62    62        62\n",
       "10       59  59         59   59   59    59          59    59        59\n",
       "11       53  53         53   53   53    53          53    53        53\n",
       "12       50  50         50   50   50    50          50    50        50"
      ]
     },
     "execution_count": 31,
     "metadata": {},
     "output_type": "execute_result"
    }
   ],
   "source": [
    "df.groupby('Month').count()\n",
    "#月ごとにグループ分けし，各月の購買回数を数える（count）"
   ]
  },
  {
   "cell_type": "code",
   "execution_count": 32,
   "metadata": {},
   "outputs": [
    {
     "data": {
      "text/plain": [
       "Month\n",
       "1     64\n",
       "2     67\n",
       "3     72\n",
       "4     76\n",
       "5     75\n",
       "6     73\n",
       "7     65\n",
       "8     57\n",
       "9     62\n",
       "10    59\n",
       "11    53\n",
       "12    50\n",
       "Name: ID, dtype: int64"
      ]
     },
     "execution_count": 32,
     "metadata": {},
     "output_type": "execute_result"
    }
   ],
   "source": [
    "df_month_trans = df.groupby('Month').count()\n",
    "#月ごとにグループ分けし，各月の購買回数を数える（count）\n",
    "\n",
    "#df_transというデータフレームを作成し，代入する\n",
    "\n",
    "df_month_trans['ID']\n",
    "#列'ID'を取得"
   ]
  },
  {
   "cell_type": "code",
   "execution_count": 33,
   "metadata": {},
   "outputs": [
    {
     "data": {
      "text/plain": [
       "\"\\n▼POINT①▼\\n\\n▷dataframeの扱い方\\n\\ndfに対して\\ndf.index : dfのインデックスを取得\\ndf.values : dfの値を取得\\ndf.['X'] : dfのX列の要素を取得\\ndf.X : dfのX列の要素を取得\\n\\n▼POINT②▼\\n\\n▷matplotlibの基本的な使い方\\n\\nplt.plot(xの値, yの値, label='ラベル名', color='線の色')\\nplt.title('タイトル名')\\nplt.xlabel('xラベル名')\\nplt.ylabel('yラベル名')\\nplt.legend(loc='ラベルの位置')\\n\""
      ]
     },
     "execution_count": 33,
     "metadata": {},
     "output_type": "execute_result"
    }
   ],
   "source": [
    "'''\n",
    "▼POINT①▼\n",
    "\n",
    "▷dataframeの扱い方\n",
    "\n",
    "dfに対して\n",
    "df.index : dfのインデックスを取得\n",
    "df.values : dfの値を取得\n",
    "df.['X'] : dfのX列の要素を取得\n",
    "df.X : dfのX列の要素を取得\n",
    "\n",
    "▼POINT②▼\n",
    "\n",
    "▷matplotlibの基本的な使い方\n",
    "\n",
    "plt.plot(xの値, yの値, label='ラベル名', color='線の色')\n",
    "plt.title('タイトル名')\n",
    "plt.xlabel('xラベル名')\n",
    "plt.ylabel('yラベル名')\n",
    "plt.legend(loc='ラベルの位置')\n",
    "'''"
   ]
  },
  {
   "cell_type": "markdown",
   "metadata": {},
   "source": [
    "### 実際に可視化する"
   ]
  },
  {
   "cell_type": "code",
   "execution_count": 34,
   "metadata": {},
   "outputs": [
    {
     "data": {
      "text/plain": [
       "(0, 80)"
      ]
     },
     "execution_count": 34,
     "metadata": {},
     "output_type": "execute_result"
    },
    {
     "data": {
      "image/png": "[encoded data removed]",
      "text/plain": [
       "<Figure size 432x288 with 1 Axes>"
      ]
     },
     "metadata": {
      "needs_background": "light"
     },
     "output_type": "display_data"
    }
   ],
   "source": [
    "plt.plot(df_month_trans.index, df_month_trans['ID'])\n",
    "plt.title('Number of customers trend')\n",
    "plt.xlabel('Month')\n",
    "plt.ylabel('Number of customers')\n",
    "plt.ylim(0, 80)"
   ]
  },
  {
   "cell_type": "markdown",
   "metadata": {},
   "source": [
    "### 売上の減少と購入者の減少の様子が似ている\n",
    "### 【仮説】客単価よりも、客数の減少が売上減少の原因として大きいのではないか？（方向性を立てる。）＊"
   ]
  },
  {
   "cell_type": "markdown",
   "metadata": {},
   "source": [
    "## 3 ボトルネック特定"
   ]
  },
  {
   "cell_type": "markdown",
   "metadata": {},
   "source": [
    "### 購入者減少の要因を掴みたい。\n",
    "### 仮説を立てるために、購入者はどんな人なのか？どういう属性がいるのか？"
   ]
  },
  {
   "cell_type": "markdown",
   "metadata": {},
   "source": [
    "## 3.1 デモグラフィック(性別や年代)な観点から考える！＊"
   ]
  },
  {
   "cell_type": "markdown",
   "metadata": {},
   "source": [
    "## 3.1.1 年齢構成を見てみる。"
   ]
  },
  {
   "cell_type": "code",
   "execution_count": 35,
   "metadata": {},
   "outputs": [
    {
     "data": {
      "text/html": [
       "<div>\n",
       "<style scoped>\n",
       "    .dataframe tbody tr th:only-of-type {\n",
       "        vertical-align: middle;\n",
       "    }\n",
       "\n",
       "    .dataframe tbody tr th {\n",
       "        vertical-align: top;\n",
       "    }\n",
       "\n",
       "    .dataframe thead th {\n",
       "        text-align: right;\n",
       "    }\n",
       "</style>\n",
       "<table border=\"1\" class=\"dataframe\">\n",
       "  <thead>\n",
       "    <tr style=\"text-align: right;\">\n",
       "      <th></th>\n",
       "      <th>Date</th>\n",
       "      <th>ID</th>\n",
       "      <th>Frequency</th>\n",
       "      <th>Age</th>\n",
       "      <th>Sex</th>\n",
       "      <th>Sale</th>\n",
       "      <th>Prefecture</th>\n",
       "      <th>Area</th>\n",
       "      <th>Category</th>\n",
       "      <th>Month</th>\n",
       "    </tr>\n",
       "  </thead>\n",
       "  <tbody>\n",
       "    <tr>\n",
       "      <th>0</th>\n",
       "      <td>2018-09-23</td>\n",
       "      <td>1</td>\n",
       "      <td>1</td>\n",
       "      <td>65</td>\n",
       "      <td>Male</td>\n",
       "      <td>28649</td>\n",
       "      <td>Chiba</td>\n",
       "      <td>Kanto</td>\n",
       "      <td>Furniture</td>\n",
       "      <td>9</td>\n",
       "    </tr>\n",
       "    <tr>\n",
       "      <th>1</th>\n",
       "      <td>2018-01-08</td>\n",
       "      <td>2</td>\n",
       "      <td>1</td>\n",
       "      <td>45</td>\n",
       "      <td>Male</td>\n",
       "      <td>11466</td>\n",
       "      <td>Wakayama</td>\n",
       "      <td>Kansai</td>\n",
       "      <td>Commodity</td>\n",
       "      <td>1</td>\n",
       "    </tr>\n",
       "    <tr>\n",
       "      <th>2</th>\n",
       "      <td>2018-02-08</td>\n",
       "      <td>2</td>\n",
       "      <td>2</td>\n",
       "      <td>45</td>\n",
       "      <td>Male</td>\n",
       "      <td>10428</td>\n",
       "      <td>Hyogo</td>\n",
       "      <td>Kansai</td>\n",
       "      <td>Commodity</td>\n",
       "      <td>2</td>\n",
       "    </tr>\n",
       "    <tr>\n",
       "      <th>3</th>\n",
       "      <td>2018-03-07</td>\n",
       "      <td>2</td>\n",
       "      <td>3</td>\n",
       "      <td>45</td>\n",
       "      <td>Male</td>\n",
       "      <td>9510</td>\n",
       "      <td>Saitama</td>\n",
       "      <td>Kanto</td>\n",
       "      <td>Commodity</td>\n",
       "      <td>3</td>\n",
       "    </tr>\n",
       "    <tr>\n",
       "      <th>4</th>\n",
       "      <td>2018-03-10</td>\n",
       "      <td>2</td>\n",
       "      <td>4</td>\n",
       "      <td>45</td>\n",
       "      <td>Male</td>\n",
       "      <td>2706</td>\n",
       "      <td>Osaka</td>\n",
       "      <td>Kansai</td>\n",
       "      <td>Office Supplies</td>\n",
       "      <td>3</td>\n",
       "    </tr>\n",
       "  </tbody>\n",
       "</table>\n",
       "</div>"
      ],
      "text/plain": [
       "        Date  ID  Frequency  Age   Sex   Sale Prefecture    Area  \\\n",
       "0 2018-09-23   1          1   65  Male  28649      Chiba   Kanto   \n",
       "1 2018-01-08   2          1   45  Male  11466   Wakayama  Kansai   \n",
       "2 2018-02-08   2          2   45  Male  10428      Hyogo  Kansai   \n",
       "3 2018-03-07   2          3   45  Male   9510    Saitama   Kanto   \n",
       "4 2018-03-10   2          4   45  Male   2706      Osaka  Kansai   \n",
       "\n",
       "          Category  Month  \n",
       "0        Furniture      9  \n",
       "1        Commodity      1  \n",
       "2        Commodity      2  \n",
       "3        Commodity      3  \n",
       "4  Office Supplies      3  "
      ]
     },
     "execution_count": 35,
     "metadata": {},
     "output_type": "execute_result"
    }
   ],
   "source": [
    "df.head()"
   ]
  },
  {
   "cell_type": "code",
   "execution_count": 36,
   "metadata": {
    "scrolled": true
   },
   "outputs": [
    {
     "data": {
      "text/plain": [
       "0      65\n",
       "1      45\n",
       "2      45\n",
       "3      45\n",
       "4      45\n",
       "5      45\n",
       "6      45\n",
       "7      45\n",
       "8      45\n",
       "9      49\n",
       "10     49\n",
       "11     69\n",
       "12     69\n",
       "13     69\n",
       "14     69\n",
       "15     69\n",
       "16     69\n",
       "17     69\n",
       "18     40\n",
       "19     40\n",
       "20     40\n",
       "21     40\n",
       "22     51\n",
       "23     61\n",
       "24     41\n",
       "25     66\n",
       "26     43\n",
       "27     58\n",
       "28     62\n",
       "29     22\n",
       "       ..\n",
       "743    54\n",
       "744    25\n",
       "745    48\n",
       "746    48\n",
       "747    25\n",
       "748    25\n",
       "749    25\n",
       "750    25\n",
       "751    25\n",
       "752    25\n",
       "753    25\n",
       "754    31\n",
       "755    31\n",
       "756    31\n",
       "757    33\n",
       "758    33\n",
       "759    33\n",
       "760    33\n",
       "761    31\n",
       "762    31\n",
       "763    31\n",
       "764    31\n",
       "765    31\n",
       "766    25\n",
       "767    52\n",
       "768    52\n",
       "769    52\n",
       "770    52\n",
       "771    48\n",
       "772    40\n",
       "Name: Age, Length: 773, dtype: int64"
      ]
     },
     "execution_count": 36,
     "metadata": {},
     "output_type": "execute_result"
    }
   ],
   "source": [
    "df['Age']"
   ]
  },
  {
   "cell_type": "markdown",
   "metadata": {},
   "source": [
    "### 年齢だと細かすぎるので，年代ごとのグループが欲しい。\n",
    "### 年齢を年代に直す作業を行う。ex. 45→40"
   ]
  },
  {
   "cell_type": "code",
   "execution_count": 37,
   "metadata": {},
   "outputs": [],
   "source": [
    "df['Ages'] = (df['Age']//10)*10\n",
    "#a//b : aをbで割った時の商をとってくる\n",
    "#ex) 15//6 == 2    15 ÷ 6 = 2 ・・・ 3\n",
    "\n",
    "\n",
    "#10倍して，新しく'Ages'という列を作りデータフレームに代入する"
   ]
  },
  {
   "cell_type": "markdown",
   "metadata": {},
   "source": [
    "### 年代ごとの顧客数を数える"
   ]
  },
  {
   "cell_type": "code",
   "execution_count": 38,
   "metadata": {},
   "outputs": [
    {
     "data": {
      "text/plain": [
       "Ages\n",
       "20    119\n",
       "30    173\n",
       "40    167\n",
       "50    180\n",
       "60    134\n",
       "Name: ID, dtype: int64"
      ]
     },
     "execution_count": 38,
     "metadata": {},
     "output_type": "execute_result"
    }
   ],
   "source": [
    "df.groupby('Ages').ID.count()\n",
    "# これはユニークではない　→　同じ顧客が含まれている"
   ]
  },
  {
   "cell_type": "markdown",
   "metadata": {},
   "source": [
    "### 客数を数えるときにユニークな顧客数を考えることに注意！"
   ]
  },
  {
   "cell_type": "markdown",
   "metadata": {},
   "source": [
    "### ユニークな数とは，ダブり，かぶりがないこと\n",
    "### 複数購入者を1人の購入者とカウントすること"
   ]
  },
  {
   "cell_type": "markdown",
   "metadata": {},
   "source": [
    "### つまり、ユニークなID数をカウントすればよい！"
   ]
  },
  {
   "cell_type": "code",
   "execution_count": 39,
   "metadata": {
    "scrolled": true
   },
   "outputs": [
    {
     "data": {
      "text/plain": [
       "Ages\n",
       "20    72\n",
       "30    79\n",
       "40    91\n",
       "50    85\n",
       "60    62\n",
       "Name: ID, dtype: int64"
      ]
     },
     "execution_count": 39,
     "metadata": {},
     "output_type": "execute_result"
    }
   ],
   "source": [
    "#df.groupby('Ages').ID.nunique()としたいが，，，azure notebookではエラーが出る。\n",
    "\n",
    "df.groupby('Ages').ID.apply(lambda x: x.nunique())\n",
    "#df.groupby('Ages').ID.nunique()と一緒。\n",
    "#年代ごとにグループ分けし，ユニークな要素の数を数える（nunique）"
   ]
  },
  {
   "cell_type": "markdown",
   "metadata": {},
   "source": [
    "### 客数が減っているのがわかる。→同じ人が複数回購入している"
   ]
  },
  {
   "cell_type": "code",
   "execution_count": 40,
   "metadata": {},
   "outputs": [],
   "source": [
    "uniqueID_age = df.groupby('Ages').ID.apply(lambda x: x.nunique())\n",
    "#変数に代入する"
   ]
  },
  {
   "cell_type": "code",
   "execution_count": 41,
   "metadata": {},
   "outputs": [
    {
     "data": {
      "text/plain": [
       "Ages\n",
       "20    72\n",
       "30    79\n",
       "40    91\n",
       "50    85\n",
       "60    62\n",
       "Name: ID, dtype: int64"
      ]
     },
     "execution_count": 41,
     "metadata": {},
     "output_type": "execute_result"
    }
   ],
   "source": [
    "uniqueID_age"
   ]
  },
  {
   "cell_type": "markdown",
   "metadata": {},
   "source": [
    "### 横軸が年代，縦軸がユニーク顧客数として棒グラフを作成する"
   ]
  },
  {
   "cell_type": "code",
   "execution_count": 42,
   "metadata": {},
   "outputs": [
    {
     "data": {
      "text/plain": [
       "Int64Index([20, 30, 40, 50, 60], dtype='int64', name='Ages')"
      ]
     },
     "execution_count": 42,
     "metadata": {},
     "output_type": "execute_result"
    }
   ],
   "source": [
    "uniqueID_age.index"
   ]
  },
  {
   "cell_type": "code",
   "execution_count": 43,
   "metadata": {},
   "outputs": [
    {
     "data": {
      "text/plain": [
       "Ages\n",
       "20    72\n",
       "30    79\n",
       "40    91\n",
       "50    85\n",
       "60    62\n",
       "Name: ID, dtype: int64"
      ]
     },
     "execution_count": 43,
     "metadata": {},
     "output_type": "execute_result"
    }
   ],
   "source": [
    "uniqueID_age"
   ]
  },
  {
   "cell_type": "code",
   "execution_count": 45,
   "metadata": {},
   "outputs": [
    {
     "data": {
      "text/plain": [
       "Text(0, 0.5, 'Number')"
      ]
     },
     "execution_count": 45,
     "metadata": {},
     "output_type": "execute_result"
    },
    {
     "data": {
      "image/png": "[encoded data removed]",
      "text/plain": [
       "<Figure size 432x288 with 1 Axes>"
      ]
     },
     "metadata": {
      "needs_background": "light"
     },
     "output_type": "display_data"
    }
   ],
   "source": [
    "plt.bar(uniqueID_age.index, uniqueID_age, width = 5)\n",
    "#plt.barは棒グラフを作成する関数でplotと使い方は似ている\n",
    "\n",
    "plt.title('Age structure')\n",
    "plt.xlabel('Ages')\n",
    "plt.ylabel('Number')"
   ]
  },
  {
   "cell_type": "markdown",
   "metadata": {},
   "source": [
    "### 構成を見る場合，円グラフの方がわかりやすい"
   ]
  },
  {
   "cell_type": "code",
   "execution_count": 48,
   "metadata": {},
   "outputs": [
    {
     "data": {
      "text/plain": [
       "Text(0.5, 1.0, 'Age structure')"
      ]
     },
     "execution_count": 48,
     "metadata": {},
     "output_type": "execute_result"
    },
    {
     "data": {
      "image/png": "[encoded data removed]",
      "text/plain": [
       "<Figure size 432x288 with 1 Axes>"
      ]
     },
     "metadata": {},
     "output_type": "display_data"
    }
   ],
   "source": [
    "label = uniqueID_age.index\n",
    "# label : 属性，セグメント\n",
    "value = uniqueID_age\n",
    "# value : 値\n",
    "\n",
    "plt.pie(value, labels=label, startangle=90, autopct=\"%.1f%%\", pctdistance=0.7)\n",
    "# startangle = 90 : 90度のところから円グラフ開始\n",
    "# pctdistance=0.7 : 中心から円周の間の 70% の位置に出力\n",
    "\n",
    "plt.axis('equal')\n",
    "# 綺麗な円にするため\n",
    "\n",
    "plt.title('Age structure')"
   ]
  },
  {
   "cell_type": "markdown",
   "metadata": {},
   "source": [
    "## 3.1.2 性別を見てみる!"
   ]
  },
  {
   "cell_type": "markdown",
   "metadata": {},
   "source": [
    "### 【Try!】年代構成と同じ流れで性別の構成を可視化してみよう！！"
   ]
  },
  {
   "cell_type": "code",
   "execution_count": null,
   "metadata": {},
   "outputs": [],
   "source": []
  },
  {
   "cell_type": "code",
   "execution_count": 49,
   "metadata": {},
   "outputs": [],
   "source": [
    "uniqueID_sex = df.groupby('Sex').ID.apply(lambda x: x.nunique())\n",
    "#Sexという特徴量に対して，性別ごとにグループ分けし，グループごとの全ての特徴量に対してユニークな要素の数を数える（nunique）"
   ]
  },
  {
   "cell_type": "code",
   "execution_count": 50,
   "metadata": {},
   "outputs": [
    {
     "data": {
      "text/plain": [
       "Sex\n",
       "Female    113\n",
       "Male      275\n",
       "Name: ID, dtype: int64"
      ]
     },
     "execution_count": 50,
     "metadata": {},
     "output_type": "execute_result"
    }
   ],
   "source": [
    "uniqueID_sex\n",
    "#データ確認"
   ]
  },
  {
   "cell_type": "code",
   "execution_count": 51,
   "metadata": {},
   "outputs": [
    {
     "data": {
      "text/plain": [
       "Text(0, 0.5, 'Number')"
      ]
     },
     "execution_count": 51,
     "metadata": {},
     "output_type": "execute_result"
    },
    {
     "data": {
      "image/png": "[encoded data removed]",
      "text/plain": [
       "<Figure size 432x288 with 1 Axes>"
      ]
     },
     "metadata": {
      "needs_background": "light"
     },
     "output_type": "display_data"
    }
   ],
   "source": [
    "plt.bar(uniqueID_sex.index, uniqueID_sex)\n",
    "#棒グラフ可視化\n",
    "\n",
    "plt.title('Sex structure')\n",
    "plt.xlabel('Sex')\n",
    "plt.ylabel('Number')"
   ]
  },
  {
   "cell_type": "code",
   "execution_count": 52,
   "metadata": {},
   "outputs": [
    {
     "data": {
      "text/plain": [
       "Text(0.5, 1.0, 'Sex Structure')"
      ]
     },
     "execution_count": 52,
     "metadata": {},
     "output_type": "execute_result"
    },
    {
     "data": {
      "image/png": "[encoded data removed]",
      "text/plain": [
       "<Figure size 432x288 with 1 Axes>"
      ]
     },
     "metadata": {},
     "output_type": "display_data"
    }
   ],
   "source": [
    "label = uniqueID_sex.index\n",
    "# label : 属性，セグメント\n",
    "value = uniqueID_sex\n",
    "# value : 値\n",
    "\n",
    "plt.pie(value, labels=label, startangle=90, autopct=\"%.1f%%\", pctdistance=0.7)\n",
    "# startangle = 90 : 90度のところから円グラフ開始\n",
    "# pctdistance=0.7 : 中心から円周の間の 70% の位置に出力\n",
    "\n",
    "plt.axis('equal')\n",
    "# 綺麗な円にするため\n",
    "\n",
    "plt.title('Sex Structure')"
   ]
  },
  {
   "cell_type": "markdown",
   "metadata": {},
   "source": [
    "### この段階では売上減少の直接的な原因がわからないため、時間という変数を追加してみる\n",
    "### 性別の偏りがあるみたい→性別を男女に分けて月ごとに分析する＊"
   ]
  },
  {
   "cell_type": "markdown",
   "metadata": {},
   "source": [
    "## 3.2 デモグラフィック変化"
   ]
  },
  {
   "cell_type": "markdown",
   "metadata": {},
   "source": [
    "## 3.2.1 月ごとの男女での客数の変化"
   ]
  },
  {
   "cell_type": "markdown",
   "metadata": {},
   "source": [
    "### 【Try!】これまで学習したことを意識して，月ごとの男女の客数の推移を可視化しましょう！"
   ]
  },
  {
   "cell_type": "code",
   "execution_count": null,
   "metadata": {},
   "outputs": [],
   "source": []
  },
  {
   "cell_type": "code",
   "execution_count": 53,
   "metadata": {},
   "outputs": [
    {
     "data": {
      "text/plain": [
       "Sex     Month\n",
       "Female  1        16\n",
       "        2        12\n",
       "        3        15\n",
       "        4        16\n",
       "        5        15\n",
       "        6        15\n",
       "        7        13\n",
       "        8        10\n",
       "        9        19\n",
       "        10       14\n",
       "        11       15\n",
       "        12       14\n",
       "Male    1        41\n",
       "        2        49\n",
       "        3        52\n",
       "        4        50\n",
       "        5        51\n",
       "        6        53\n",
       "        7        43\n",
       "        8        42\n",
       "        9        38\n",
       "        10       39\n",
       "        11       36\n",
       "        12       33\n",
       "Name: ID, dtype: int64"
      ]
     },
     "execution_count": 53,
     "metadata": {},
     "output_type": "execute_result"
    }
   ],
   "source": [
    "df.groupby(['Sex','Month']).ID.apply(lambda x: x.nunique())\n",
    "#性別と月ごとにグループ分けし，ユニークな要素の数を数える（nunique）"
   ]
  },
  {
   "cell_type": "code",
   "execution_count": 54,
   "metadata": {},
   "outputs": [],
   "source": [
    "df_uniqueID_sex_month = df.groupby(['Sex','Month']).ID.apply(lambda x: x.nunique())"
   ]
  },
  {
   "cell_type": "code",
   "execution_count": 56,
   "metadata": {},
   "outputs": [
    {
     "data": {
      "text/plain": [
       "Sex     Month\n",
       "Female  1        16\n",
       "        2        12\n",
       "        3        15\n",
       "        4        16\n",
       "        5        15\n",
       "        6        15\n",
       "        7        13\n",
       "        8        10\n",
       "        9        19\n",
       "        10       14\n",
       "        11       15\n",
       "        12       14\n",
       "Male    1        41\n",
       "        2        49\n",
       "        3        52\n",
       "        4        50\n",
       "        5        51\n",
       "        6        53\n",
       "        7        43\n",
       "        8        42\n",
       "        9        38\n",
       "        10       39\n",
       "        11       36\n",
       "        12       33\n",
       "Name: ID, dtype: int64"
      ]
     },
     "execution_count": 56,
     "metadata": {},
     "output_type": "execute_result"
    }
   ],
   "source": [
    "df_uniqueID_sex_month"
   ]
  },
  {
   "cell_type": "code",
   "execution_count": 57,
   "metadata": {},
   "outputs": [
    {
     "data": {
      "text/plain": [
       "Int64Index([1, 2, 3, 4, 5, 6, 7, 8, 9, 10, 11, 12], dtype='int64', name='Month')"
      ]
     },
     "execution_count": 57,
     "metadata": {},
     "output_type": "execute_result"
    }
   ],
   "source": [
    "df_uniqueID_sex_month.Female.index\n",
    "#index確認"
   ]
  },
  {
   "cell_type": "code",
   "execution_count": 58,
   "metadata": {},
   "outputs": [
    {
     "data": {
      "text/plain": [
       "array([16, 12, 15, 16, 15, 15, 13, 10, 19, 14, 15, 14])"
      ]
     },
     "execution_count": 58,
     "metadata": {},
     "output_type": "execute_result"
    }
   ],
   "source": [
    "df_uniqueID_sex_month.Female.values"
   ]
  },
  {
   "cell_type": "code",
   "execution_count": 59,
   "metadata": {},
   "outputs": [
    {
     "data": {
      "text/plain": [
       "\"\\n▼POINT①▼\\n\\n▷dataframeの扱い方\\n\\ndfに対して\\ndf.index : dfのインデックスを取得\\ndf.values : dfの値を取得\\ndf.['X'] : dfのX列の要素を取得\\ndf.X : dfのX列の要素を取得\\n\\n▼POINT②▼\\n\\n▷matplotlibの基本的な使い方\\n\\nplt.plot(xの値, yの値, label='ラベル名', color='線の色')\\nplt.title('タイトル名')\\nplt.xlabel('xラベル名')\\nplt.ylabel('yラベル名')\\nplt.legend(loc='ラベルの位置')\\n\""
      ]
     },
     "execution_count": 59,
     "metadata": {},
     "output_type": "execute_result"
    },
    {
     "data": {
      "image/png": "[encoded data removed]",
      "text/plain": [
       "<Figure size 432x288 with 1 Axes>"
      ]
     },
     "metadata": {
      "needs_background": "light"
     },
     "output_type": "display_data"
    }
   ],
   "source": [
    "plt.plot(df_uniqueID_sex_month.Female.index, df_uniqueID_sex_month.Female.values, label='Female')\n",
    "\n",
    "plt.plot(df_uniqueID_sex_month.Male.index, df_uniqueID_sex_month.Male.values, label='Male')\n",
    "\n",
    "plt.title('Male and Female Number trend')\n",
    "plt.ylim(0, 70)\n",
    "plt.legend(loc='upper right')\n",
    "'''\n",
    "▼POINT①▼\n",
    "\n",
    "▷dataframeの扱い方\n",
    "\n",
    "dfに対して\n",
    "df.index : dfのインデックスを取得\n",
    "df.values : dfの値を取得\n",
    "df.['X'] : dfのX列の要素を取得\n",
    "df.X : dfのX列の要素を取得\n",
    "\n",
    "▼POINT②▼\n",
    "\n",
    "▷matplotlibの基本的な使い方\n",
    "\n",
    "plt.plot(xの値, yの値, label='ラベル名', color='線の色')\n",
    "plt.title('タイトル名')\n",
    "plt.xlabel('xラベル名')\n",
    "plt.ylabel('yラベル名')\n",
    "plt.legend(loc='ラベルの位置')\n",
    "'''"
   ]
  },
  {
   "cell_type": "markdown",
   "metadata": {},
   "source": [
    "### 男性の減少が顕著。売上減少の一因か？"
   ]
  },
  {
   "cell_type": "markdown",
   "metadata": {},
   "source": [
    "## ボトルネック：男性のユーザーの減少＊"
   ]
  },
  {
   "cell_type": "markdown",
   "metadata": {},
   "source": [
    "# お疲れ様でした！今回のハンズオンはここまでです！"
   ]
  },
  {
   "cell_type": "markdown",
   "metadata": {},
   "source": [
    "## 時間があれば...男性ユーザーを購買回数ごとに分析していく"
   ]
  },
  {
   "cell_type": "markdown",
   "metadata": {},
   "source": [
    "## 3.2.2 どうして男性が減少したのか仮説を立てる。新規ユーザーが減少したのではないか？＊"
   ]
  },
  {
   "cell_type": "code",
   "execution_count": null,
   "metadata": {},
   "outputs": [],
   "source": [
    "a = [1,2,3,4,5]"
   ]
  },
  {
   "cell_type": "code",
   "execution_count": null,
   "metadata": {},
   "outputs": [],
   "source": [
    "a"
   ]
  },
  {
   "cell_type": "code",
   "execution_count": null,
   "metadata": {},
   "outputs": [],
   "source": [
    "range(len(a))"
   ]
  },
  {
   "cell_type": "code",
   "execution_count": null,
   "metadata": {},
   "outputs": [],
   "source": [
    "a[3]"
   ]
  },
  {
   "cell_type": "code",
   "execution_count": null,
   "metadata": {},
   "outputs": [],
   "source": [
    "for i in range(len(a)):\n",
    "    print(a[i])\n",
    "    \n",
    "'''\n",
    "▼POINT③▼\n",
    "\n",
    "▷for文 \n",
    "\n",
    "for i in a:\n",
    "    命令文\n",
    "\n",
    "a内の要素をiとして命令文を行い，a内の要素がなくなるまで繰り返し行う。\n",
    "ex)今回はaというリスト内の文字を取得し，iと設定し，printしていく作業をaのリスト全てなくなるまで繰り返す\n",
    "'''"
   ]
  },
  {
   "cell_type": "code",
   "execution_count": null,
   "metadata": {},
   "outputs": [],
   "source": [
    "# 新規を示すダミー変数を作る。その月に初めて購買した人。\n",
    "for i in range(len(df)):\n",
    "    if df.loc[i, 'Frequency'] == 1:\n",
    "        df.loc[i, 'New'] = 1\n",
    "    else:\n",
    "        df.loc[i, 'New'] = 0\n",
    "        \n",
    "'''\n",
    "▼POINT①▼\n",
    "\n",
    "▷dataframeの扱い方\n",
    "\n",
    "dfに対して\n",
    "df.index : dfのインデックスを取得\n",
    "df.values : dfの値を取得\n",
    "df.['X'] : dfのX列の要素を取得\n",
    "df.X : dfのX列の要素を取得\n",
    "\n",
    "▼POINT③▼\n",
    "\n",
    "▷for文 \n",
    "\n",
    "for i in a:\n",
    "    命令文\n",
    "\n",
    "a内の要素をiとして命令文を行い，a内の要素がなくなるまで繰り返し行う。\n",
    "\n",
    "▼POINT④▼\n",
    "\n",
    "▷if条件文\n",
    "\n",
    "if 条件:\n",
    "    条件が真の時，実行する操作\n",
    "else:\n",
    "    それ以外の時に行う操作\n",
    "'''"
   ]
  },
  {
   "cell_type": "code",
   "execution_count": null,
   "metadata": {},
   "outputs": [],
   "source": [
    "# 新規を示すダミー変数の、月ごとの合計値が、新規ユーザー数になる。\n",
    "\n",
    "df.groupby(['Sex','Month']).New.sum()\n",
    "#'Sex'と'Month'という特徴量に対して，性別と月ごとにグループ分けし，グループごとの'New'に対して合計を求める(nunique)\n",
    "#df.groupby(['Sex','Month']).New.sum()はデータフレームの型になっていることに注意！"
   ]
  },
  {
   "cell_type": "code",
   "execution_count": null,
   "metadata": {},
   "outputs": [],
   "source": [
    "plt.title('Male New Visitor trend')\n",
    "plt.ylim(0, 70)\n",
    "plt.plot(df.groupby(['Sex','Month']).New.sum().Male.index, df.groupby(['Sex','Month']).New.sum().Male.values)\n",
    "\n",
    "'''\n",
    "▼POINT①▼\n",
    "\n",
    "▷dataframeの扱い方\n",
    "\n",
    "dfに対して\n",
    "df.index : dfのインデックスを取得\n",
    "df.values : dfの値を取得\n",
    "df.['X'] : dfのX列の要素を取得\n",
    "df.X : dfのX列の要素を取得\n",
    "\n",
    "▼POINT②▼\n",
    "\n",
    "▷matplotlibの基本的な使い方\n",
    "\n",
    "plt.plot(xの値, yの値, label='ラベル名', color='線の色')\n",
    "plt.title('タイトル名')\n",
    "plt.xlabel('xラベル名')\n",
    "plt.ylabel('yラベル名')\n",
    "plt.legend(loc='ラベルの位置')\n",
    "'''"
   ]
  },
  {
   "cell_type": "markdown",
   "metadata": {},
   "source": [
    "### 男性の新規ユーザーがかなり減少している。"
   ]
  },
  {
   "cell_type": "markdown",
   "metadata": {},
   "source": [
    "### （1月に多いのは、1月からデータを取っているため、1月に購入したユーザーはほぼ新規扱いになるからである。）"
   ]
  },
  {
   "cell_type": "markdown",
   "metadata": {},
   "source": [
    "## ボトルネック：男性の新規ユーザーの減少＊"
   ]
  },
  {
   "cell_type": "markdown",
   "metadata": {},
   "source": [
    "## 時間があれば...月ごとの年代客数変化も見ていく。"
   ]
  },
  {
   "cell_type": "markdown",
   "metadata": {},
   "source": [
    "## 3.2.3 月ごとの年代の客数変化"
   ]
  },
  {
   "cell_type": "code",
   "execution_count": null,
   "metadata": {
    "scrolled": true
   },
   "outputs": [],
   "source": [
    "df.groupby(['Ages','Month']).ID.apply(lambda x: x.nunique())"
   ]
  },
  {
   "cell_type": "code",
   "execution_count": null,
   "metadata": {},
   "outputs": [],
   "source": [
    "df_uniqueID_age_month = df.groupby(['Ages','Month']).ID.apply(lambda x: x.nunique())"
   ]
  },
  {
   "cell_type": "code",
   "execution_count": null,
   "metadata": {},
   "outputs": [],
   "source": [
    "plt.title('Ages number trend')\n",
    "plt.ylim(0, 70)\n",
    "ages = [20,30,40,50,60]#ここ微妙\n",
    "for i in ages:\n",
    "    plt.plot(df_uniqueID_age_month[i].index, df_uniqueID_age_month[i].values,label=i)\n",
    "    plt.ylim(0, 20)\n",
    "    plt.xlabel('Month')\n",
    "    plt.ylabel('Numbaer')\n",
    "    plt.legend(loc = 'upper right')"
   ]
  },
  {
   "cell_type": "markdown",
   "metadata": {},
   "source": [
    "### あまりこのデータからはわからない気する"
   ]
  },
  {
   "cell_type": "markdown",
   "metadata": {},
   "source": [
    "## 3.3 購買頻度で顧客を見てみる"
   ]
  },
  {
   "cell_type": "code",
   "execution_count": null,
   "metadata": {
    "scrolled": false
   },
   "outputs": [],
   "source": [
    "df.head()"
   ]
  },
  {
   "cell_type": "code",
   "execution_count": null,
   "metadata": {},
   "outputs": [],
   "source": [
    "# IDでグループかつ、最大値を考えることで、個人の購買頻度がデータに含まれる。→最初からfrequencyがデータとして残ってるってことか。。\n",
    "df_Freq = df.groupby('ID').max()\n",
    "df_Freq.head()"
   ]
  },
  {
   "cell_type": "code",
   "execution_count": null,
   "metadata": {
    "scrolled": true
   },
   "outputs": [],
   "source": [
    "import seaborn as sns\n",
    "# 圧倒的に1回で終わっている人が多い。\n",
    "sns.countplot(df_Freq['Frequency'])\n",
    "plt.title('Frequency')"
   ]
  },
  {
   "cell_type": "code",
   "execution_count": null,
   "metadata": {},
   "outputs": [],
   "source": [
    "# 新規を示すダミー変数を作る。その月に初めて購買した人。\n",
    "for i in range (len(df)):\n",
    "    if df.loc[i, 'Frequency'] == 1:\n",
    "        df.loc[i, 'New'] = 1\n",
    "    else:\n",
    "        df.loc[i, 'New'] = 0"
   ]
  },
  {
   "cell_type": "code",
   "execution_count": null,
   "metadata": {},
   "outputs": [],
   "source": [
    "# １月に両者の値が一致しないのは、1月に2回以上購入した人がいるからである。\n",
    "#割合表示の方がいい気する\n",
    "df_new_visit = df.groupby('Month').sum()\n",
    "\n",
    "plt.plot(df_month_trans.index, df_month_trans['ID'], label = 'All')\n",
    "plt.plot(df_new_visit.index , df_new_visit['New'], label = 'New')\n",
    "plt.title('Number of Transaction trend')\n",
    "plt.ylim(0, 80)\n",
    "plt.legend()"
   ]
  },
  {
   "cell_type": "markdown",
   "metadata": {},
   "source": [
    "## 新規の流入は段々と減っているのは事実。どうして、新規の流入が減っているのだろうか？どうすれば、新規の流入を回復させることが出来るか？"
   ]
  },
  {
   "cell_type": "code",
   "execution_count": null,
   "metadata": {},
   "outputs": [],
   "source": []
  }
 ],
 "metadata": {
  "anaconda-cloud": {},
  "kernelspec": {
   "display_name": "Python 3",
   "language": "python",
   "name": "python3"
  },
  "language_info": {
   "codemirror_mode": {
    "name": "ipython",
    "version": 3
   },
   "file_extension": ".py",
   "mimetype": "text/x-python",
   "name": "python",
   "nbconvert_exporter": "python",
   "pygments_lexer": "ipython3",
   "version": "3.8.2"
  }
 },
 "nbformat": 4,
 "nbformat_minor": 4
}
